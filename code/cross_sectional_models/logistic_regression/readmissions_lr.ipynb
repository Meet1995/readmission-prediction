{
 "cells": [
  {
   "cell_type": "code",
   "execution_count": 46,
   "metadata": {
    "ExecuteTime": {
     "end_time": "2020-05-15T15:39:43.103289Z",
     "start_time": "2020-05-15T15:39:43.099278Z"
    }
   },
   "outputs": [],
   "source": [
    "import numpy as np\n",
    "import pandas as pd\n",
    "import matplotlib.pyplot as plt\n",
    "from scipy.sparse import csr_matrix\n",
    "from sklearn.feature_selection import chi2\n",
    "from sklearn.linear_model import LogisticRegression\n",
    "from sklearn.model_selection import train_test_split\n",
    "from sklearn.metrics import roc_curve, auc, roc_auc_score\n",
    "\n",
    "\n",
    "from pep_modules import patientai as pai"
   ]
  },
  {
   "cell_type": "code",
   "execution_count": 13,
   "metadata": {},
   "outputs": [],
   "source": [
    "def important_chi2events(freq_df, targets_df, flags_col_name):\n",
    "    chi2_scores, p_values = chi2(freq_df, targets_df[flags_col_name])\n",
    "    chi2_df = pd.DataFrame({'event_code': freq_df.columns, 'chi2': chi2_scores, 'p_value': p_values})\n",
    "    sorted_chi2 = chi2_df.sort_values('p_value').reset_index(drop=True)\n",
    "    imp_events = sorted_chi2[sorted_chi2['p_value']<=0.05]['event_code'].tolist()\n",
    "    return imp_events\n",
    "\n",
    "def plot_roc_curve(y_true, y_score, roc_auc_score, title):\n",
    "    fpr, tpr, _ = roc_curve(y_true, y_score)\n",
    "    plt.figure(figsize=(10,7))\n",
    "    lw = 2\n",
    "    plt.plot(fpr, tpr, color='darkorange',\n",
    "             lw=lw, label='ROC curve (area = %0.2f)' % roc_auc_score)\n",
    "    plt.plot([0, 1], [0, 1], color='navy', lw=lw, linestyle='--')\n",
    "    plt.xlim([0.0, 1.0])\n",
    "    plt.ylim([0.0, 1.05])\n",
    "    plt.xlabel('False Positive Rate')\n",
    "    plt.ylabel('True Positive Rate')\n",
    "    plt.title(title)\n",
    "    plt.legend(loc=\"lower right\")\n",
    "    plt.show()"
   ]
  },
  {
   "cell_type": "code",
   "execution_count": 3,
   "metadata": {
    "ExecuteTime": {
     "end_time": "2020-05-15T15:36:24.031845Z",
     "start_time": "2020-05-15T15:36:21.924242Z"
    },
    "scrolled": true
   },
   "outputs": [],
   "source": [
    "df_new_seq = pd.read_pickle(r'../data/pat_journey_rx_px_dx.pkl')"
   ]
  },
  {
   "cell_type": "code",
   "execution_count": 4,
   "metadata": {
    "ExecuteTime": {
     "end_time": "2020-05-15T15:36:24.111127Z",
     "start_time": "2020-05-15T15:36:24.053906Z"
    }
   },
   "outputs": [
    {
     "data": {
      "text/plain": [
       "((4622362, 8), 45980)"
      ]
     },
     "execution_count": 4,
     "metadata": {},
     "output_type": "execute_result"
    }
   ],
   "source": [
    "df_new_seq.shape, df_new_seq.pat_id.nunique()"
   ]
  },
  {
   "cell_type": "code",
   "execution_count": 5,
   "metadata": {
    "ExecuteTime": {
     "end_time": "2020-05-15T15:36:24.138200Z",
     "start_time": "2020-05-15T15:36:24.132183Z"
    },
    "cell_style": "split"
   },
   "outputs": [
    {
     "data": {
      "text/plain": [
       "pat_id                int64\n",
       "ICD9_CODE            object\n",
       "seq_num_modified    float64\n",
       "type                 object\n",
       "seq_num_final         int64\n",
       "cohort               object\n",
       "switch_flag           int64\n",
       "HADM_ID_lst          object\n",
       "dtype: object"
      ]
     },
     "execution_count": 5,
     "metadata": {},
     "output_type": "execute_result"
    }
   ],
   "source": [
    "df_new_seq.dtypes"
   ]
  },
  {
   "cell_type": "code",
   "execution_count": 6,
   "metadata": {
    "ExecuteTime": {
     "end_time": "2020-05-15T15:36:24.550834Z",
     "start_time": "2020-05-15T15:36:24.162765Z"
    },
    "cell_style": "split"
   },
   "outputs": [
    {
     "data": {
      "text/plain": [
       "13227"
      ]
     },
     "execution_count": 6,
     "metadata": {},
     "output_type": "execute_result"
    }
   ],
   "source": [
    "df_new_seq.ICD9_CODE.nunique()"
   ]
  },
  {
   "cell_type": "code",
   "execution_count": 7,
   "metadata": {
    "ExecuteTime": {
     "end_time": "2020-05-15T15:36:24.585427Z",
     "start_time": "2020-05-15T15:36:24.568381Z"
    }
   },
   "outputs": [
    {
     "data": {
      "text/html": [
       "<div>\n",
       "<style scoped>\n",
       "    .dataframe tbody tr th:only-of-type {\n",
       "        vertical-align: middle;\n",
       "    }\n",
       "\n",
       "    .dataframe tbody tr th {\n",
       "        vertical-align: top;\n",
       "    }\n",
       "\n",
       "    .dataframe thead th {\n",
       "        text-align: right;\n",
       "    }\n",
       "</style>\n",
       "<table border=\"1\" class=\"dataframe\">\n",
       "  <thead>\n",
       "    <tr style=\"text-align: right;\">\n",
       "      <th></th>\n",
       "      <th>pat_id</th>\n",
       "      <th>ICD9_CODE</th>\n",
       "      <th>seq_num_modified</th>\n",
       "      <th>type</th>\n",
       "      <th>seq_num_final</th>\n",
       "      <th>cohort</th>\n",
       "      <th>switch_flag</th>\n",
       "      <th>HADM_ID_lst</th>\n",
       "    </tr>\n",
       "  </thead>\n",
       "  <tbody>\n",
       "    <tr>\n",
       "      <th>0</th>\n",
       "      <td>2</td>\n",
       "      <td>NEO*IV*Gentamicin</td>\n",
       "      <td>1.0</td>\n",
       "      <td>rx</td>\n",
       "      <td>1</td>\n",
       "      <td>c1</td>\n",
       "      <td>0</td>\n",
       "      <td>[163353]</td>\n",
       "    </tr>\n",
       "    <tr>\n",
       "      <th>1</th>\n",
       "      <td>2</td>\n",
       "      <td>Syringe (Neonatal) *D5W*</td>\n",
       "      <td>2.0</td>\n",
       "      <td>rx</td>\n",
       "      <td>2</td>\n",
       "      <td>c1</td>\n",
       "      <td>0</td>\n",
       "      <td>[163353]</td>\n",
       "    </tr>\n",
       "    <tr>\n",
       "      <th>2</th>\n",
       "      <td>2</td>\n",
       "      <td>Ampicillin Sodium</td>\n",
       "      <td>3.0</td>\n",
       "      <td>rx</td>\n",
       "      <td>3</td>\n",
       "      <td>c1</td>\n",
       "      <td>0</td>\n",
       "      <td>[163353]</td>\n",
       "    </tr>\n",
       "    <tr>\n",
       "      <th>3</th>\n",
       "      <td>2</td>\n",
       "      <td>Send 500mg Vial</td>\n",
       "      <td>4.0</td>\n",
       "      <td>rx</td>\n",
       "      <td>4</td>\n",
       "      <td>c1</td>\n",
       "      <td>0</td>\n",
       "      <td>[163353]</td>\n",
       "    </tr>\n",
       "    <tr>\n",
       "      <th>4</th>\n",
       "      <td>2</td>\n",
       "      <td>9955.0</td>\n",
       "      <td>1.0</td>\n",
       "      <td>px</td>\n",
       "      <td>5</td>\n",
       "      <td>c1</td>\n",
       "      <td>0</td>\n",
       "      <td>[163353]</td>\n",
       "    </tr>\n",
       "  </tbody>\n",
       "</table>\n",
       "</div>"
      ],
      "text/plain": [
       "   pat_id                 ICD9_CODE  seq_num_modified type  seq_num_final  \\\n",
       "0       2         NEO*IV*Gentamicin               1.0   rx              1   \n",
       "1       2  Syringe (Neonatal) *D5W*               2.0   rx              2   \n",
       "2       2         Ampicillin Sodium               3.0   rx              3   \n",
       "3       2           Send 500mg Vial               4.0   rx              4   \n",
       "4       2                    9955.0               1.0   px              5   \n",
       "\n",
       "  cohort  switch_flag HADM_ID_lst  \n",
       "0     c1            0    [163353]  \n",
       "1     c1            0    [163353]  \n",
       "2     c1            0    [163353]  \n",
       "3     c1            0    [163353]  \n",
       "4     c1            0    [163353]  "
      ]
     },
     "execution_count": 7,
     "metadata": {},
     "output_type": "execute_result"
    }
   ],
   "source": [
    "df_new_seq.head()"
   ]
  },
  {
   "cell_type": "code",
   "execution_count": 8,
   "metadata": {
    "ExecuteTime": {
     "end_time": "2020-05-15T15:36:24.733922Z",
     "start_time": "2020-05-15T15:36:24.603041Z"
    }
   },
   "outputs": [
    {
     "data": {
      "text/plain": [
       "count    45980.000000\n",
       "mean       100.529839\n",
       "std        114.488159\n",
       "min          1.000000\n",
       "25%         28.000000\n",
       "50%         72.000000\n",
       "75%        129.000000\n",
       "max       2285.000000\n",
       "Name: seq_num_final, dtype: float64"
      ]
     },
     "execution_count": 8,
     "metadata": {},
     "output_type": "execute_result"
    }
   ],
   "source": [
    "# journey lengths\n",
    "df_new_seq.groupby('pat_id')['seq_num_final'].max().describe()"
   ]
  },
  {
   "cell_type": "code",
   "execution_count": 9,
   "metadata": {
    "ExecuteTime": {
     "end_time": "2020-05-15T15:36:33.324125Z",
     "start_time": "2020-05-15T15:36:24.747926Z"
    },
    "scrolled": true
   },
   "outputs": [],
   "source": [
    "freq_df = pai.get_frequencies(df_new_seq,'pat_id','ICD9_CODE')"
   ]
  },
  {
   "cell_type": "code",
   "execution_count": 31,
   "metadata": {
    "ExecuteTime": {
     "end_time": "2020-05-15T15:36:58.363389Z",
     "start_time": "2020-05-15T15:36:34.083787Z"
    }
   },
   "outputs": [],
   "source": [
    "freq_df = freq_df.fillna(0)"
   ]
  },
  {
   "cell_type": "code",
   "execution_count": 32,
   "metadata": {
    "ExecuteTime": {
     "end_time": "2020-05-15T15:37:01.065950Z",
     "start_time": "2020-05-15T15:36:59.256923Z"
    }
   },
   "outputs": [],
   "source": [
    "targets = pd.read_pickle(r'../data/target.pkl')"
   ]
  },
  {
   "cell_type": "code",
   "execution_count": 33,
   "metadata": {
    "ExecuteTime": {
     "end_time": "2020-05-15T15:37:05.297472Z",
     "start_time": "2020-05-15T15:37:02.011000Z"
    }
   },
   "outputs": [],
   "source": [
    "imp_events = important_chi2events(freq_df, targets, 'switch_flag')"
   ]
  },
  {
   "cell_type": "code",
   "execution_count": 34,
   "metadata": {
    "ExecuteTime": {
     "end_time": "2020-05-15T15:37:05.965352Z",
     "start_time": "2020-05-15T15:37:05.516575Z"
    }
   },
   "outputs": [],
   "source": [
    "df_imp = freq_df[imp_events]"
   ]
  },
  {
   "cell_type": "code",
   "execution_count": 40,
   "metadata": {
    "ExecuteTime": {
     "end_time": "2020-05-15T15:38:39.210916Z",
     "start_time": "2020-05-15T15:38:37.944411Z"
    }
   },
   "outputs": [],
   "source": [
    "x_train_static = pd.read_pickle(r'../data/train_static.pkl')\n",
    "x_val_static = pd.read_pickle(r'../data/val_static.pkl')\n",
    "x_test_static = pd.read_pickle(r'../data/test_static.pkl')\n",
    "\n",
    "X1, X_test, y1, y_test = train_test_split(df_imp, targets, test_size=0.20, random_state=42)\n",
    "X_train, X_val, y_train, y_val = train_test_split(X1, y1, test_size=0.15, random_state=42)"
   ]
  },
  {
   "cell_type": "markdown",
   "metadata": {},
   "source": [
    "# Count and Provided Features"
   ]
  },
  {
   "cell_type": "code",
   "execution_count": 48,
   "metadata": {},
   "outputs": [],
   "source": [
    "x_trn = np.concatenate([x_train_static.values, X_train.values], axis=1)\n",
    "x_val = np.concatenate([x_val_static.values, X_val.values], axis=1)\n",
    "x_tst = np.concatenate([x_test_static.values, X_test.values], axis=1)"
   ]
  },
  {
   "cell_type": "code",
   "execution_count": 52,
   "metadata": {
    "ExecuteTime": {
     "end_time": "2020-05-15T15:38:40.906603Z",
     "start_time": "2020-05-15T15:38:39.670252Z"
    }
   },
   "outputs": [],
   "source": [
    "X_train_sparse = csr_matrix(x_trn)\n",
    "X_val_sparse = csr_matrix(x_val)\n",
    "X_test_sparse = csr_matrix(x_tst)"
   ]
  },
  {
   "cell_type": "code",
   "execution_count": 51,
   "metadata": {
    "ExecuteTime": {
     "end_time": "2020-05-15T15:38:41.157347Z",
     "start_time": "2020-05-15T15:38:41.148313Z"
    }
   },
   "outputs": [
    {
     "data": {
      "text/plain": [
       "((31266, 1921), (5518, 1921), (9196, 1921))"
      ]
     },
     "execution_count": 51,
     "metadata": {},
     "output_type": "execute_result"
    }
   ],
   "source": [
    "x_trn.shape, x_val.shape, x_tst.shape"
   ]
  },
  {
   "cell_type": "code",
   "execution_count": 53,
   "metadata": {
    "ExecuteTime": {
     "end_time": "2020-05-15T15:38:47.196872Z",
     "start_time": "2020-05-15T15:38:42.534903Z"
    }
   },
   "outputs": [
    {
     "data": {
      "text/plain": [
       "LogisticRegression(max_iter=2000, random_state=99, solver='saga', tol=0.001)"
      ]
     },
     "execution_count": 53,
     "metadata": {},
     "output_type": "execute_result"
    }
   ],
   "source": [
    "classifier = LogisticRegression(random_state=99, solver='saga', max_iter=2000, tol=0.001)\n",
    "classifier.fit(X_train_sparse, y_train['switch_flag'])"
   ]
  },
  {
   "cell_type": "code",
   "execution_count": 54,
   "metadata": {
    "ExecuteTime": {
     "end_time": "2020-05-15T15:38:48.325136Z",
     "start_time": "2020-05-15T15:38:48.314110Z"
    }
   },
   "outputs": [],
   "source": [
    "y_train_pred = classifier.predict_proba(X_train_sparse)[:,1]\n",
    "y_val_pred = classifier.predict_proba(X_val_sparse)[:,1]\n",
    "y_test_pred = classifier.predict_proba(X_test_sparse)[:,1]"
   ]
  },
  {
   "cell_type": "code",
   "execution_count": 55,
   "metadata": {
    "ExecuteTime": {
     "end_time": "2020-05-15T15:38:51.613396Z",
     "start_time": "2020-05-15T15:38:51.600363Z"
    }
   },
   "outputs": [
    {
     "name": "stdout",
     "output_type": "stream",
     "text": [
      "Train AUC 0.7887558203156557\n"
     ]
    }
   ],
   "source": [
    "print('Train AUC',roc_auc_score(y_train['switch_flag'], y_train_pred))"
   ]
  },
  {
   "cell_type": "code",
   "execution_count": 56,
   "metadata": {
    "ExecuteTime": {
     "end_time": "2020-05-15T15:38:52.771254Z",
     "start_time": "2020-05-15T15:38:52.758722Z"
    }
   },
   "outputs": [
    {
     "name": "stdout",
     "output_type": "stream",
     "text": [
      "Val AUC 0.6439139221469989\n"
     ]
    }
   ],
   "source": [
    "print('Val AUC',roc_auc_score(y_val['switch_flag'], y_val_pred))"
   ]
  },
  {
   "cell_type": "code",
   "execution_count": 57,
   "metadata": {
    "ExecuteTime": {
     "end_time": "2020-05-15T15:38:54.442094Z",
     "start_time": "2020-05-15T15:38:54.435074Z"
    }
   },
   "outputs": [
    {
     "name": "stdout",
     "output_type": "stream",
     "text": [
      "Test AUC 0.7026411036826999\n"
     ]
    }
   ],
   "source": [
    "print('Test AUC',roc_auc_score(y_test['switch_flag'], y_test_pred))"
   ]
  },
  {
   "cell_type": "code",
   "execution_count": 58,
   "metadata": {
    "ExecuteTime": {
     "end_time": "2020-05-15T15:41:26.581717Z",
     "start_time": "2020-05-15T15:41:26.403141Z"
    }
   },
   "outputs": [
    {
     "data": {
      "image/png": "[encoded data removed]",
      "text/plain": [
       "<Figure size 720x504 with 1 Axes>"
      ]
     },
     "metadata": {
      "needs_background": "light"
     },
     "output_type": "display_data"
    }
   ],
   "source": [
    "plot_roc_curve(y_test['switch_flag'], y_test_pred, 0.70, 'ROC curve: Test Data, Logistic Regression')"
   ]
  },
  {
   "cell_type": "markdown",
   "metadata": {},
   "source": [
    "# Only Count"
   ]
  },
  {
   "cell_type": "code",
   "execution_count": 59,
   "metadata": {
    "ExecuteTime": {
     "end_time": "2020-05-15T15:38:40.906603Z",
     "start_time": "2020-05-15T15:38:39.670252Z"
    }
   },
   "outputs": [],
   "source": [
    "X_train_sparse = csr_matrix(X_train)\n",
    "X_val_sparse = csr_matrix(X_val)\n",
    "X_test_sparse = csr_matrix(X_test)"
   ]
  },
  {
   "cell_type": "code",
   "execution_count": 60,
   "metadata": {
    "ExecuteTime": {
     "end_time": "2020-05-15T15:38:41.157347Z",
     "start_time": "2020-05-15T15:38:41.148313Z"
    }
   },
   "outputs": [
    {
     "data": {
      "text/plain": [
       "((31266, 1739), (5518, 1739), (9196, 1739))"
      ]
     },
     "execution_count": 60,
     "metadata": {},
     "output_type": "execute_result"
    }
   ],
   "source": [
    "X_train.shape, X_val.shape, X_test.shape"
   ]
  },
  {
   "cell_type": "code",
   "execution_count": 61,
   "metadata": {
    "ExecuteTime": {
     "end_time": "2020-05-15T15:38:47.196872Z",
     "start_time": "2020-05-15T15:38:42.534903Z"
    }
   },
   "outputs": [
    {
     "data": {
      "text/plain": [
       "LogisticRegression(max_iter=2000, random_state=99, solver='saga', tol=0.001)"
      ]
     },
     "execution_count": 61,
     "metadata": {},
     "output_type": "execute_result"
    }
   ],
   "source": [
    "classifier = LogisticRegression(random_state=99, solver='saga', max_iter=2000, tol=0.001)\n",
    "classifier.fit(X_train_sparse, y_train['switch_flag'])"
   ]
  },
  {
   "cell_type": "code",
   "execution_count": 62,
   "metadata": {
    "ExecuteTime": {
     "end_time": "2020-05-15T15:38:48.325136Z",
     "start_time": "2020-05-15T15:38:48.314110Z"
    }
   },
   "outputs": [],
   "source": [
    "y_train_pred = classifier.predict_proba(X_train_sparse)[:,1]\n",
    "y_val_pred = classifier.predict_proba(X_val_sparse)[:,1]\n",
    "y_test_pred = classifier.predict_proba(X_test_sparse)[:,1]"
   ]
  },
  {
   "cell_type": "code",
   "execution_count": 63,
   "metadata": {
    "ExecuteTime": {
     "end_time": "2020-05-15T15:38:51.613396Z",
     "start_time": "2020-05-15T15:38:51.600363Z"
    }
   },
   "outputs": [
    {
     "name": "stdout",
     "output_type": "stream",
     "text": [
      "Train AUC 0.6084123462822897\n"
     ]
    }
   ],
   "source": [
    "print('Train AUC',roc_auc_score(y_train['switch_flag'], y_train_pred))"
   ]
  },
  {
   "cell_type": "code",
   "execution_count": 64,
   "metadata": {
    "ExecuteTime": {
     "end_time": "2020-05-15T15:38:52.771254Z",
     "start_time": "2020-05-15T15:38:52.758722Z"
    }
   },
   "outputs": [
    {
     "name": "stdout",
     "output_type": "stream",
     "text": [
      "Val AUC 0.5650075863319215\n"
     ]
    }
   ],
   "source": [
    "print('Val AUC',roc_auc_score(y_val['switch_flag'], y_val_pred))"
   ]
  },
  {
   "cell_type": "code",
   "execution_count": 65,
   "metadata": {
    "ExecuteTime": {
     "end_time": "2020-05-15T15:38:54.442094Z",
     "start_time": "2020-05-15T15:38:54.435074Z"
    }
   },
   "outputs": [
    {
     "name": "stdout",
     "output_type": "stream",
     "text": [
      "Test AUC 0.5490700033818059\n"
     ]
    }
   ],
   "source": [
    "print('Test AUC',roc_auc_score(y_test['switch_flag'], y_test_pred))"
   ]
  },
  {
   "cell_type": "code",
   "execution_count": 66,
   "metadata": {
    "ExecuteTime": {
     "end_time": "2020-05-15T15:41:26.581717Z",
     "start_time": "2020-05-15T15:41:26.403141Z"
    }
   },
   "outputs": [
    {
     "data": {
      "image/png": "[encoded data removed]",
      "text/plain": [
       "<Figure size 720x504 with 1 Axes>"
      ]
     },
     "metadata": {
      "needs_background": "light"
     },
     "output_type": "display_data"
    }
   ],
   "source": [
    "plot_roc_curve(y_test['switch_flag'], y_test_pred, 0.70, 'ROC curve: Test Data, Logistic Regression')"
   ]
  },
  {
   "cell_type": "code",
   "execution_count": null,
   "metadata": {},
   "outputs": [],
   "source": []
  }
 ],
 "metadata": {
  "kernelspec": {
   "display_name": "tfgpu",
   "language": "python",
   "name": "tfgpu"
  },
  "language_info": {
   "codemirror_mode": {
    "name": "ipython",
    "version": 3
   },
   "file_extension": ".py",
   "mimetype": "text/x-python",
   "name": "python",
   "nbconvert_exporter": "python",
   "pygments_lexer": "ipython3",
   "version": "3.7.8"
  },
  "toc": {
   "base_numbering": 1,
   "nav_menu": {},
   "number_sections": true,
   "sideBar": true,
   "skip_h1_title": false,
   "title_cell": "Table of Contents",
   "title_sidebar": "Contents",
   "toc_cell": false,
   "toc_position": {},
   "toc_section_display": true,
   "toc_window_display": false
  },
  "varInspector": {
   "cols": {
    "lenName": 16,
    "lenType": 16,
    "lenVar": 40
   },
   "kernels_config": {
    "python": {
     "delete_cmd_postfix": "",
     "delete_cmd_prefix": "del ",
     "library": "var_list.py",
     "varRefreshCmd": "print(var_dic_list())"
    },
    "r": {
     "delete_cmd_postfix": ") ",
     "delete_cmd_prefix": "rm(",
     "library": "var_list.r",
     "varRefreshCmd": "cat(var_dic_list()) "
    }
   },
   "types_to_exclude": [
    "module",
    "function",
    "builtin_function_or_method",
    "instance",
    "_Feature"
   ],
   "window_display": false
  }
 },
 "nbformat": 4,
 "nbformat_minor": 4
}
