{
 "cells": [
  {
   "cell_type": "code",
   "execution_count": 1,
   "metadata": {},
   "outputs": [
    {
     "data": {
      "text/html": [
       "<style scoped>\n",
       "  .ansiout {\n",
       "    display: block;\n",
       "    unicode-bidi: embed;\n",
       "    white-space: pre-wrap;\n",
       "    word-wrap: break-word;\n",
       "    word-break: break-all;\n",
       "    font-family: \"Source Code Pro\", \"Menlo\", monospace;;\n",
       "    font-size: 13px;\n",
       "    color: #555;\n",
       "    margin-left: 4px;\n",
       "    line-height: 19px;\n",
       "  }\n",
       "</style>\n",
       "<div class=\"ansiout\">/databricks/python/lib/python3.7/site-packages/scipy/sparse/sparsetools.py:21: DeprecationWarning: `scipy.sparse.sparsetools` is deprecated!\n",
       "scipy.sparse.sparsetools is a private module for scipy.sparse, and should not be used.\n",
       "  _deprecated()\n",
       "</div>"
      ]
     },
     "metadata": {},
     "output_type": "display_data"
    }
   ],
   "source": [
    "# -*- coding: utf-8 -*-\n",
    "\"\"\"\n",
    "Created on Tue Sep  3 13:49:37 2019\n",
    "\n",
    "@author: mg21929\n",
    "\"\"\"\n",
    "import pandas as pd\n",
    "import numpy as np\n",
    "from gensim.models import Word2Vec\n",
    "import matplotlib.pyplot as plt\n",
    "import tensorflow as tf\n",
    "from tensorflow.keras.models import Model\n",
    "from tensorflow.keras.layers import Input, Conv2D, MaxPooling2D, Flatten, Dense, Dropout, concatenate\n",
    "from tensorflow.keras.optimizers import Adam\n",
    "\n",
    "\n",
    "class patientai:\n",
    "    '''\n",
    "    df: Dataframe on which analysis has to be done. It should have only the following columns:\n",
    "\n",
    "        pat_id_col         : name of the column containing patient ids.\n",
    "\n",
    "        event_col           : name of the column containing events.\n",
    "\n",
    "        n_days_from_anchor : name of the column containing number of days the event occured from the anchor date.\n",
    "\n",
    "        switch_flag        : name of the column containing switch flag.\n",
    "\n",
    "        cohort             : name of the column containing cohort info.\n",
    "    '''\n",
    "    def __init__(self, df, pat_id_col, event_col, n_days_from_anchor, switch_flag, cohort):\n",
    "        self.cohort = cohort\n",
    "        self.cohort_name = df[cohort][0:1].tolist()[0]\n",
    "        self.pat_id_col = pat_id_col\n",
    "        self.event_col = event_col\n",
    "        self.n_days_from_anchor = n_days_from_anchor\n",
    "        self.switch_flag = switch_flag\n",
    "        self.df = df.drop([cohort] , axis='columns')\n",
    "        self.df[pat_id_col] = df[pat_id_col].astype(np.int64)\n",
    "        self.events = list(df[event_col].unique())\n",
    "        self.events.sort()\n",
    "        self.max_time_from_anchor = max(df[n_days_from_anchor])\n",
    "\n",
    "\n",
    "\n",
    "    def get_target(self):\n",
    "\n",
    "        def func(a_0,a_1):\n",
    "            if a_0>a_1:\n",
    "                k = 0\n",
    "            else:\n",
    "                k = 1\n",
    "            return k\n",
    "        df_temp = self.df.copy()\n",
    "        df_temp = df_temp.drop([self.event_col,self.n_days_from_anchor] , axis='columns')\n",
    "        y = df_temp.groupby([self.pat_id_col,self.switch_flag])\n",
    "        del df_temp\n",
    "        df_temp = pd.DataFrame(y.size(),columns=['Count']).reset_index()\n",
    "        df_temp = df_temp.drop(['Count'] , axis='columns')\n",
    "        df_temp = df_temp.sort_values([self.pat_id_col])\n",
    "        df_temp.rename(columns = {self.switch_flag:'switch_flag',self.pat_id_col:'pat_id'}, inplace = True)\n",
    "        return df_temp\n",
    "\n",
    "    def get_crossectional_data(self, marker_time):\n",
    "        '''\n",
    "        marker_time: time in days at which a marker should be placed in the patient journey\n",
    "        '''\n",
    "        self.marker_time = marker_time\n",
    "        df_temp = self.df.copy()\n",
    "        df_temp = df_temp.drop([self.switch_flag] , axis='columns')\n",
    "        df_temp = df_temp.sort_values([self.pat_id_col,self.n_days_from_anchor])\n",
    "        grps = df_temp.groupby([self.pat_id_col])\n",
    "        journey_list=[]\n",
    "        time_list=[]\n",
    "        pat_id_list=[]\n",
    "        for grp in grps:\n",
    "            journey_list.append(grp[1][self.event_col].tolist())\n",
    "            time_list.append(grp[1][self.n_days_from_anchor].tolist())\n",
    "            pat_id_list.append(grp[0])\n",
    "        df_temp=pd.DataFrame(columns = ['pat_id','journey','event_day'])\n",
    "        df_temp['pat_id']=pat_id_list\n",
    "        df_temp['journey']=journey_list\n",
    "        df_temp['event_day']=time_list\n",
    "\n",
    "        def get_marker_indices(days,l):\n",
    "            indices=[]\n",
    "            for i in range(len(l)-1):\n",
    "                if l[i+1]//days != l[i]//days:\n",
    "                    indices.append(i+1)\n",
    "            return indices\n",
    "\n",
    "        def add_markers(indices,lst):\n",
    "            l = lst.copy()\n",
    "            k=0\n",
    "            for i in range(len(indices)-1):\n",
    "                l.insert(indices[i]+k,'marker')\n",
    "                k=k+1\n",
    "            return l\n",
    "\n",
    "        def add_markers_2(journey, days, marker_time):\n",
    "            marked_journey = []\n",
    "            k = 0\n",
    "            for i in range(len(journey)):\n",
    "                delta = days[i]-k\n",
    "                k = days[i]\n",
    "                if delta>= marker_time:\n",
    "                    marker_lst = ['marker']*int(delta/marker_time)\n",
    "                    marked_journey = marked_journey + marker_lst\n",
    "                    marked_journey.append(journey[i])\n",
    "                else:\n",
    "                    marked_journey.append(journey[i])\n",
    "            return marked_journey\n",
    "\n",
    "        df_temp['indices'] = df_temp.apply(lambda x: get_marker_indices(self.marker_time,x['event_day']),axis=1)\n",
    "        df_temp['marked_journey'] = df_temp.apply(lambda x: add_markers(x['indices'],x['journey']),axis=1)\n",
    "        df_temp['marked_journey_2'] = df_temp.apply(lambda x: add_markers_2(x['journey'],x['event_day'],self.marker_time),axis=1)\n",
    "\n",
    "        return df_temp\n",
    "\n",
    "    @staticmethod\n",
    "    def train_word2vec(corpus, size = 200, epochs = 50, train_incrementally=False):\n",
    "        \"\"\"\n",
    "        corpus is a list of lists with each list being a tokenized sentence.\n",
    "        If training incrementally size is fixed to 200\n",
    "        \"\"\"\n",
    "\n",
    "        if train_incrementally:\n",
    "            data= corpus\n",
    "            model_new = Word2Vec(min_count=1,size=size,window=4, iter = epochs)# iter == epochs\n",
    "            model_new.build_vocab(data)\n",
    "            model_new.intersect_word2vec_format('pubmed2018_w2v_200D.bin',binary=True,lockf=0.0)\n",
    "            model_new.train(data,total_words=model_new.corpus_count,epochs=model_new.epochs)\n",
    "        else:\n",
    "            data= corpus\n",
    "            model_new = Word2Vec(min_count=1,size=size,window=4, iter = epochs)# iter == epochs\n",
    "            model_new.build_vocab(data)\n",
    "            model_new.train(data,total_words=model_new.corpus_count,epochs=model_new.epochs)\n",
    "        return model_new\n",
    "\n",
    "    @staticmethod\n",
    "    def get_deepr_tensor(marked_journey_list, loaded_word2vec, n_events):\n",
    "        '''\n",
    "        marked_journey_list : list of events\n",
    "\n",
    "        loaded_word2vec     : word2vec model trained on the corpus containing the events present in the journey\n",
    "\n",
    "        n_events            : Number of events from the anchor date to be considered for making the image\n",
    "        '''\n",
    "        len_journey = len(marked_journey_list)\n",
    "        word2vec_dim = loaded_word2vec.vector_size\n",
    "        if len_journey<n_events:\n",
    "            a=loaded_word2vec.wv[marked_journey_list].T\n",
    "            zeros = np.zeros((word2vec_dim,(n_events-len_journey)))\n",
    "            arr = np.concatenate((a,zeros),axis = 1)\n",
    "        else:\n",
    "            arr = loaded_word2vec.wv[marked_journey_list[:n_events]].T\n",
    "        return arr[:,:,np.newaxis]\n",
    "\n",
    "    @staticmethod\n",
    "    def get_deepr_batch(df_crossectional, col_name, df_target, switch_flag_col_name, pat_id_col_name_target, batch_size, loaded_word2vec, n_events):\n",
    "        \"\"\"\n",
    "        df_crossectional should have a column 'pat_id' and df_target should have columns\n",
    "        named 'switch_flag & pat_id'.The columns will be present by default if dataframes are generated\n",
    "        by using methods of ProcessCohortData class.\n",
    "\n",
    "        df_crossectional    : Dataframe containing the journey as one of the columns\n",
    "\n",
    "        col_name            : Name of the column containing the patient journey\n",
    "\n",
    "        df_target           : Dataframe containing switch flag\n",
    "\n",
    "        loaded_word2vec     : word2vec model trained on the corpus containing the events present in the journey\n",
    "\n",
    "        n_events            : Number of events from the anchor date to be considered for making the image\n",
    "        \"\"\"\n",
    "        pat_ids = np.random.choice(df_crossectional['pat_id'],batch_size, replace=False)\n",
    "        y = np.array(df_target[df_target[pat_id_col_name_target].isin(pat_ids)][switch_flag_col_name])\n",
    "        x = df_crossectional[df_crossectional['pat_id'].isin(pat_ids)]\n",
    "        Journey_lists = x[col_name].tolist()\n",
    "        arr_list = []\n",
    "        for i in range(len(Journey_lists)):\n",
    "            arr_list.append(patientai.get_deepr_tensor(Journey_lists[i], loaded_word2vec, n_events))\n",
    "        return np.array(arr_list),y,x\n",
    "\n",
    "    @staticmethod\n",
    "    def get_patimg2d_tensor(event_dict,t_max,journey_list,journey_event_time_list,agg_level = 14, show_image = False):\n",
    "        p = [journey_list,journey_event_time_list]\n",
    "        array = np.zeros((t_max, len(event_dict)))\n",
    "\n",
    "        for i in range(len(p[0])):\n",
    "            event = p[0][i]\n",
    "            time = p[1][i]\n",
    "            array[time-1][event_dict[event]] = 1\n",
    "\n",
    "        n_iter = t_max/agg_level\n",
    "        if t_max%agg_level != 0:\n",
    "            img = np.zeros((int(n_iter)+1,np.shape(array)[1]))\n",
    "            for i in range(int(n_iter)):\n",
    "                img[i] = np.sum(array[i*agg_level:(i+1)*agg_level],axis=0)\n",
    "            img[i+1] = np.sum(array[(i+1)*agg_level:],axis=0)\n",
    "        else:\n",
    "            img = np.zeros((int(n_iter),np.shape(array)[1]))\n",
    "            for i in range(int(n_iter)):\n",
    "                img[i] = np.sum(array[i*agg_level:(i+1)*agg_level],axis=0)\n",
    "\n",
    "        if show_image:\n",
    "            plt.figure()\n",
    "            plt.imshow(img)\n",
    "            plt.show()\n",
    "        return array, img[:,:,np.newaxis]\n",
    "\n",
    "    @staticmethod\n",
    "    def get_patimg2d_batch(df_crossectional, col_name, event_day_col, df_target, switch_flag_col_name, pat_id_col_name_target, batch_size,event_dict,t_max,agg_level=14):\n",
    "        \"\"\"\n",
    "        df_crossectional should have a column 'pat_id' and df_target should have columns\n",
    "        named 'switch_flag & pat_id'.The columns will be present by default if dataframes are generated\n",
    "        by using methods of ProcessCohortData class.\n",
    "\n",
    "        df_crossectional    : Dataframe containing the journey as one of the columns\n",
    "\n",
    "        col_name            : Name of the column containing the patient journey\n",
    "\n",
    "        event_day_col       : Name of the column containing journey events time from the anchor date for each patient\n",
    "\n",
    "        df_target           : Dataframe containing switch flag\n",
    "\n",
    "        event_dict         : Dictionary mapping events to the columns\n",
    "\n",
    "        agg_level           : Aggregation level in days\n",
    "\n",
    "        t_max               : Max time in days from the anchor date\n",
    "        \"\"\"\n",
    "        pat_ids = np.random.choice(df_crossectional['pat_id'],batch_size, replace=False)\n",
    "        y = np.array(df_target[df_target[pat_id_col_name_target].isin(pat_ids)][switch_flag_col_name])\n",
    "        x = df_crossectional[df_crossectional['pat_id'].isin(pat_ids)]\n",
    "        Journey_lists = x[col_name].tolist()\n",
    "        events_day_lists = x[event_day_col].tolist()\n",
    "\n",
    "        arr_list = []\n",
    "        for i in range(len(Journey_lists)):\n",
    "            arr = patientai.get_patimg2d_tensor(event_dict,t_max,Journey_lists[i],events_day_lists[i],agg_level)[1]\n",
    "            arr_list.append(arr)\n",
    "        return np.array(arr_list),y,pat_ids\n",
    "\n",
    "    @staticmethod\n",
    "    def get_patimg3d_tensor(event_dict, t_max, journey_list, journey_event_time_list, word2vec, agg_level = 14):\n",
    "        word2vec_dim = word2vec.vector_size\n",
    "        p = [journey_list,journey_event_time_list]\n",
    "        array = np.zeros((t_max, len(event_dict), word2vec_dim))\n",
    "\n",
    "        for i in range(len(p[0])):\n",
    "            event = p[0][i]\n",
    "            time = p[1][i]\n",
    "            array[time-1 , event_dict[event]] = word2vec[event]\n",
    "\n",
    "        n_iter = t_max/agg_level\n",
    "        if t_max%agg_level != 0:\n",
    "            img_agg = np.zeros((int(n_iter)+1,array.shape[1],array.shape[2]))\n",
    "            for i in range(int(n_iter)):\n",
    "                img_agg[i] = np.sum(array[i*agg_level:(i+1)*agg_level],axis=0)\n",
    "            img_agg[i+1] = np.sum(array[(i+1)*agg_level:],axis=0)\n",
    "        else:\n",
    "            img_agg = np.zeros((int(n_iter),array.shape[1],array.shape[2]))\n",
    "            for i in range(int(n_iter)):\n",
    "                img_agg[i] = np.sum(array[i*agg_level:(i+1)*agg_level],axis=0)\n",
    "        return array, img_agg\n",
    "\n",
    "    @staticmethod\n",
    "    def get_patimg3d_batch(event_dict, df_crossectional, col_name_journey, col_name_days, df_target, switch_flag_col_name, pat_id_col_name_target, \n",
    "                              batch_size, loaded_word2vec, t_max, n_events, agg_level = 14):\n",
    "\n",
    "        pat_ids = np.random.choice(df_crossectional['pat_id'],batch_size, replace=False)\n",
    "        y = np.array(df_target[df_target[pat_id_col_name_target].isin(pat_ids)][switch_flag_col_name])\n",
    "        x = df_crossectional[df_crossectional['pat_id'].isin(pat_ids)]\n",
    "        Journey_lists = x[col_name_journey].tolist()\n",
    "        Journey_days = x[col_name_days].tolist()\n",
    "        arr_list = []\n",
    "        for i in range(len(Journey_lists)):\n",
    "            arr_list.append(patientai.get_patimg3d_tensor(event_dict, t_max, Journey_lists[i], Journey_days[i], loaded_word2vec,\n",
    "                                           agg_level=agg_level)[1])\n",
    "\n",
    "        return np.array(arr_list),y,x\n",
    "\n",
    "    @staticmethod\n",
    "    def build_model_patimg2d(input_shape = (53,248,1), n_kernels = 64, kernel_size = (1,248), kernel_strides = (1,1), max_pool_from = (3,1),d_units = 512, lr_optimizer = 0.001, n_static = None, show_summary = True, visualize_model = False):\n",
    "        \"\"\"\n",
    "        Architechture taken  : Conv2D(relu) --> Maxpooling2D --> Flatten --> Dense(relu) --> O/P(sigmoid)\n",
    "\n",
    "        input_shape          : Shape of the input tensor with channels last\n",
    "\n",
    "        n_kernels            : No. of kernels in Conv2D\n",
    "\n",
    "        kernel_size          : Kernel size in Conv2D\n",
    "\n",
    "        kernel_strides       : Kernel strides in Conv2D\n",
    "\n",
    "        max_pool_from        : Max pooling window in MaxPooling2D\n",
    "\n",
    "        d_units              : No. of units in the dense layer\n",
    "\n",
    "        lr                   : Learning rate of Adam optimizer\n",
    "        \"\"\"\n",
    "        if not n_static:\n",
    "            input_layer = Input(shape = input_shape)\n",
    "            l_1 = Conv2D(n_kernels, kernel_size,strides=kernel_strides,activation='relu')(input_layer)\n",
    "            l_2 = MaxPooling2D(max_pool_from)(l_1)\n",
    "            l_3 = Flatten()(l_2)\n",
    "            l_4 = Dense(d_units, activation = 'relu')(l_3)\n",
    "            l_5 = Dense(1,activation='sigmoid')(l_4)\n",
    "\n",
    "            model = Model(input_layer,l_5)\n",
    "\n",
    "            optimizer = Adam(lr=lr_optimizer)\n",
    "            model.compile(loss='binary_crossentropy', optimizer=optimizer)\n",
    "        else:\n",
    "            input_layer = Input(shape = input_shape)\n",
    "            input_static = Input(shape= (n_static,))\n",
    "            l_1 = Conv2D(n_kernels, kernel_size,strides=kernel_strides,activation='relu')(input_layer)\n",
    "            l_2 = MaxPooling2D(max_pool_from)(l_1)\n",
    "            l_3 = Flatten()(l_2)\n",
    "            with_static_features = concatenate([l_3 , input_static])\n",
    "            l_4 = Dense(d_units, activation = 'relu')(with_static_features)\n",
    "            out = Dense(1,activation='sigmoid')(l_4)\n",
    "\n",
    "            model = Model(inputs = [input_layer , input_static], outputs = out)\n",
    "\n",
    "            optimizer = Adam(lr=lr_optimizer)\n",
    "            model.compile(loss='binary_crossentropy', optimizer=optimizer)\n",
    "\n",
    "        if show_summary:\n",
    "            model.summary()\n",
    "        if visualize_model:\n",
    "            tf.keras.utils.plot_model(model, show_shapes=True)\n",
    "        return model\n",
    "\n",
    "    @staticmethod\n",
    "    def build_model_deepr(input_shape = (100,190,1), n_kernels = 64, kernel_size = (100,3), kernel_strides = (1,1), max_pool_from = (1,3),d_units = 512, lr_optimizer = 0.001, n_static = None, show_summary = True, visualize_model = False):\n",
    "        \"\"\"\n",
    "        Architechture taken  : Conv2D(relu) --> Maxpooling2D --> Dropout(0.3) --> Flatten --> Dropout(0.4) --> Dense(relu) --> O/P(sigmoid)\n",
    "\n",
    "        input_shape          : Shape of the input tensor with channels last (embedding_dims, events_taken, channels)\n",
    "\n",
    "        n_kernels            : No. of kernels in Conv2D\n",
    "\n",
    "        kernel_size          : Kernel size in Conv2D (word2vec_dim, events_to_look_at)\n",
    "\n",
    "        kernel_strides       : Kernel strides in Conv2D\n",
    "\n",
    "        max_pool_from        : Max pooling window in MaxPooling2D\n",
    "\n",
    "        d_units              : No. of units in the dense layer\n",
    "\n",
    "        lr                   : Learning rate of Adam optimizer\n",
    "        \"\"\"\n",
    "        if not n_static:\n",
    "            input_layer = Input(shape = input_shape)\n",
    "            layer_1 = Conv2D(n_kernels, kernel_size, strides = kernel_strides, activation = 'relu')(input_layer)\n",
    "            layer_2 = MaxPooling2D(max_pool_from)(layer_1)\n",
    "            dropout_1 = Dropout(0.3)(layer_2)\n",
    "            layer_3 = Flatten()(dropout_1)\n",
    "            dropout_2 = Dropout(0.4)(layer_3)\n",
    "            layer_4 = Dense(d_units, activation = 'relu')(dropout_2)\n",
    "            out = Dense(1, activation = 'sigmoid')(layer_4)\n",
    "\n",
    "            model = Model(input_layer,out)\n",
    "\n",
    "            optimizer = Adam(lr=lr_optimizer)\n",
    "            model.compile(loss='binary_crossentropy', optimizer=optimizer)\n",
    "        else:\n",
    "            input_static = Input(shape= (n_static,))\n",
    "            input_layer = Input(shape = input_shape)\n",
    "            layer_1 = Conv2D(n_kernels, kernel_size, strides = kernel_strides, activation = 'relu')(input_layer)\n",
    "            layer_2 = MaxPooling2D(max_pool_from)(layer_1)\n",
    "            dropout_1 = Dropout(0.3)(layer_2)\n",
    "            layer_3 = Flatten()(dropout_1)\n",
    "            dropout_2 = Dropout(0.4)(layer_3)\n",
    "            with_static_features = concatenate([dropout_2 , input_static])\n",
    "            layer_4 = Dense(d_units, activation = 'relu')(with_static_features)\n",
    "            out = Dense(1, activation = 'sigmoid')(layer_4)\n",
    "\n",
    "            model = Model(inputs = [input_layer , input_static], outputs = out)\n",
    "\n",
    "            optimizer = Adam(lr=lr_optimizer)\n",
    "            model.compile(loss='binary_crossentropy', optimizer=optimizer)\n",
    "\n",
    "        if show_summary:\n",
    "            model.summary()\n",
    "        if visualize_model:\n",
    "            tf.keras.utils.plot_model(model, show_shapes=True)\n",
    "        return model\n",
    "\n",
    "    @staticmethod\n",
    "    def build_model_patimg3d(input_shape = (53,248,50), n_kernels = 64, kernel_size = (1,248), kernel_strides = (1,1), max_pool_from = (3,1),d_units = 512, lr_optimizer = 0.001, n_static = None, show_summary = True, visualize_model = False):\n",
    "        \"\"\"\n",
    "        Architechture taken  : Conv2D(relu) --> Maxpooling2D --> Flatten --> Dense(relu) --> O/P(sigmoid)\n",
    "\n",
    "        input_shape          : Shape of the input tensor with channels last (time, n_events, embedding_dims)\n",
    "\n",
    "        n_kernels            : No. of kernels in Conv2D\n",
    "\n",
    "        kernel_size          : Kernel size in Conv2D\n",
    "\n",
    "        kernel_strides       : Kernel strides in Conv2D\n",
    "\n",
    "        max_pool_from        : Max pooling window in MaxPooling2D\n",
    "\n",
    "        d_units              : No. of units in the dense layer\n",
    "\n",
    "        lr                   : Learning rate of Adam optimizer\n",
    "        \"\"\"\n",
    "        if not n_static:\n",
    "            input_layer = Input(shape = input_shape)\n",
    "            layer_1 = Conv2D(n_kernels,kernel_size, strides = kernel_strides, activation = 'relu')(input_layer)\n",
    "            layer_2 = MaxPooling2D(max_pool_from)(layer_1)\n",
    "            layer_3 = Flatten()(layer_2)\n",
    "            layer_4 = Dense(d_units, activation = 'relu')(layer_3)\n",
    "            out = Dense(1, activation = 'sigmoid')(layer_4)\n",
    "\n",
    "            model = Model(input_layer,out)\n",
    "\n",
    "            optimizer = Adam(lr=lr_optimizer)\n",
    "            model.compile(loss='binary_crossentropy', optimizer=optimizer)\n",
    "        else:\n",
    "            input_static = Input(shape= (n_static,))\n",
    "            input_layer = Input(shape = input_shape)\n",
    "            layer_1 = Conv2D(n_kernels,kernel_size, strides = kernel_strides, activation = 'relu')(input_layer)\n",
    "            layer_2 = MaxPooling2D(max_pool_from)(layer_1)\n",
    "            layer_3 = Flatten()(layer_2)\n",
    "            with_static_features = concatenate([layer_3 , input_static])\n",
    "            layer_4 = Dense(d_units, activation = 'relu')(with_static_features)\n",
    "            out = Dense(1, activation = 'sigmoid')(layer_4)\n",
    "\n",
    "            model = Model(inputs = [input_layer , input_static], outputs = out)\n",
    "\n",
    "            optimizer = Adam(lr=lr_optimizer)\n",
    "            model.compile(loss='binary_crossentropy', optimizer=optimizer)\n",
    "\n",
    "        if show_summary:\n",
    "            model.summary()\n",
    "        if visualize_model:\n",
    "            tf.keras.utils.plot_model(model, show_shapes=True)\n",
    "        return model\n",
    "\n",
    "    @staticmethod\n",
    "    def deepr_generator(df_crossectional, journey_col_name, df_target, switch_flag_col_name, loaded_word2vec, n_events,\n",
    "                        batch_size = 64, iterate_indefinitely = True):\n",
    "        n_iter = int(len(df_crossectional)/batch_size)\n",
    "        i = 0\n",
    "        while True:\n",
    "            inital_index = batch_size*i\n",
    "            final_index = batch_size*(i+1)\n",
    "            i += 1\n",
    "\n",
    "            Journey_lists = df_crossectional[journey_col_name][inital_index:final_index].tolist()\n",
    "            arr_list = []\n",
    "            for journey in Journey_lists:\n",
    "                arr_list.append(patientai.get_deepr_tensor(journey,loaded_word2vec,n_events))\n",
    "            x = np.array(arr_list)\n",
    "            y = np.array(df_target[switch_flag_col_name][inital_index:final_index])\n",
    "\n",
    "            if iterate_indefinitely and i == n_iter:\n",
    "                i = 0\n",
    "            if not iterate_indefinitely and i == n_iter:\n",
    "                yield x, y\n",
    "                break\n",
    "            yield x,y\n",
    "\n",
    "    @staticmethod\n",
    "    def patimg2d_generator(df_crossectional, journey_col_name, event_day_col_name, df_target, switch_flag_col_name, event_dict,\n",
    "                           t_max, agg_level = 14, batch_size = 64, iterate_indefinitely = True):\n",
    "\n",
    "        n_iter = int(len(df_crossectional)/batch_size)\n",
    "        i = 0\n",
    "        while True:\n",
    "            inital_index = batch_size*i\n",
    "            final_index = batch_size*(i+1)\n",
    "            i += 1\n",
    "\n",
    "            Journey_lists = df_crossectional[journey_col_name][inital_index:final_index].tolist()\n",
    "            event_day_lists = df_crossectional[event_day_col_name][inital_index:final_index].tolist()\n",
    "            arr_list = []\n",
    "            for k in range(len(Journey_lists)):\n",
    "                img_agg = patientai.get_patimg2d_tensor(event_dict,t_max,Journey_lists[k],event_day_lists[k],agg_level)[1]\n",
    "                arr_list.append(img_agg)\n",
    "            x = np.array(arr_list)\n",
    "            y = np.array(df_target[switch_flag_col_name][inital_index:final_index])\n",
    "\n",
    "            if iterate_indefinitely and i == n_iter:\n",
    "                i = 0\n",
    "            if not iterate_indefinitely and i == n_iter:\n",
    "                yield x, y\n",
    "                break\n",
    "            yield x, y\n",
    "\n",
    "    @staticmethod\n",
    "    def patimg3d_generator(df_crossectional, journey_col_name, event_day_col_name, df_target, switch_flag_col_name, event_dict,\n",
    "                           t_max, loaded_word2vec, agg_level = 14, batch_size = 64, iterate_indefinitely = True):\n",
    "\n",
    "        n_iter = int(len(df_crossectional)/batch_size)\n",
    "        i = 0\n",
    "        while True:\n",
    "            inital_index = batch_size*i\n",
    "            final_index = batch_size*(i+1)\n",
    "            i += 1\n",
    "\n",
    "            Journey_lists = df_crossectional[journey_col_name][inital_index:final_index].tolist()\n",
    "            event_day_lists = df_crossectional[event_day_col_name][inital_index:final_index].tolist()\n",
    "            arr_list = []\n",
    "            for k in range(len(Journey_lists)):\n",
    "                img_agg = patientai.get_patimg3d_tensor(event_dict,t_max,Journey_lists[k],event_day_lists[k],loaded_word2vec, agg_level)[1]\n",
    "                arr_list.append(img_agg)\n",
    "            x = np.array(arr_list)\n",
    "            y = np.array(df_target[switch_flag_col_name][inital_index:final_index])\n",
    "\n",
    "            if iterate_indefinitely and i == n_iter:\n",
    "                i = 0\n",
    "            if not iterate_indefinitely and i == n_iter:\n",
    "                yield x, y\n",
    "                break\n",
    "            yield x, y\n"
   ]
  },
  {
   "cell_type": "code",
   "execution_count": 2,
   "metadata": {},
   "outputs": [
    {
     "data": {
      "text/html": [
       "<style scoped>\n",
       "  .ansiout {\n",
       "    display: block;\n",
       "    unicode-bidi: embed;\n",
       "    white-space: pre-wrap;\n",
       "    word-wrap: break-word;\n",
       "    word-break: break-all;\n",
       "    font-family: \"Source Code Pro\", \"Menlo\", monospace;;\n",
       "    font-size: 13px;\n",
       "    color: #555;\n",
       "    margin-left: 4px;\n",
       "    line-height: 19px;\n",
       "  }\n",
       "</style>\n",
       "<div class=\"ansiout\"></div>"
      ]
     },
     "metadata": {},
     "output_type": "display_data"
    }
   ],
   "source": [
    "import sys\n",
    "import pandas as pd \n",
    "import numpy as np\n",
    "from gensim.models import Word2Vec\n",
    "from sklearn.metrics import roc_auc_score, precision_recall_curve  \n",
    "from tqdm import tqdm_notebook as tqdm\n",
    "from tensorflow.keras.models import model_from_json\n",
    "import matplotlib.pyplot as plt"
   ]
  },
  {
   "cell_type": "code",
   "execution_count": 3,
   "metadata": {},
   "outputs": [
    {
     "data": {
      "text/html": [
       "<style scoped>\n",
       "  .ansiout {\n",
       "    display: block;\n",
       "    unicode-bidi: embed;\n",
       "    white-space: pre-wrap;\n",
       "    word-wrap: break-word;\n",
       "    word-break: break-all;\n",
       "    font-family: \"Source Code Pro\", \"Menlo\", monospace;;\n",
       "    font-size: 13px;\n",
       "    color: #555;\n",
       "    margin-left: 4px;\n",
       "    line-height: 19px;\n",
       "  }\n",
       "</style>\n",
       "<div class=\"ansiout\"></div>"
      ]
     },
     "metadata": {},
     "output_type": "display_data"
    }
   ],
   "source": [
    "# bucket_path = 's3a://amgen-edl-gco-us-analytics-repai-development/treatment_pattern/refreshed_tables/data_cohorts/'\n",
    "# local_path = 'databricks/driver/'\n",
    "\n",
    "# def copy_to_s3(local_path, bucket_path, file_name_with_extension):\n",
    "#   dbutils.fs.cp(\"file:/\"+local_path+file_name_with_extension, bucket_path+file_name_with_extension)\n",
    "#   print('Copied')\n",
    "\n",
    "# def copy_from_s3(local_path, bucket_path, file_name_with_extension):\n",
    "#   dbutils.fs.cp(bucket_path+file_name_with_extension, \"file:/\"+local_path+file_name_with_extension)\n",
    "#   print('Copied')"
   ]
  },
  {
   "cell_type": "code",
   "execution_count": 4,
   "metadata": {},
   "outputs": [
    {
     "data": {
      "text/html": [
       "<style scoped>\n",
       "  .ansiout {\n",
       "    display: block;\n",
       "    unicode-bidi: embed;\n",
       "    white-space: pre-wrap;\n",
       "    word-wrap: break-word;\n",
       "    word-break: break-all;\n",
       "    font-family: \"Source Code Pro\", \"Menlo\", monospace;;\n",
       "    font-size: 13px;\n",
       "    color: #555;\n",
       "    margin-left: 4px;\n",
       "    line-height: 19px;\n",
       "  }\n",
       "</style>\n",
       "<div class=\"ansiout\">Copied\n",
       "</div>"
      ]
     },
     "metadata": {},
     "output_type": "display_data"
    }
   ],
   "source": [
    "# copy_from_s3(local_path, bucket_path, 'training_cohort_6mo_till_Oct.csv')\n",
    "# train_data_pd = pd.read_csv('training_cohort_6mo_till_Oct.csv')"
   ]
  },
  {
   "cell_type": "code",
   "execution_count": 5,
   "metadata": {},
   "outputs": [
    {
     "data": {
      "text/html": [
       "<style scoped>\n",
       "  .ansiout {\n",
       "    display: block;\n",
       "    unicode-bidi: embed;\n",
       "    white-space: pre-wrap;\n",
       "    word-wrap: break-word;\n",
       "    word-break: break-all;\n",
       "    font-family: \"Source Code Pro\", \"Menlo\", monospace;;\n",
       "    font-size: 13px;\n",
       "    color: #555;\n",
       "    margin-left: 4px;\n",
       "    line-height: 19px;\n",
       "  }\n",
       "</style>\n",
       "<div class=\"ansiout\"></div>"
      ]
     },
     "metadata": {},
     "output_type": "display_data"
    }
   ],
   "source": [
    "train_data = spark.sql('select * from training_data_for_cnn_no_exclusion')\n",
    "# validation_data = spark.sql('select * from validation_data_for_cnn')"
   ]
  },
  {
   "cell_type": "code",
   "execution_count": 6,
   "metadata": {},
   "outputs": [
    {
     "data": {
      "text/html": [
       "<style scoped>\n",
       "  .ansiout {\n",
       "    display: block;\n",
       "    unicode-bidi: embed;\n",
       "    white-space: pre-wrap;\n",
       "    word-wrap: break-word;\n",
       "    word-break: break-all;\n",
       "    font-family: \"Source Code Pro\", \"Menlo\", monospace;;\n",
       "    font-size: 13px;\n",
       "    color: #555;\n",
       "    margin-left: 4px;\n",
       "    line-height: 19px;\n",
       "  }\n",
       "</style>\n",
       "<div class=\"ansiout\"></div>"
      ]
     },
     "metadata": {},
     "output_type": "display_data"
    }
   ],
   "source": [
    "validation_data = spark.sql('select * from validation_data_for_cnn_no_exclusion')"
   ]
  },
  {
   "cell_type": "code",
   "execution_count": 7,
   "metadata": {},
   "outputs": [
    {
     "data": {
      "text/html": [
       "<style scoped>\n",
       "  .ansiout {\n",
       "    display: block;\n",
       "    unicode-bidi: embed;\n",
       "    white-space: pre-wrap;\n",
       "    word-wrap: break-word;\n",
       "    word-break: break-all;\n",
       "    font-family: \"Source Code Pro\", \"Menlo\", monospace;;\n",
       "    font-size: 13px;\n",
       "    color: #555;\n",
       "    margin-left: 4px;\n",
       "    line-height: 19px;\n",
       "  }\n",
       "</style>\n",
       "<div class=\"ansiout\"></div>"
      ]
     },
     "metadata": {},
     "output_type": "display_data"
    }
   ],
   "source": [
    "train_data_pd.to_pickle('train.pkl')"
   ]
  },
  {
   "cell_type": "code",
   "execution_count": 8,
   "metadata": {},
   "outputs": [
    {
     "data": {
      "text/html": [
       "<style scoped>\n",
       "  .ansiout {\n",
       "    display: block;\n",
       "    unicode-bidi: embed;\n",
       "    white-space: pre-wrap;\n",
       "    word-wrap: break-word;\n",
       "    word-break: break-all;\n",
       "    font-family: \"Source Code Pro\", \"Menlo\", monospace;;\n",
       "    font-size: 13px;\n",
       "    color: #555;\n",
       "    margin-left: 4px;\n",
       "    line-height: 19px;\n",
       "  }\n",
       "</style>\n",
       "<div class=\"ansiout\"></div>"
      ]
     },
     "metadata": {},
     "output_type": "display_data"
    }
   ],
   "source": [
    "val_data_pd.to_pickle('test.pkl')"
   ]
  },
  {
   "cell_type": "code",
   "execution_count": 9,
   "metadata": {},
   "outputs": [
    {
     "data": {
      "text/html": [
       "<style scoped>\n",
       "  .ansiout {\n",
       "    display: block;\n",
       "    unicode-bidi: embed;\n",
       "    white-space: pre-wrap;\n",
       "    word-wrap: break-word;\n",
       "    word-break: break-all;\n",
       "    font-family: \"Source Code Pro\", \"Menlo\", monospace;;\n",
       "    font-size: 13px;\n",
       "    color: #555;\n",
       "    margin-left: 4px;\n",
       "    line-height: 19px;\n",
       "  }\n",
       "</style>\n",
       "<div class=\"ansiout\"></div>"
      ]
     },
     "metadata": {},
     "output_type": "display_data"
    }
   ],
   "source": [
    "events_chi2_p_value = spark.sql('select * from events_chi2_p_value')"
   ]
  },
  {
   "cell_type": "code",
   "execution_count": 10,
   "metadata": {},
   "outputs": [
    {
     "data": {
      "text/html": [
       "<style scoped>\n",
       "  .ansiout {\n",
       "    display: block;\n",
       "    unicode-bidi: embed;\n",
       "    white-space: pre-wrap;\n",
       "    word-wrap: break-word;\n",
       "    word-break: break-all;\n",
       "    font-family: \"Source Code Pro\", \"Menlo\", monospace;;\n",
       "    font-size: 13px;\n",
       "    color: #555;\n",
       "    margin-left: 4px;\n",
       "    line-height: 19px;\n",
       "  }\n",
       "</style>\n",
       "<div class=\"ansiout\"></div>"
      ]
     },
     "metadata": {},
     "output_type": "display_data"
    }
   ],
   "source": [
    "events_chi2_p_value = events_chi2_p_value.toPandas()"
   ]
  },
  {
   "cell_type": "code",
   "execution_count": 11,
   "metadata": {},
   "outputs": [
    {
     "data": {
      "text/html": [
       "<style scoped>\n",
       "  .ansiout {\n",
       "    display: block;\n",
       "    unicode-bidi: embed;\n",
       "    white-space: pre-wrap;\n",
       "    word-wrap: break-word;\n",
       "    word-break: break-all;\n",
       "    font-family: \"Source Code Pro\", \"Menlo\", monospace;;\n",
       "    font-size: 13px;\n",
       "    color: #555;\n",
       "    margin-left: 4px;\n",
       "    line-height: 19px;\n",
       "  }\n",
       "</style>\n",
       "<div class=\"ansiout\"></div>"
      ]
     },
     "metadata": {},
     "output_type": "display_data"
    }
   ],
   "source": [
    "events_chi2_p_value.to_pickle(\"events_chi2_p_value.pkl\")"
   ]
  },
  {
   "cell_type": "code",
   "execution_count": 12,
   "metadata": {},
   "outputs": [
    {
     "data": {
      "text/html": [
       "<style scoped>\n",
       "  .ansiout {\n",
       "    display: block;\n",
       "    unicode-bidi: embed;\n",
       "    white-space: pre-wrap;\n",
       "    word-wrap: break-word;\n",
       "    word-break: break-all;\n",
       "    font-family: \"Source Code Pro\", \"Menlo\", monospace;;\n",
       "    font-size: 13px;\n",
       "    color: #555;\n",
       "    margin-left: 4px;\n",
       "    line-height: 19px;\n",
       "  }\n",
       "</style>\n",
       "<div class=\"ansiout\"></div>"
      ]
     },
     "metadata": {},
     "output_type": "display_data"
    }
   ],
   "source": [
    "spark.conf.set(\"spark.sql.execution.arrow.enabled\", \"true\")"
   ]
  },
  {
   "cell_type": "code",
   "execution_count": 13,
   "metadata": {},
   "outputs": [
    {
     "data": {
      "text/html": [
       "<style scoped>\n",
       "  .ansiout {\n",
       "    display: block;\n",
       "    unicode-bidi: embed;\n",
       "    white-space: pre-wrap;\n",
       "    word-wrap: break-word;\n",
       "    word-break: break-all;\n",
       "    font-family: \"Source Code Pro\", \"Menlo\", monospace;;\n",
       "    font-size: 13px;\n",
       "    color: #555;\n",
       "    margin-left: 4px;\n",
       "    line-height: 19px;\n",
       "  }\n",
       "</style>\n",
       "<div class=\"ansiout\">/databricks/python/lib/python3.7/site-packages/pyarrow/__init__.py:152: UserWarning: pyarrow.open_stream is deprecated, please use pyarrow.ipc.open_stream\n",
       "  warnings.warn(&#34;pyarrow.open_stream is deprecated, please use &#34;\n",
       "</div>"
      ]
     },
     "metadata": {},
     "output_type": "display_data"
    }
   ],
   "source": [
    "train_data_pd = train_data.toPandas()"
   ]
  },
  {
   "cell_type": "code",
   "execution_count": 14,
   "metadata": {},
   "outputs": [
    {
     "data": {
      "text/html": [
       "<style scoped>\n",
       "  .ansiout {\n",
       "    display: block;\n",
       "    unicode-bidi: embed;\n",
       "    white-space: pre-wrap;\n",
       "    word-wrap: break-word;\n",
       "    word-break: break-all;\n",
       "    font-family: \"Source Code Pro\", \"Menlo\", monospace;;\n",
       "    font-size: 13px;\n",
       "    color: #555;\n",
       "    margin-left: 4px;\n",
       "    line-height: 19px;\n",
       "  }\n",
       "</style>\n",
       "<div class=\"ansiout\">/databricks/python/lib/python3.7/site-packages/pyarrow/__init__.py:152: UserWarning: pyarrow.open_stream is deprecated, please use pyarrow.ipc.open_stream\n",
       "  warnings.warn(&#34;pyarrow.open_stream is deprecated, please use &#34;\n",
       "</div>"
      ]
     },
     "metadata": {},
     "output_type": "display_data"
    }
   ],
   "source": [
    "val_data_pd = validation_data.toPandas()"
   ]
  },
  {
   "cell_type": "code",
   "execution_count": 15,
   "metadata": {},
   "outputs": [
    {
     "data": {
      "text/html": [
       "<style scoped>\n",
       "  .ansiout {\n",
       "    display: block;\n",
       "    unicode-bidi: embed;\n",
       "    white-space: pre-wrap;\n",
       "    word-wrap: break-word;\n",
       "    word-break: break-all;\n",
       "    font-family: \"Source Code Pro\", \"Menlo\", monospace;;\n",
       "    font-size: 13px;\n",
       "    color: #555;\n",
       "    margin-left: 4px;\n",
       "    line-height: 19px;\n",
       "  }\n",
       "</style>\n",
       "<div class=\"ansiout\"></div>"
      ]
     },
     "metadata": {},
     "output_type": "display_data"
    }
   ],
   "source": [
    "df_dict = dict()\n",
    "df_dict['RX'] = train_data_pd[train_data_pd['event_type']=='RX'].reset_index(drop=True)\n",
    "df_dict['PX'] = train_data_pd[train_data_pd['event_type']=='PX'].reset_index(drop=True)\n",
    "df_dict['DX'] = train_data_pd[train_data_pd['event_type']=='DX'].reset_index(drop=True)"
   ]
  },
  {
   "cell_type": "code",
   "execution_count": 16,
   "metadata": {},
   "outputs": [
    {
     "data": {
      "text/html": [
       "<style scoped>\n",
       "  .ansiout {\n",
       "    display: block;\n",
       "    unicode-bidi: embed;\n",
       "    white-space: pre-wrap;\n",
       "    word-wrap: break-word;\n",
       "    word-break: break-all;\n",
       "    font-family: \"Source Code Pro\", \"Menlo\", monospace;;\n",
       "    font-size: 13px;\n",
       "    color: #555;\n",
       "    margin-left: 4px;\n",
       "    line-height: 19px;\n",
       "  }\n",
       "</style>\n",
       "<div class=\"ansiout\"></div>"
      ]
     },
     "metadata": {},
     "output_type": "display_data"
    }
   ],
   "source": [
    "cols_to_keep = ['patient_id', 'event_date', 'days_from_anchor', 'event_code', 'switch_flag']\n",
    "\n",
    "train_pd = train_data_pd[cols_to_keep].copy(deep=True)\n",
    "# val_pd = val_data_pd[cols_to_keep].copy(deep=True)"
   ]
  },
  {
   "cell_type": "code",
   "execution_count": 17,
   "metadata": {},
   "outputs": [
    {
     "data": {
      "text/html": [
       "<style scoped>\n",
       "  .ansiout {\n",
       "    display: block;\n",
       "    unicode-bidi: embed;\n",
       "    white-space: pre-wrap;\n",
       "    word-wrap: break-word;\n",
       "    word-break: break-all;\n",
       "    font-family: \"Source Code Pro\", \"Menlo\", monospace;;\n",
       "    font-size: 13px;\n",
       "    color: #555;\n",
       "    margin-left: 4px;\n",
       "    line-height: 19px;\n",
       "  }\n",
       "</style>\n",
       "<div class=\"ansiout\"></div>"
      ]
     },
     "metadata": {},
     "output_type": "display_data"
    }
   ],
   "source": [
    "for event_type in ['RX', 'PX', 'DX']:\n",
    "  df_dict[event_type]['cohort'] = 'c_1'\n",
    "  df_dict[event_type] = patientai(df_dict[event_type],'patient_id','event_code','days_from_anchor','switch_flag','cohort')\n",
    "  df_dict[event_type+'_cross'] = df_dict[event_type].get_crossectional_data(30)\n",
    "  df_dict[event_type+'_y'] = df_dict[event_type].get_target()"
   ]
  },
  {
   "cell_type": "code",
   "execution_count": 18,
   "metadata": {},
   "outputs": [
    {
     "data": {
      "text/html": [
       "<style scoped>\n",
       "  .ansiout {\n",
       "    display: block;\n",
       "    unicode-bidi: embed;\n",
       "    white-space: pre-wrap;\n",
       "    word-wrap: break-word;\n",
       "    word-break: break-all;\n",
       "    font-family: \"Source Code Pro\", \"Menlo\", monospace;;\n",
       "    font-size: 13px;\n",
       "    color: #555;\n",
       "    margin-left: 4px;\n",
       "    line-height: 19px;\n",
       "  }\n",
       "</style>\n",
       "<div class=\"ansiout\"></div>"
      ]
     },
     "metadata": {},
     "output_type": "display_data"
    }
   ],
   "source": [
    "for data_name in ['RX_cross', 'RX_y', 'PX_cross', 'PX_y', 'DX_cross', 'DX_y']:\n",
    "  df_dict[data_name].to_pickle(data_name+'_eclong.pkl')"
   ]
  },
  {
   "cell_type": "code",
   "execution_count": 19,
   "metadata": {},
   "outputs": [
    {
     "data": {
      "text/html": [
       "<style scoped>\n",
       "  .ansiout {\n",
       "    display: block;\n",
       "    unicode-bidi: embed;\n",
       "    white-space: pre-wrap;\n",
       "    word-wrap: break-word;\n",
       "    word-break: break-all;\n",
       "    font-family: \"Source Code Pro\", \"Menlo\", monospace;;\n",
       "    font-size: 13px;\n",
       "    color: #555;\n",
       "    margin-left: 4px;\n",
       "    line-height: 19px;\n",
       "  }\n",
       "</style>\n",
       "<div class=\"ansiout\"></div>"
      ]
     },
     "metadata": {},
     "output_type": "display_data"
    }
   ],
   "source": [
    "df_dict = dict()\n",
    "for data_name in ['RX_cross', 'RX_y', 'PX_cross', 'PX_y', 'DX_cross', 'DX_y']:\n",
    "  df_dict[data_name] = pd.read_pickle(data_name+'_eclong.pkl')"
   ]
  },
  {
   "cell_type": "code",
   "execution_count": 20,
   "metadata": {},
   "outputs": [
    {
     "data": {
      "text/html": [
       "<style scoped>\n",
       "  .ansiout {\n",
       "    display: block;\n",
       "    unicode-bidi: embed;\n",
       "    white-space: pre-wrap;\n",
       "    word-wrap: break-word;\n",
       "    word-break: break-all;\n",
       "    font-family: \"Source Code Pro\", \"Menlo\", monospace;;\n",
       "    font-size: 13px;\n",
       "    color: #555;\n",
       "    margin-left: 4px;\n",
       "    line-height: 19px;\n",
       "  }\n",
       "</style>\n",
       "<div class=\"ansiout\"></div>"
      ]
     },
     "metadata": {},
     "output_type": "display_data"
    }
   ],
   "source": [
    "def event_count(row, ndays):\n",
    "  count_dict = dict()\n",
    "  for ind, day in enumerate(list(row['event_day'])):\n",
    "    if day >= ndays:\n",
    "      break\n",
    "  max_ind = ind\n",
    "  for event in set(row['journey']):\n",
    "    count_dict[event]=row['journey'][:max_ind].count(event)\n",
    "  \n",
    "  return count_dict\n",
    "\n",
    "def get_event_frequency_df(df_cross_sec, n_days):\n",
    "  df_cross_sec['event_freq_dict'] = df_cross_sec.apply(event_count, axis=1, args=(n_days,))\n",
    "  patient_event_frequency_dict = dict(zip(df_cross_sec['pat_id'].tolist(), df_cross_sec['event_freq_dict'].tolist()))\n",
    "  freq_df = pd.DataFrame.from_dict(patient_event_frequency_dict, orient='index')\n",
    "  freq_df.fillna(0, inplace=True)\n",
    "  \n",
    "  return freq_df"
   ]
  },
  {
   "cell_type": "code",
   "execution_count": 21,
   "metadata": {},
   "outputs": [
    {
     "data": {
      "text/html": [
       "<style scoped>\n",
       "  .ansiout {\n",
       "    display: block;\n",
       "    unicode-bidi: embed;\n",
       "    white-space: pre-wrap;\n",
       "    word-wrap: break-word;\n",
       "    word-break: break-all;\n",
       "    font-family: \"Source Code Pro\", \"Menlo\", monospace;;\n",
       "    font-size: 13px;\n",
       "    color: #555;\n",
       "    margin-left: 4px;\n",
       "    line-height: 19px;\n",
       "  }\n",
       "</style>\n",
       "<div class=\"ansiout\">Out[11]: &#39;RX_freq&#39;</div>"
      ]
     },
     "metadata": {},
     "output_type": "display_data"
    }
   ],
   "source": [
    "'RX_cross'[:2]+'_freq'"
   ]
  },
  {
   "cell_type": "code",
   "execution_count": 22,
   "metadata": {},
   "outputs": [
    {
     "data": {
      "text/html": [
       "<style scoped>\n",
       "  .ansiout {\n",
       "    display: block;\n",
       "    unicode-bidi: embed;\n",
       "    white-space: pre-wrap;\n",
       "    word-wrap: break-word;\n",
       "    word-break: break-all;\n",
       "    font-family: \"Source Code Pro\", \"Menlo\", monospace;;\n",
       "    font-size: 13px;\n",
       "    color: #555;\n",
       "    margin-left: 4px;\n",
       "    line-height: 19px;\n",
       "  }\n",
       "</style>\n",
       "<div class=\"ansiout\"></div>"
      ]
     },
     "metadata": {},
     "output_type": "display_data"
    }
   ],
   "source": [
    "n_days = 730\n",
    "for data_name in ['RX_cross', 'PX_cross', 'DX_cross']:\n",
    "  df_dict[data_name[:2]+'_freq'] = get_event_frequency_df(df_dict[data_name], n_days)\n",
    "  df_dict[data_name[:2]+'_freq'] = df_dict[data_name[:2]+'_freq'].reset_index().rename(columns={'index':'patient_id'})\n",
    "  df_dict[data_name[:2]+'_freq'] = df_dict[data_name[:2]+'_freq'].sort_values('patient_id').reset_index(drop=True)\n",
    "  df_dict[data_name[:2]+'_y'] = df_dict[data_name[:2]+'_y'].sort_values('pat_id').reset_index(drop=True)"
   ]
  },
  {
   "cell_type": "code",
   "execution_count": 23,
   "metadata": {},
   "outputs": [
    {
     "data": {
      "text/html": [
       "<style scoped>\n",
       "  .ansiout {\n",
       "    display: block;\n",
       "    unicode-bidi: embed;\n",
       "    white-space: pre-wrap;\n",
       "    word-wrap: break-word;\n",
       "    word-break: break-all;\n",
       "    font-family: \"Source Code Pro\", \"Menlo\", monospace;;\n",
       "    font-size: 13px;\n",
       "    color: #555;\n",
       "    margin-left: 4px;\n",
       "    line-height: 19px;\n",
       "  }\n",
       "</style>\n",
       "<div class=\"ansiout\"></div>"
      ]
     },
     "metadata": {},
     "output_type": "display_data"
    }
   ],
   "source": [
    "from sklearn.linear_model import LogisticRegression\n",
    "from scipy.sparse import csr_matrix\n",
    "\n",
    "from sklearn.feature_selection import SelectKBest\n",
    "from sklearn.feature_selection import chi2"
   ]
  },
  {
   "cell_type": "code",
   "execution_count": 24,
   "metadata": {},
   "outputs": [
    {
     "data": {
      "text/html": [
       "<style scoped>\n",
       "  .ansiout {\n",
       "    display: block;\n",
       "    unicode-bidi: embed;\n",
       "    white-space: pre-wrap;\n",
       "    word-wrap: break-word;\n",
       "    word-break: break-all;\n",
       "    font-family: \"Source Code Pro\", \"Menlo\", monospace;;\n",
       "    font-size: 13px;\n",
       "    color: #555;\n",
       "    margin-left: 4px;\n",
       "    line-height: 19px;\n",
       "  }\n",
       "</style>\n",
       "<div class=\"ansiout\"></div>"
      ]
     },
     "metadata": {},
     "output_type": "display_data"
    }
   ],
   "source": [
    "X = np.array(df_dict['DX_freq'].iloc[:,1:])\n",
    "y = np.array(df_dict['DX_y']['switch_flag'])\n",
    "\n",
    "chi2_scores, p_values = chi2(X, y)\n",
    "t = pd.DataFrame({'event_code': df_dict['DX_freq'].columns[1:], 'chi2': chi2_scores, 'p_value': p_values})\n",
    "feature_importance_dx = t.sort_values('chi2', ascending=False).reset_index(drop=True)"
   ]
  },
  {
   "cell_type": "code",
   "execution_count": 25,
   "metadata": {},
   "outputs": [
    {
     "data": {
      "text/html": [
       "<style scoped>\n",
       "  .table-result-container {\n",
       "    max-height: 300px;\n",
       "    overflow: auto;\n",
       "  }\n",
       "  table, th, td {\n",
       "    border: 1px solid black;\n",
       "    border-collapse: collapse;\n",
       "  }\n",
       "  th, td {\n",
       "    padding: 5px;\n",
       "  }\n",
       "  th {\n",
       "    text-align: left;\n",
       "  }\n",
       "</style><div class='table-result-container'><table class='table-result'><thead style='background-color: white'><tr><th>event_code</th><th>chi2</th><th>p_value</th></tr></thead><tbody><tr><td>I25.10</td><td>1777.28233664736</td><td>0.0</td></tr><tr><td>I21.02</td><td>769.0606055708336</td><td>2.8774532123459093E-169</td></tr><tr><td>I25.110</td><td>698.7161515620907</td><td>5.687033648955905E-154</td></tr><tr><td>E11.9</td><td>687.6292334380738</td><td>1.4650173042366357E-151</td></tr><tr><td>I70.719</td><td>623.3344881455766</td><td>1.407736065435451E-137</td></tr><tr><td>I21.4</td><td>530.8333152521557</td><td>1.860616397603256E-117</td></tr><tr><td>I20.0</td><td>527.8343676250391</td><td>8.357871617075028E-117</td></tr><tr><td>M62.82</td><td>462.954792819011</td><td>1.093658526535715E-102</td></tr><tr><td>I25.2</td><td>413.240548295131</td><td>7.223522340529144E-92</td></tr><tr><td>I25.119</td><td>360.80075800934003</td><td>1.8846110723374788E-80</td></tr><tr><td>I65.21</td><td>298.75043579633945</td><td>6.16610884761077E-67</td></tr><tr><td>I21.3</td><td>264.81804804910644</td><td>1.5287378255091615E-59</td></tr><tr><td>Z82.49</td><td>227.63010086803234</td><td>1.9596994596370656E-51</td></tr><tr><td>I25.82</td><td>198.06544213223646</td><td>5.5208474832679723E-45</td></tr><tr><td>I25.118</td><td>195.98160827174365</td><td>1.5731802096685015E-44</td></tr><tr><td>I25.709</td><td>192.3527475005934</td><td>9.745256436121898E-44</td></tr><tr><td>I65.23</td><td>180.4563887925821</td><td>3.8527675808883794E-41</td></tr><tr><td>G72.0</td><td>154.37998172354375</td><td>1.9128833641736298E-35</td></tr><tr><td>I21.19</td><td>142.751012238177</td><td>6.663021532601578E-33</td></tr><tr><td>E11.65</td><td>135.077203440974</td><td>3.175771679252287E-31</td></tr><tr><td>I20.8</td><td>131.1922182335874</td><td>2.2475443155531226E-30</td></tr><tr><td>T46.6X5A</td><td>128.90079821603584</td><td>7.129405684518972E-30</td></tr><tr><td>E11.22</td><td>120.69234933413799</td><td>4.4623417359197325E-28</td></tr><tr><td>I63.512</td><td>98.98216503536692</td><td>2.5478602501827653E-23</td></tr><tr><td>I75.022</td><td>95.82938050193366</td><td>1.2522347344832661E-22</td></tr><tr><td>I25.700</td><td>90.41491200429587</td><td>1.9310525181610106E-21</td></tr><tr><td>I24.9</td><td>87.0681868992728</td><td>1.0484349251967405E-20</td></tr><tr><td>E08.51</td><td>86.24023192623254</td><td>1.593525703186364E-20</td></tr><tr><td>E11.21</td><td>79.22844376985472</td><td>5.532775533445731E-19</td></tr><tr><td>I69.154</td><td>73.94306418795502</td><td>8.040296629891497E-18</td></tr><tr><td>I25.701</td><td>72.51308223509977</td><td>1.6592836032696064E-17</td></tr><tr><td>I25.5</td><td>69.72168502271556</td><td>6.829117700062644E-17</td></tr><tr><td>I69.869</td><td>66.62465290799456</td><td>3.2845259593271134E-16</td></tr><tr><td>I21.11</td><td>62.75654246486057</td><td>2.3390331320420583E-15</td></tr><tr><td>E11.622</td><td>57.215383142136375</td><td>3.906040172152547E-14</td></tr><tr><td>E11.69</td><td>53.464908008902334</td><td>2.6325352966546787E-13</td></tr><tr><td>I63.019</td><td>51.92891304863313</td><td>5.754675982592184E-13</td></tr><tr><td>I69.128</td><td>51.87524856947837</td><td>5.914125972867914E-13</td></tr><tr><td>E78.1</td><td>51.67808945253927</td><td>6.538840896927006E-13</td></tr><tr><td>I70.90</td><td>50.93824143109274</td><td>9.531831543525965E-13</td></tr><tr><td>I70.701</td><td>45.07112743756411</td><td>1.900062334217767E-11</td></tr><tr><td>I25.810</td><td>44.02254039315653</td><td>3.2461605312466726E-11</td></tr><tr><td>I24.1</td><td>42.60577521446014</td><td>6.696138798847489E-11</td></tr><tr><td>I70.1</td><td>42.12027451422415</td><td>8.582871444522468E-11</td></tr><tr><td>I25.84</td><td>41.97242175098747</td><td>9.256981247527862E-11</td></tr><tr><td>M79.7</td><td>39.04162513025336</td><td>4.1486499779796367E-10</td></tr><tr><td>I20.9</td><td>37.63384521840174</td><td>8.535061953797682E-10</td></tr><tr><td>I69.991</td><td>37.56778907984971</td><td>8.829051397578428E-10</td></tr><tr><td>I69.359</td><td>35.32513630298536</td><td>2.790077666967358E-9</td></tr><tr><td>I73.9</td><td>34.72923527144953</td><td>3.78898589538752E-9</td></tr><tr><td>I21.29</td><td>34.45553784124236</td><td>4.36100231443189E-9</td></tr><tr><td>I72.4</td><td>34.199887723987544</td><td>4.9731822789881875E-9</td></tr><tr><td>I25.83</td><td>28.95556055449876</td><td>7.405791735898042E-8</td></tr><tr><td>E11.40</td><td>27.33818628365974</td><td>1.7080477497970097E-7</td></tr><tr><td>I63.319</td><td>25.944580112021292</td><td>3.5136051907262457E-7</td></tr><tr><td>K72.00</td><td>24.998880978837754</td><td>5.736359747045812E-7</td></tr><tr><td>I69.193</td><td>24.353320852692665</td><td>8.018838784994617E-7</td></tr><tr><td>E10.8</td><td>24.06727866337052</td><td>9.30277315891565E-7</td></tr><tr><td>I70.221</td><td>22.069161033847724</td><td>2.6300119423952198E-6</td></tr><tr><td>E10.649</td><td>21.49557862184933</td><td>3.546454058152885E-6</td></tr><tr><td>I65.22</td><td>21.481816179094242</td><td>3.5719981305390273E-6</td></tr><tr><td>I25.9</td><td>21.226729560149764</td><td>4.0803421741203714E-6</td></tr><tr><td>I23.7</td><td>20.937957032670347</td><td>4.7440077980064005E-6</td></tr><tr><td>I65.02</td><td>18.869608401076295</td><td>1.3996489156439607E-5</td></tr><tr><td>I70.8</td><td>18.74568294117539</td><td>1.4936109632369684E-5</td></tr><tr><td>I69.30</td><td>18.46022611769913</td><td>1.7348739320557893E-5</td></tr><tr><td>I25.710</td><td>18.39339211546339</td><td>1.7968001113456703E-5</td></tr><tr><td>M60.9</td><td>18.32205126306381</td><td>1.865354630932993E-5</td></tr><tr><td>E10.40</td><td>18.20754895405536</td><td>1.980921204330351E-5</td></tr><tr><td>I67.9</td><td>18.10573894422739</td><td>2.089706475919252E-5</td></tr><tr><td>I63.50</td><td>17.866866514851083</td><td>2.3691012794316758E-5</td></tr><tr><td>E11.00</td><td>17.57158517797369</td><td>2.7669201095095978E-5</td></tr><tr><td>E10.21</td><td>16.822768441698734</td><td>4.1037968357488305E-5</td></tr><tr><td>I69.322</td><td>16.54106657448884</td><td>4.7607740129616645E-5</td></tr><tr><td>I25.708</td><td>16.36350330415334</td><td>5.228232822788051E-5</td></tr><tr><td>I70.203</td><td>16.315609008917047</td><td>5.362045096856334E-5</td></tr><tr><td>E11.36</td><td>16.253049326172725</td><td>5.542032701666524E-5</td></tr><tr><td>I63.40</td><td>15.998365550259132</td><td>6.339719210901507E-5</td></tr><tr><td>I69.391</td><td>15.76489944948848</td><td>7.172084915835932E-5</td></tr><tr><td>I70.92</td><td>14.977223191458515</td><td>1.0881671399180124E-4</td></tr><tr><td>E10.29</td><td>14.865145664223604</td><td>1.1547708058933195E-4</td></tr><tr><td>I65.29</td><td>14.631743121680962</td><td>1.3069452642235207E-4</td></tr><tr><td>E13.59</td><td>14.629761754096881</td><td>1.3083199843276483E-4</td></tr><tr><td>I69.959</td><td>14.45064275031819</td><td>1.4388074691965388E-4</td></tr><tr><td>K75.81</td><td>14.42357815311211</td><td>1.4596330255725547E-4</td></tr><tr><td>E10.49</td><td>14.375671718158411</td><td>1.497242864900522E-4</td></tr><tr><td>I25.790</td><td>14.016074734159417</td><td>1.812544527013704E-4</td></tr><tr><td>M60.80</td><td>13.667464550777066</td><td>2.1820236440337425E-4</td></tr><tr><td>G45.9</td><td>13.662401330080415</td><td>2.187915211026082E-4</td></tr><tr><td>I63.9</td><td>13.64816788942527</td><td>2.204563257158927E-4</td></tr><tr><td>E10.39</td><td>13.638847233383089</td><td>2.215534200257476E-4</td></tr><tr><td>I22.2</td><td>13.217333587758237</td><td>2.773719359682881E-4</td></tr><tr><td>E11.49</td><td>12.549348196114824</td><td>3.9634452592502605E-4</td></tr><tr><td>I70.298</td><td>12.351633853063102</td><td>4.406007016533733E-4</td></tr><tr><td>I70.212</td><td>12.24728844083297</td><td>4.659347485507981E-4</td></tr><tr><td>I70.261</td><td>12.191066348492617</td><td>4.8018926057007935E-4</td></tr><tr><td>M62.272</td><td>12.176660426346332</td><td>4.8391204091270955E-4</td></tr><tr><td>E11.39</td><td>12.092344107409664</td><td>5.06292817378658E-4</td></tr><tr><td>M60.859</td><td>11.917891333401222</td><td>5.559737814125302E-4</td></tr><tr><td>I69.898</td><td>11.869125489268919</td><td>5.70722051380073E-4</td></tr><tr><td>E11.29</td><td>11.551717325779627</td><td>6.768670802927516E-4</td></tr><tr><td>G45.8</td><td>11.372822241507432</td><td>7.452655266960705E-4</td></tr><tr><td>I63.531</td><td>11.046725309586225</td><td>8.884398546593569E-4</td></tr><tr><td>E10.621</td><td>10.930049412710309</td><td>9.461697217294187E-4</td></tr><tr><td>I66.13</td><td>10.900283052362841</td><td>9.614956657696946E-4</td></tr><tr><td>E13.8</td><td>10.617909868508104</td><td>0.0011199756936200475</td></tr><tr><td>I25.6</td><td>10.43426149059993</td><td>0.0012369899919214345</td></tr><tr><td>I69.351</td><td>10.176279894320317</td><td>0.0014225891328549774</td></tr><tr><td>E78.9</td><td>10.041905877167961</td><td>0.0015301880459448727</td></tr><tr><td>I71.2</td><td>9.910605694287824</td><td>0.001643290274798669</td></tr><tr><td>E13.22</td><td>9.900517508603253</td><td>0.0016523229995653178</td></tr><tr><td>I69.320</td><td>9.414022992137951</td><td>0.002153322654030728</td></tr><tr><td>I69.951</td><td>9.161405109769877</td><td>0.0024717270907675857</td></tr><tr><td>E13.621</td><td>9.111643033851378</td><td>0.002539876346456592</td></tr><tr><td>E10.10</td><td>8.67678122013405</td><td>0.003222896997023541</td></tr><tr><td>I63.30</td><td>8.67193369585205</td><td>0.0032314811756782138</td></tr><tr><td>I70.262</td><td>8.617199243653449</td><td>0.0033300348242734494</td></tr><tr><td>G45.1</td><td>8.566782581349031</td><td>0.0034235161309585154</td></tr><tr><td>I72.2</td><td>8.4617279349019</td><td>0.0036269712778512395</td></tr><tr><td>E13.319</td><td>8.19496424440411</td><td>0.004200682217203664</td></tr><tr><td>I79.8</td><td>8.190558751674677</td><td>0.004210895231895746</td></tr><tr><td>E10.59</td><td>7.996470837089562</td><td>0.004686861181428149</td></tr><tr><td>E11.649</td><td>7.962325345512313</td><td>0.004776101463437301</td></tr><tr><td>E78.5</td><td>7.438305948299844</td><td>0.006384996381459287</td></tr><tr><td>I63.00</td><td>7.088829188354004</td><td>0.007756590487371163</td></tr><tr><td>I21.09</td><td>7.053815564712024</td><td>0.007909659087391302</td></tr><tr><td>E10.22</td><td>6.888351637104143</td><td>0.008675923589586491</td></tr><tr><td>I63.412</td><td>6.7095271509236145</td><td>0.009589915041261218</td></tr><tr><td>I66.21</td><td>6.706455480053621</td><td>0.009606448615541942</td></tr><tr><td>I63.032</td><td>6.6296123548655395</td><td>0.01002970892428771</td></tr><tr><td>I72.3</td><td>6.437029688991542</td><td>0.011176537610358599</td></tr><tr><td>E10.69</td><td>6.434496739928325</td><td>0.011192486421242306</td></tr><tr><td>I63.521</td><td>6.3124144626206995</td><td>0.01198954541333429</td></tr><tr><td>E10.319</td><td>6.289847842462383</td><td>0.012143147561554827</td></tr><tr><td>M79.1</td><td>6.247893787962968</td><td>0.012434107002266877</td></tr><tr><td>E11.42</td><td>6.237435138280597</td><td>0.012507748737435934</td></tr><tr><td>I69.398</td><td>6.150535993587267</td><td>0.013137228048079092</td></tr><tr><td>E13.21</td><td>6.121364961777917</td><td>0.013355763362905821</td></tr><tr><td>M62.9</td><td>6.056702655843645</td><td>0.013853611433217033</td></tr><tr><td>I63.332</td><td>6.014129819192878</td><td>0.014191774869858119</td></tr><tr><td>G46.4</td><td>5.953554075985452</td><td>0.014687644522263637</td></tr><tr><td>I70.211</td><td>5.83871944423434</td><td>0.01567723243623458</td></tr><tr><td>I63.22</td><td>5.807235189613074</td><td>0.015960367655987094</td></tr><tr><td>I68.8</td><td>5.553288764404668</td><td>0.018445996679781394</td></tr><tr><td>G72.9</td><td>5.135263497114974</td><td>0.023444528051931354</td></tr><tr><td>E11.8</td><td>5.10576754205391</td><td>0.02384642600242945</td></tr><tr><td>E78.89</td><td>5.029537244374064</td><td>0.024918555566336632</td></tr><tr><td>I63.542</td><td>5.02079100963571</td><td>0.025044725556415792</td></tr><tr><td>I69.920</td><td>4.856857645729897</td><td>0.027536445943195986</td></tr><tr><td>E11.311</td><td>4.803615663767207</td><td>0.028400075098113767</td></tr><tr><td>M60.89</td><td>4.7856177109550035</td><td>0.028698352747002106</td></tr><tr><td>I65.8</td><td>4.678864053878897</td><td>0.030535934227934085</td></tr><tr><td>E11.618</td><td>4.4227393956658325</td><td>0.035463059553400206</td></tr><tr><td>I70.309</td><td>4.28965385344291</td><td>0.03834497150213399</td></tr><tr><td>I71.6</td><td>4.238973389024614</td><td>0.039506048795671135</td></tr><tr><td>E10.311</td><td>4.21023458638716</td><td>0.04018077995523086</td></tr><tr><td>I65.09</td><td>4.118578669039711</td><td>0.04241469900053766</td></tr><tr><td>I67.82</td><td>3.9654499939864274</td><td>0.0464431069851479</td></tr><tr><td>I70.238</td><td>3.9589837015542266</td><td>0.04662184303318816</td></tr><tr><td>I69.352</td><td>3.83342852589306</td><td>0.05024006604911348</td></tr><tr><td>E13.49</td><td>3.833309771531078</td><td>0.050243625342443914</td></tr><tr><td>I69.159</td><td>3.786337247484698</td><td>0.05167260535920573</td></tr><tr><td>E13.42</td><td>3.6896811899653317</td><td>0.05475008027342172</td></tr><tr><td>I70.208</td><td>3.645331833566577</td><td>0.05622659830581526</td></tr><tr><td>I69.854</td><td>3.6426432342974233</td><td>0.05631745688051649</td></tr><tr><td>I25.720</td><td>3.613904431659967</td><td>0.057298449415504</td></tr><tr><td>E13.69</td><td>3.6102248612637426</td><td>0.05742535468679188</td></tr><tr><td>I67.848</td><td>3.5707962277037857</td><td>0.05880410878931256</td></tr><tr><td>I69.851</td><td>3.520503323088239</td><td>0.06061403732902677</td></tr><tr><td>G46.7</td><td>3.488832615987339</td><td>0.061784139112499414</td></tr><tr><td>M62.89</td><td>3.448498283209205</td><td>0.06330926622595466</td></tr><tr><td>E10.41</td><td>3.42710221451651</td><td>0.06413454123228458</td></tr><tr><td>I21.01</td><td>3.4170437697327856</td><td>0.06452646662438948</td></tr><tr><td>I63.411</td><td>3.3990823390716822</td><td>0.06523270023911079</td></tr><tr><td>I22.0</td><td>3.3720168080277704</td><td>0.06631253031586735</td></tr><tr><td>I69.353</td><td>3.297777602647962</td><td>0.06937368333798408</td></tr><tr><td>I70.263</td><td>3.2687555846737677</td><td>0.07061116709850168</td></tr><tr><td>I69.952</td><td>3.261854099351144</td><td>0.07090890850742762</td></tr><tr><td>I20.1</td><td>3.2476763275493163</td><td>0.07152478929218206</td></tr><tr><td>I70.213</td><td>3.211225887904035</td><td>0.07313466943613571</td></tr><tr><td>E13.10</td><td>3.1993387013721053</td><td>0.07366805225127061</td></tr><tr><td>I69.054</td><td>3.0894212835264145</td><td>0.07880282986709021</td></tr><tr><td>I70.248</td><td>3.0713246588958008</td><td>0.07968451681549217</td></tr><tr><td>I67.89</td><td>3.0305908955678063</td><td>0.08170825480959422</td></tr><tr><td>I69.393</td><td>3.0002147986264607</td><td>0.08325347821288956</td></tr><tr><td>I65.1</td><td>2.9414600463018252</td><td>0.0863326641338886</td></tr><tr><td>E11.621</td><td>2.892001689569484</td><td>0.08902026062552311</td></tr><tr><td>I63.10</td><td>2.8882496650642286</td><td>0.08922781633358211</td></tr><tr><td>E13.65</td><td>2.8748315501269497</td><td>0.08997438933937443</td></tr><tr><td>I24.8</td><td>2.86558188904829</td><td>0.09049297753248979</td></tr><tr><td>I70.219</td><td>2.853855797805758</td><td>0.09115507647614036</td></tr><tr><td>I25.719</td><td>2.711346134760888</td><td>0.0996368820184739</td></tr><tr><td>E11.41</td><td>2.6999256829258758</td><td>0.10035292413997808</td></tr><tr><td>I69.90</td><td>2.6705205036181727</td><td>0.1022225873297815</td></tr><tr><td>E10.65</td><td>2.6112882085010956</td><td>0.10610553837753081</td></tr><tr><td>E78.81</td><td>2.6008616386896786</td><td>0.10680563370587806</td></tr><tr><td>G46.3</td><td>2.5892081966162594</td><td>0.10759411133075727</td></tr><tr><td>E13.9</td><td>2.560214841079253</td><td>0.10958369054159867</td></tr><tr><td>E78.3</td><td>2.518789270236522</td><td>0.11249692814672758</td></tr><tr><td>I69.931</td><td>2.5012659692497974</td><td>0.11375482294555735</td></tr><tr><td>I69.993</td><td>2.4356135235243124</td><td>0.1186074814365039</td></tr><tr><td>I25.728</td><td>2.4299078849189657</td><td>0.11903989339693494</td></tr><tr><td>I69.151</td><td>2.4140594215462214</td><td>0.1202501771694092</td></tr><tr><td>I70.222</td><td>2.403487593438828</td><td>0.1210650781521119</td></tr><tr><td>I70.245</td><td>2.3915956226704504</td><td>0.12198905860671189</td></tr><tr><td>I69.328</td><td>2.3872073657876127</td><td>0.12233198886521163</td></tr><tr><td>I69.80</td><td>2.3350277142932203</td><td>0.1264927391956234</td></tr><tr><td>I69.921</td><td>2.2886715366598365</td><td>0.13032142487633416</td></tr><tr><td>I63.02</td><td>2.2886715366598365</td><td>0.13032142487633416</td></tr><tr><td>I72.9</td><td>2.2683873978854363</td><td>0.13203722817202707</td></tr><tr><td>I69.953</td><td>2.2631807076995827</td><td>0.13248171008318507</td></tr><tr><td>G46.0</td><td>2.248811306380855</td><td>0.13371708443640787</td></tr><tr><td>E11.610</td><td>2.2485039079779603</td><td>0.133743652518972</td></tr><tr><td>I63.432</td><td>2.1913337011059446</td><td>0.13878909373212486</td></tr><tr><td>I70.232</td><td>2.155410197809126</td><td>0.14206849768663693</td></tr><tr><td>I63.212</td><td>2.1548530607095056</td><td>0.14212003886707017</td></tr><tr><td>I63.239</td><td>2.126835303276059</td><td>0.14473931745885618</td></tr><tr><td>I63.8</td><td>2.1191368976858262</td><td>0.14546850191685892</td></tr><tr><td>M60.88</td><td>2.062009089237397</td><td>0.15101095248506788</td></tr><tr><td>I66.02</td><td>2.018900885281215</td><td>0.15535155501995399</td></tr><tr><td>I69.00</td><td>1.9901620826437592</td><td>0.15832393322147004</td></tr><tr><td>E13.620</td><td>1.9829773819843954</td><td>0.15907709686390717</td></tr><tr><td>I70.243</td><td>1.9829773819843954</td><td>0.15907709686390717</td></tr><tr><td>I70.421</td><td>1.974223650334837</td><td>0.16000025809029123</td></tr><tr><td>I25.812</td><td>1.9614232800063045</td><td>0.1613611830069653</td></tr><tr><td>I25.799</td><td>1.9532590103777323</td><td>0.16223609376884499</td></tr><tr><td>I70.299</td><td>1.9470538786875773</td><td>0.1629046774026007</td></tr><tr><td>G45.2</td><td>1.9357450632043582</td><td>0.16413127420117024</td></tr><tr><td>K71.9</td><td>1.9357450632043582</td><td>0.16413127420117024</td></tr><tr><td>G46.8</td><td>1.911130375390758</td><td>0.1668377487873176</td></tr><tr><td>I63.20</td><td>1.9039456747313943</td><td>0.16763733665185152</td></tr><tr><td>I71.9</td><td>1.892458819749725</td><td>0.16892485167300506</td></tr><tr><td>E78.79</td><td>1.8895762734126669</td><td>0.16924972155439627</td></tr><tr><td>I70.322</td><td>1.8861372118506698</td><td>0.16963824995517174</td></tr><tr><td>I71.00</td><td>1.8642020540728046</td><td>0.17214060535587916</td></tr><tr><td>I75.021</td><td>1.8567567799470277</td><td>0.1729995814731394</td></tr><tr><td>I69.891</td><td>1.8464680694564846</td><td>0.17419473818700032</td></tr><tr><td>I66.01</td><td>1.8392833687971208</td><td>0.1750349640313577</td></tr><tr><td>I66.9</td><td>1.8300448142981711</td><td>0.17612225233467177</td></tr><tr><td>I21.21</td><td>1.821592634937189</td><td>0.17712381796180093</td></tr><tr><td>I66.11</td><td>1.8028143303236779</td><td>0.1793726281075137</td></tr><tr><td>E78.6</td><td>1.8001061945670958</td><td>0.17969965700398172</td></tr><tr><td>E11.44</td><td>1.7942805099546426</td><td>0.18040549417003504</td></tr><tr><td>E13.40</td><td>1.7434874453593894</td><td>0.18669755036365845</td></tr><tr><td>I69.051</td><td>1.7099587569285732</td><td>0.19099072166449926</td></tr><tr><td>I69.998</td><td>1.6388088527982911</td><td>0.2004889766263454</td></tr><tr><td>E78.4</td><td>1.5952767214541317</td><td>0.20657385461509503</td></tr><tr><td>I71.1</td><td>1.5806341450600256</td><td>0.20866937366872862</td></tr><tr><td>I66.23</td><td>1.5781036156551749</td><td>0.20903406393455817</td></tr><tr><td>E10.44</td><td>1.5518953424225705</td><td>0.2128558549990417</td></tr><tr><td>E78.70</td><td>1.5389945166989245</td><td>0.21476753139471197</td></tr><tr><td>E11.638</td><td>1.458494233850842</td><td>0.2271698559066862</td></tr><tr><td>I71.02</td><td>1.4548852596531765</td><td>0.22774568602285042</td></tr><tr><td>I70.223</td><td>1.4334014297050708</td><td>0.23121012456049184</td></tr><tr><td>I63.39</td><td>1.4010166285759316</td><td>0.2365534280495852</td></tr><tr><td>I66.12</td><td>1.3855143988101406</td><td>0.2391640732756673</td></tr><tr><td>E13.43</td><td>1.3841577994584344</td><td>0.23939419052721744</td></tr><tr><td>I70.508</td><td>1.3794625265978409</td><td>0.24019271981010393</td></tr><tr><td>I70.269</td><td>1.3794625265978409</td><td>0.24019271981010393</td></tr><tr><td>E11.01</td><td>1.3369783731462508</td><td>0.24756754189778557</td></tr><tr><td>I63.219</td><td>1.3291696219822946</td><td>0.24895299661500486</td></tr><tr><td>E11.641</td><td>1.3219849213229304</td><td>0.2502361298595473</td></tr><tr><td>I63.441</td><td>1.3004308193448393</td><td>0.25413454449695355</td></tr><tr><td>I69.893</td><td>1.2932461186854758</td><td>0.2554505930641975</td></tr><tr><td>I75.029</td><td>1.278876717366748</td><td>0.2581079951877556</td></tr><tr><td>E10.42</td><td>1.2758683929232348</td><td>0.2586686534184318</td></tr><tr><td>I63.311</td><td>1.2741122287062965</td><td>0.25899664385495813</td></tr><tr><td>G46.5</td><td>1.2719926513872786</td><td>0.2593931924792328</td></tr><tr><td>E13.610</td><td>1.2716920167073842</td><td>0.25944949857997013</td></tr><tr><td>I69.321</td><td>1.251504786926966</td><td>0.26326526565477676</td></tr><tr><td>K75.2</td><td>1.2357685134105654</td><td>0.2662881256472458</td></tr><tr><td>E11.59</td><td>1.225851824128722</td><td>0.26821527889076074</td></tr><tr><td>I69.120</td><td>1.2236578451350508</td><td>0.26864399116463294</td></tr><tr><td>I69.334</td><td>1.2070297107731107</td><td>0.27192117890560497</td></tr><tr><td>I70.234</td><td>1.2039962283480392</td><td>0.2725244214828993</td></tr><tr><td>G45.0</td><td>1.2004722645214105</td><td>0.2732273082655102</td></tr><tr><td>I69.822</td><td>1.1687021958637447</td><td>0.27966806483979756</td></tr><tr><td>I69.928</td><td>1.1639215068169277</td><td>0.28065373662740123</td></tr><tr><td>E10.43</td><td>1.158023433285782</td><td>0.28187584043649005</td></tr><tr><td>I71.4</td><td>1.150566496529557</td><td>0.28343059346663535</td></tr><tr><td>I63.211</td><td>1.1495521054982003</td><td>0.28364292924007456</td></tr><tr><td>I69.954</td><td>1.1455614144898107</td><td>0.28448023226070795</td></tr><tr><td>I69.344</td><td>1.1423674048388368</td><td>0.28515263821513315</td></tr><tr><td>I69.820</td><td>1.135182704179473</td><td>0.2866725524924345</td></tr><tr><td>I71.03</td><td>1.0848897995639268</td><td>0.29760624410840897</td></tr><tr><td>I25.769</td><td>1.0848897995639268</td><td>0.29760624410840897</td></tr><tr><td>I63.541</td><td>1.0848897995639268</td><td>0.29760624410840897</td></tr><tr><td>E10.628</td><td>1.0633356975858352</td><td>0.302455620838157</td></tr><tr><td>E13.618</td><td>1.048966296267108</td><td>0.30574527825897435</td></tr><tr><td>I67.841</td><td>1.0130427929702892</td><td>0.31417498194943483</td></tr><tr><td>I69.865</td><td>0.9914886909921977</td><td>0.31937879742264297</td></tr><tr><td>E11.52</td><td>0.9782415232969957</td><td>0.32263333166399477</td></tr><tr><td>E13.11</td><td>0.9771192896734704</td><td>0.32291104345481275</td></tr><tr><td>I69.198</td><td>0.9687232884771053</td><td>0.32499879356811</td></tr><tr><td>I63.442</td><td>0.955565187695379</td><td>0.3283067605468267</td></tr><tr><td>I63.511</td><td>0.9483928614868791</td><td>0.33012871821895834</td></tr><tr><td>I63.12</td><td>0.9411957863766516</td><td>0.33197050563094715</td></tr><tr><td>E10.51</td><td>0.9395932057068276</td><td>0.33238248069700843</td></tr><tr><td>I63.519</td><td>0.9340110857172879</td><td>0.3338228113967941</td></tr><tr><td>E11.620</td><td>0.9328572467974814</td><td>0.33412157025363176</td></tr><tr><td>E13.41</td><td>0.9268263850579243</td><td>0.33568894702440916</td></tr><tr><td>E10.610</td><td>0.9218067818919585</td><td>0.3370010171370702</td></tr><tr><td>I63.419</td><td>0.9196416843985604</td><td>0.33756907182933227</td></tr><tr><td>E13.311</td><td>0.9124569837391967</td><td>0.33946334804128164</td></tr><tr><td>I69.992</td><td>0.9092564822255393</td><td>0.34031177284268743</td></tr><tr><td>E13.29</td><td>0.9021164404791795</td><td>0.34221484890314996</td></tr><tr><td>I63.29</td><td>0.8980875824204692</td><td>0.343295018643333</td></tr><tr><td>M60.819</td><td>0.8765334804423779</td><td>0.3491528922279665</td></tr><tr><td>I70.228</td><td>0.8621640791236503</td><td>0.3531337972642059</td></tr><tr><td>I63.331</td><td>0.8549793784642866</td><td>0.355147501568128</td></tr><tr><td>I69.390</td><td>0.8436989058376375</td><td>0.35834102028722703</td></tr><tr><td>I63.6</td><td>0.8334252764861954</td><td>0.3612839409581051</td></tr><tr><td>E13.51</td><td>0.8317867239447838</td><td>0.3617563874926305</td></tr><tr><td>I70.244</td><td>0.819087308352292</td><td>0.3654471505986965</td></tr><tr><td>I63.132</td><td>0.8140817152194868</td><td>0.3669162354145935</td></tr><tr><td>I69.922</td><td>0.8118711745081041</td><td>0.3675676150655246</td></tr><tr><td>I25.758</td><td>0.8046864738487404</td><td>0.3696958742241504</td></tr><tr><td>I70.411</td><td>0.7759476712112853</td><td>0.37838335832672976</td></tr><tr><td>I75.023</td><td>0.7759476712112853</td><td>0.37838335832672976</td></tr><tr><td>I69.254</td><td>0.7615782698925577</td><td>0.38283505802349627</td></tr><tr><td>I63.549</td><td>0.7543935692331941</td><td>0.38508875588828917</td></tr><tr><td>K75.89</td><td>0.7450253121698672</td><td>0.38805583150118794</td></tr><tr><td>I70.412</td><td>0.7400241679144665</td><td>0.38965313638047594</td></tr><tr><td>I69.341</td><td>0.7328394672551027</td><td>0.39196435216346515</td></tr><tr><td>I65.9</td><td>0.7259592728361552</td><td>0.39419608926088734</td></tr><tr><td>M60.851</td><td>0.7184700659363752</td><td>0.3966462142222763</td></tr><tr><td>I66.09</td><td>0.7184700659363752</td><td>0.3966462142222763</td></tr><tr><td>I70.231</td><td>0.7041006646176478</td><td>0.4014092325060862</td></tr><tr><td>I69.859</td><td>0.696915963958284</td><td>0.403821919468938</td></tr><tr><td>I69.251</td><td>0.668177161320829</td><td>0.4136878542774777</td></tr><tr><td>I63.139</td><td>0.668177161320829</td><td>0.4136878542774777</td></tr><tr><td>I69.852</td><td>0.6466230593427379</td><td>0.42132261761879</td></tr><tr><td>I70.268</td><td>0.639438358683374</td><td>0.4239142488046578</td></tr><tr><td>E13.52</td><td>0.639438358683374</td><td>0.4239142488046578</td></tr><tr><td>E10.11</td><td>0.6322536580240102</td><td>0.4265298604618455</td></tr><tr><td>I71.01</td><td>0.6282914625429502</td><td>0.4279827100324882</td></tr><tr><td>E11.319</td><td>0.627596802425679</td><td>0.42823819515642836</td></tr><tr><td>M60.852</td><td>0.6178842567052827</td><td>0.4318345976250354</td></tr><tr><td>M60.821</td><td>0.6035148553865554</td><td>0.4372400833115565</td></tr><tr><td>I70.302</td><td>0.5990909666040409</td><td>0.43892507383371404</td></tr><tr><td>I63.529</td><td>0.5990909666040409</td><td>0.43892507383371404</td></tr><tr><td>G46.2</td><td>0.5963301547271915</td><td>0.4399816739546796</td></tr><tr><td>I63.431</td><td>0.5932552325887909</td><td>0.44116309399507503</td></tr><tr><td>I63.012</td><td>0.5891454540678278</td><td>0.4427497566956581</td></tr><tr><td>M62.261</td><td>0.5891454540678278</td><td>0.4427497566956581</td></tr><tr><td>I63.321</td><td>0.5819607534084639</td><td>0.44554479287766635</td></tr><tr><td>E13.628</td><td>0.5819607534084639</td><td>0.44554479287766635</td></tr><tr><td>E13.649</td><td>0.5819607534084639</td><td>0.44554479287766635</td></tr><tr><td>I63.342</td><td>0.5819607534084639</td><td>0.44554479287766635</td></tr><tr><td>I63.522</td><td>0.5781769061761011</td><td>0.4470278040230652</td></tr><tr><td>I66.03</td><td>0.5743462624215425</td><td>0.4485369779019842</td></tr><tr><td>I63.039</td><td>0.5675913520897365</td><td>0.45121763948612303</td></tr><tr><td>I63.131</td><td>0.5661342347859452</td><td>0.45179917072159936</td></tr><tr><td>M60.861</td><td>0.5604066514303726</td><td>0.4540964429306711</td></tr><tr><td>K71.7</td><td>0.5604066514303726</td><td>0.4540964429306711</td></tr><tr><td>M60.841</td><td>0.5460372501116453</td><td>0.45994140753902824</td></tr><tr><td>I70.229</td><td>0.5404688684295181</td><td>0.4622384771229959</td></tr><tr><td>I71.8</td><td>0.5316678487929176</td><td>0.4659065040897762</td></tr><tr><td>I66.8</td><td>0.5286802101463076</td><td>0.4671622555891599</td></tr><tr><td>I25.721</td><td>0.5276333240427951</td><td>0.4676035621344289</td></tr><tr><td>I70.291</td><td>0.5251970466002789</td><td>0.4686331500108277</td></tr><tr><td>I69.10</td><td>0.524483148133554</td><td>0.4689355386485242</td></tr><tr><td>I70.233</td><td>0.5232399106261918</td><td>0.46946289106557293</td></tr><tr><td>I70.235</td><td>0.5141146972602991</td><td>0.4733630396798135</td></tr><tr><td>I70.413</td><td>0.5101137468148265</td><td>0.4750896201055338</td></tr><tr><td>I69.853</td><td>0.5029290461554627</td><td>0.4782159442820594</td></tr><tr><td>E13.622</td><td>0.49574434549609886</td><td>0.48137601204605207</td></tr><tr><td>I63.421</td><td>0.4885596448367352</td><td>0.48457051832744813</td></tr><tr><td>I23.8</td><td>0.48436164423855266</td><td>0.48645328515524566</td></tr><tr><td>I69.020</td><td>0.48137494417737153</td><td>0.4878001826359364</td></tr><tr><td>I63.422</td><td>0.48137494417737153</td><td>0.4878001826359364</td></tr><tr><td>E08.52</td><td>0.48137494417737153</td><td>0.4878001826359364</td></tr><tr><td>I70.402</td><td>0.47419024351800765</td><td>0.4910657503266467</td></tr><tr><td>I69.098</td><td>0.47419024351800765</td><td>0.4910657503266467</td></tr><tr><td>I69.364</td><td>0.47419024351800765</td><td>0.4910657503266467</td></tr><tr><td>E10.620</td><td>0.46700554285864393</td><td>0.4943679939516833</td></tr><tr><td>I69.052</td><td>0.46700554285864393</td><td>0.4943679939516833</td></tr><tr><td>I63.119</td><td>0.46700554285864393</td><td>0.4943679939516833</td></tr><tr><td>I63.232</td><td>0.457091381243984</td><td>0.49898646648292255</td></tr><tr><td>I69.354</td><td>0.4516666904092573</td><td>0.5015445305330125</td></tr><tr><td>I69.053</td><td>0.44545144088055266</td><td>0.5045029449621503</td></tr><tr><td>I70.301</td><td>0.44545144088055266</td><td>0.5045029449621503</td></tr><tr><td>I69.298</td><td>0.43826674022118894</td><td>0.5079602145326734</td></tr><tr><td>I69.291</td><td>0.43826674022118894</td><td>0.5079602145326734</td></tr><tr><td>E10.622</td><td>0.4332667424688281</td><td>0.5103903456575087</td></tr><tr><td>I23.0</td><td>0.43108203956182517</td><td>0.511458485044601</td></tr><tr><td>I63.539</td><td>0.43108203956182517</td><td>0.511458485044601</td></tr><tr><td>I70.218</td><td>0.4255934720177115</td><td>0.5141591240730907</td></tr><tr><td>I70.312</td><td>0.4238973389024614</td><td>0.5149987264360001</td></tr><tr><td>I23.6</td><td>0.4183990077001743</td><td>0.5177369911984522</td></tr><tr><td>I63.449</td><td>0.4167126382430977</td><td>0.5185819484205676</td></tr><tr><td>I69.331</td><td>0.4120579299293548</td><td>0.5209268252616166</td></tr><tr><td>G72.2</td><td>0.4095279375837339</td><td>0.5222092028616918</td></tr><tr><td>I70.313</td><td>0.4070408576097434</td><td>0.5234752831948293</td></tr><tr><td>M62.20</td><td>0.4023432369243702</td><td>0.5258815863333282</td></tr><tr><td>E10.618</td><td>0.4023432369243702</td><td>0.5258815863333282</td></tr><tr><td>I69.949</td><td>0.3951585362650064</td><td>0.5296002428860407</td></tr><tr><td>I69.392</td><td>0.38853062435782926</td><td>0.5330727808129854</td></tr><tr><td>M62.262</td><td>0.3819938208989286</td><td>0.5365381040879169</td></tr><tr><td>E09.51</td><td>0.38078913494627886</td><td>0.5371812070190145</td></tr><tr><td>I69.031</td><td>0.38078913494627886</td><td>0.5371812070190145</td></tr><tr><td>I69.153</td><td>0.38078913494627886</td><td>0.5371812070190145</td></tr><tr><td>E13.36</td><td>0.3736044342869152</td><td>0.5410460682781606</td></tr><tr><td>I69.093</td><td>0.36641973362755137</td><td>0.5449623173094846</td></tr><tr><td>I25.759</td><td>0.36641973362755137</td><td>0.5449623173094846</td></tr><tr><td>I25.711</td><td>0.36641973362755137</td><td>0.5449623173094846</td></tr><tr><td>I66.22</td><td>0.35618889383875063</td><td>0.5506304827663022</td></tr><tr><td>I69.365</td><td>0.3520503323088239</td><td>0.5529547751740913</td></tr><tr><td>I69.152</td><td>0.3520503323088239</td><td>0.5529547751740913</td></tr><tr><td>I69.091</td><td>0.3448656316494602</td><td>0.5570340615057223</td></tr><tr><td>I63.011</td><td>0.3448656316494602</td><td>0.5570340615057223</td></tr><tr><td>I63.439</td><td>0.3448656316494602</td><td>0.5570340615057223</td></tr><tr><td>T46.6X5S</td><td>0.3448656316494602</td><td>0.5570340615057223</td></tr><tr><td>I25.798</td><td>0.34116926559678545</td><td>0.5591550760097862</td></tr><tr><td>I70.311</td><td>0.3304962303307326</td><td>0.5653670356809009</td></tr><tr><td>M60.822</td><td>0.3253045040643005</td><td>0.5684371355886271</td></tr><tr><td>I66.3</td><td>0.32331152967136895</td><td>0.5696243003376017</td></tr><tr><td>M72.8</td><td>0.3161268290120051</td><td>0.5739446292368355</td></tr><tr><td>M35.4</td><td>0.3161268290120051</td><td>0.5739446292368355</td></tr><tr><td>I63.322</td><td>0.3161268290120051</td><td>0.5739446292368355</td></tr><tr><td>I70.0</td><td>0.3160719401094983</td><td>0.5739778831439368</td></tr><tr><td>E11.43</td><td>0.3151281460153571</td><td>0.5745502668557543</td></tr><tr><td>I25.41</td><td>0.3114772370051027</td><td>0.5767751053260857</td></tr><tr><td>M60.872</td><td>0.30894212835264134</td><td>0.5783300642275326</td></tr><tr><td>I70.321</td><td>0.30894212835264134</td><td>0.5783300642275326</td></tr><tr><td>I22.8</td><td>0.3017574276932777</td><td>0.5827827634065412</td></tr><tr><td>I70.239</td><td>0.2982580411398824</td><td>0.5849765388880223</td></tr><tr><td>I65.01</td><td>0.29767512371796134</td><td>0.5853435935664755</td></tr><tr><td>I69.369</td><td>0.2945727270339139</td><td>0.5873050107621517</td></tr><tr><td>I70.344</td><td>0.2945727270339139</td><td>0.5873050107621517</td></tr><tr><td>I25.739</td><td>0.2945727270339139</td><td>0.5873050107621517</td></tr><tr><td>I66.29</td><td>0.2945727270339139</td><td>0.5873050107621517</td></tr><tr><td>I69.323</td><td>0.2873880263745501</td><td>0.5918992268770167</td></tr><tr><td>I63.341</td><td>0.2873880263745501</td><td>0.5918992268770167</td></tr><tr><td>I69.20</td><td>0.2873880263745501</td><td>0.5918992268770167</td></tr><tr><td>K75.9</td><td>0.2816455426499388</td><td>0.5956246927108185</td></tr><tr><td>K71.0</td><td>0.2802033257151863</td><td>0.596567980836609</td></tr><tr><td>I25.791</td><td>0.2802033257151863</td><td>0.596567980836609</td></tr><tr><td>K71.8</td><td>0.2802033257151863</td><td>0.596567980836609</td></tr><tr><td>I70.612</td><td>0.2802033257151863</td><td>0.596567980836609</td></tr><tr><td>I70.399</td><td>0.2802033257151863</td><td>0.596567980836609</td></tr><tr><td>E13.00</td><td>0.27626484096394216</td><td>0.5991598889427231</td></tr><tr><td>I69.122</td><td>0.27301862505582264</td><td>0.6013140035138425</td></tr><tr><td>I63.429</td><td>0.27301862505582264</td><td>0.6013140035138425</td></tr><tr><td>E78.0</td><td>0.2718191569208896</td><td>0.6021140688921807</td></tr><tr><td>I69.939</td><td>0.2658339243964588</td><td>0.6061402024297926</td></tr><tr><td>I70.401</td><td>0.2658339243964588</td><td>0.6061402024297926</td></tr><tr><td>I63.19</td><td>0.2658339243964588</td><td>0.6061402024297926</td></tr><tr><td>I67.2</td><td>0.26436465952221494</td><td>0.6071373072103425</td></tr><tr><td>K75.4</td><td>0.26371735934721</td><td>0.6075777042785844</td></tr><tr><td>E10.641</td><td>0.2586492237370951</td><td>0.6110496784257722</td></tr><tr><td>I22.1</td><td>0.25741048661794697</td><td>0.6119047926692742</td></tr><tr><td>I25.750</td><td>0.2514645230777314</td><td>0.6160457444247245</td></tr><tr><td>I69.964</td><td>0.2514645230777314</td><td>0.6160457444247245</td></tr><tr><td>M62.271</td><td>0.2514645230777314</td><td>0.6160457444247245</td></tr><tr><td>E11.630</td><td>0.24635315675056663</td><td>0.6196547191151572</td></tr><tr><td>I70.611</td><td>0.2442798224183676</td><td>0.621131946611808</td></tr><tr><td>I70.303</td><td>0.2442798224183676</td><td>0.621131946611808</td></tr><tr><td>I69.828</td><td>0.2442798224183676</td><td>0.621131946611808</td></tr><tr><td>I69.361</td><td>0.2442798224183676</td><td>0.621131946611808</td></tr><tr><td>K71.6</td><td>0.23904332627873023</td><td>0.6248979302822333</td></tr><tr><td>I69.990</td><td>0.23709512175900382</td><td>0.6263120884274969</td></tr><tr><td>M60.862</td><td>0.23709512175900382</td><td>0.6263120884274969</td></tr><tr><td>I63.111</td><td>0.23709512175900382</td><td>0.6263120884274969</td></tr><tr><td>G46.6</td><td>0.2299104210996401</td><td>0.6315902578444941</td></tr><tr><td>I70.511</td><td>0.2299104210996401</td><td>0.6315902578444941</td></tr><tr><td>I69.969</td><td>0.2299104210996401</td><td>0.6315902578444941</td></tr><tr><td>I70.292</td><td>0.22701617546655586</td><td>0.6337451701650338</td></tr><tr><td>I63.031</td><td>0.22517365597852432</td><td>0.635125814842769</td></tr><tr><td>M63.811</td><td>0.22272572044027633</td><td>0.6369708584961153</td></tr><tr><td>I70.209</td><td>0.21883205987924206</td><td>0.6399312746508627</td></tr><tr><td>I72.1</td><td>0.21844851690479958</td><td>0.6402246218291893</td></tr><tr><td>I70.512</td><td>0.21554101978091258</td><td>0.6424586453436871</td></tr><tr><td>I63.349</td><td>0.21554101978091258</td><td>0.6424586453436871</td></tr><tr><td>I70.503</td><td>0.20835631912154884</td><td>0.648058765720573</td></tr><tr><td>I69.192</td><td>0.20835631912154884</td><td>0.648058765720573</td></tr><tr><td>I69.059</td><td>0.20835631912154884</td><td>0.648058765720573</td></tr><tr><td>I70.241</td><td>0.20835631912154884</td><td>0.648058765720573</td></tr><tr><td>I63.312</td><td>0.2042296242244096</td><td>0.6513282595060589</td></tr><tr><td>I70.249</td><td>0.20379158742309514</td><td>0.6516776362747135</td></tr><tr><td>I63.329</td><td>0.2011716184621851</td><td>0.6537768067796648</td></tr><tr><td>I69.191</td><td>0.19536422798769637</td><td>0.6584890192992812</td></tr><tr><td>I69.892</td><td>0.19398691780282132</td><td>0.6596188506115359</td></tr><tr><td>E13.44</td><td>0.19398691780282132</td><td>0.6596188506115359</td></tr><tr><td>K71.2</td><td>0.19398691780282132</td><td>0.6596188506115359</td></tr><tr><td>I69.121</td><td>0.19398691780282132</td><td>0.6596188506115359</td></tr><tr><td>I69.041</td><td>0.19398691780282132</td><td>0.6596188506115359</td></tr><tr><td>E10.52</td><td>0.18704741816873163</td><td>0.6653854714969891</td></tr><tr><td>I70.613</td><td>0.1868022171434576</td><td>0.6655915386081965</td></tr><tr><td>I69.259</td><td>0.1868022171434576</td><td>0.6655915386081965</td></tr><tr><td>I70.35</td><td>0.1868022171434576</td><td>0.6655915386081965</td></tr><tr><td>I70.602</td><td>0.1868022171434576</td><td>0.6655915386081965</td></tr><tr><td>K72.01</td><td>0.1796175164840938</td><td>0.671702147044795</td></tr><tr><td>I71.5</td><td>0.1796175164840938</td><td>0.671702147044795</td></tr><tr><td>G46.1</td><td>0.1796175164840938</td><td>0.671702147044795</td></tr><tr><td>I79.1</td><td>0.1796175164840938</td><td>0.671702147044795</td></tr><tr><td>I25.730</td><td>0.1796175164840938</td><td>0.671702147044795</td></tr><tr><td>E09.52</td><td>0.1796175164840938</td><td>0.671702147044795</td></tr><tr><td>I70.513</td><td>0.1796175164840938</td><td>0.671702147044795</td></tr><tr><td>I68.0</td><td>0.17478632813956838</td><td>0.6758926128182521</td></tr><tr><td>I69.890</td><td>0.1724328158247301</td><td>0.677958676369455</td></tr><tr><td>M60.869</td><td>0.1724328158247301</td><td>0.677958676369455</td></tr><tr><td>I69.961</td><td>0.1724328158247301</td><td>0.677958676369455</td></tr><tr><td>I70.422</td><td>0.1724328158247301</td><td>0.677958676369455</td></tr><tr><td>K76.4</td><td>0.1724328158247301</td><td>0.677958676369455</td></tr><tr><td>I69.022</td><td>0.1724328158247301</td><td>0.677958676369455</td></tr><tr><td>I65.03</td><td>0.171570112204904</td><td>0.6787201526062713</td></tr><tr><td>I70.408</td><td>0.1652481151653663</td><td>0.6843699573729121</td></tr><tr><td>I70.603</td><td>0.1652481151653663</td><td>0.6843699573729121</td></tr><tr><td>I69.941</td><td>0.1652481151653663</td><td>0.6843699573729121</td></tr><tr><td>I25.738</td><td>0.1652481151653663</td><td>0.6843699573729121</td></tr><tr><td>I70.91</td><td>0.16028196371309741</td><td>0.6888970522960951</td></tr><tr><td>I70.419</td><td>0.15806341450600256</td><td>0.6909457783158747</td></tr><tr><td>I79.0</td><td>0.15107615883406095</td><td>0.6975090564922932</td></tr><tr><td>I69.220</td><td>0.15087871384663884</td><td>0.6976970383110608</td></tr><tr><td>I70.491</td><td>0.15087871384663884</td><td>0.6976970383110608</td></tr><tr><td>G71.9</td><td>0.15087871384663884</td><td>0.6976970383110608</td></tr><tr><td>I70.501</td><td>0.15087871384663884</td><td>0.6976970383110608</td></tr><tr><td>I70.439</td><td>0.15087871384663884</td><td>0.6976970383110608</td></tr><tr><td>I70.403</td><td>0.15087871384663884</td><td>0.6976970383110608</td></tr><tr><td>I25.729</td><td>0.1449072320738099</td><td>0.7034504881177166</td></tr><tr><td>I70.361</td><td>0.14369401318727504</td><td>0.7046359339169785</td></tr><tr><td>I70.391</td><td>0.13650931252791132</td><td>0.7117761881918343</td></tr><tr><td>M60.831</td><td>0.13650931252791132</td><td>0.7117761881918343</td></tr><tr><td>I63.532</td><td>0.13514035446050443</td><td>0.7131607684811216</td></tr><tr><td>I25.42</td><td>0.13416464421974766</td><td>0.7141524793699637</td></tr><tr><td>I70.333</td><td>0.12932461186854755</td><td>0.7191333346652706</td></tr><tr><td>I69.028</td><td>0.12932461186854755</td><td>0.7191333346652706</td></tr><tr><td>I69.831</td><td>0.12932461186854755</td><td>0.7191333346652706</td></tr><tr><td>I70.25</td><td>0.12305231990316794</td><td>0.7257472946387907</td></tr><tr><td>I70.392</td><td>0.1221399112091838</td><td>0.7267250732534934</td></tr><tr><td>I75.89</td><td>0.1221399112091838</td><td>0.7267250732534934</td></tr><tr><td>I69.228</td><td>0.1221399112091838</td><td>0.7267250732534934</td></tr><tr><td>I70.545</td><td>0.1221399112091838</td><td>0.7267250732534934</td></tr><tr><td>I25.768</td><td>0.11495521054982005</td><td>0.7345717217611116</td></tr><tr><td>I75.81</td><td>0.11495521054982005</td><td>0.7345717217611116</td></tr><tr><td>E11.329</td><td>0.11495521054982005</td><td>0.7345717217611116</td></tr><tr><td>I70.509</td><td>0.11495521054982005</td><td>0.7345717217611116</td></tr><tr><td>I70.799</td><td>0.11495521054982005</td><td>0.7345717217611116</td></tr><tr><td>I69.342</td><td>0.11495521054982005</td><td>0.7345717217611116</td></tr><tr><td>I63.339</td><td>0.11495521054982005</td><td>0.7345717217611116</td></tr><tr><td>M60.871</td><td>0.11495521054982005</td><td>0.7345717217611116</td></tr><tr><td>I63.59</td><td>0.11272377043064023</td><td>0.7370642181223095</td></tr><tr><td>I70.634</td><td>0.10777050989045629</td><td>0.7426967963903791</td></tr><tr><td>E10.9</td><td>0.10231635761355337</td><td>0.7490674247953097</td></tr><tr><td>I70.722</td><td>0.10058580923109255</td><td>0.751127769443032</td></tr><tr><td>I70.522</td><td>0.10058580923109255</td><td>0.751127769443032</td></tr><tr><td>K71.10</td><td>0.10058580923109255</td><td>0.751127769443032</td></tr><tr><td>I25.760</td><td>0.10058580923109255</td><td>0.751127769443032</td></tr><tr><td>I75.011</td><td>0.10058580923109255</td><td>0.751127769443032</td></tr><tr><td>R82.1</td><td>0.10058580923109255</td><td>0.751127769443032</td></tr><tr><td>I69.044</td><td>0.10058580923109255</td><td>0.751127769443032</td></tr><tr><td>E78.2</td><td>0.09730225992318063</td><td>0.755091365240402</td></tr><tr><td>I70.242</td><td>0.09443160395577722</td><td>0.7586171236029751</td></tr><tr><td>I69.332</td><td>0.0934011085717288</td><td>0.7598970752476324</td></tr><tr><td>I70.711</td><td>0.0934011085717288</td><td>0.7598970752476324</td></tr><tr><td>I69.363</td><td>0.0934011085717288</td><td>0.7598970752476324</td></tr><tr><td>I70.692</td><td>0.0934011085717288</td><td>0.7598970752476324</td></tr><tr><td>I69.349</td><td>0.0934011085717288</td><td>0.7598970752476324</td></tr><tr><td>I25.89</td><td>0.08833770664034109</td><td>0.7663011501035509</td></tr><tr><td>I70.622</td><td>0.08621640791236505</td><td>0.7690434716922074</td></tr><tr><td>I70.521</td><td>0.08621640791236505</td><td>0.7690434716922074</td></tr><tr><td>I69.832</td><td>0.08621640791236505</td><td>0.7690434716922074</td></tr><tr><td>I70.444</td><td>0.08621640791236505</td><td>0.7690434716922074</td></tr><tr><td>I70.502</td><td>0.08621640791236505</td><td>0.7690434716922074</td></tr><tr><td>I70.202</td><td>0.08046876115507498</td><td>0.7766631625883931</td></tr><tr><td>I67.81</td><td>0.0790872678773888</td><td>0.77853814824259</td></tr><tr><td>I75.012</td><td>0.07903170725300128</td><td>0.7786139244113232</td></tr><tr><td>I70.732</td><td>0.07903170725300128</td><td>0.7786139244113232</td></tr><tr><td>272.4</td><td>0.07903170725300128</td><td>0.7786139244113232</td></tr><tr><td>I69.253</td><td>0.07903170725300128</td><td>0.7786139244113232</td></tr><tr><td>I70.498</td><td>0.07903170725300128</td><td>0.7786139244113232</td></tr><tr><td>E13.39</td><td>0.07799929207283292</td><td>0.7800272421118064</td></tr><tr><td>I24.0</td><td>0.07653721462411228</td><td>0.7820461031570489</td></tr><tr><td>I70.343</td><td>0.07184700659363752</td><td>0.7886662822404157</td></tr><tr><td>I25.731</td><td>0.07184700659363752</td><td>0.7886662822404157</td></tr><tr><td>E11.351</td><td>0.07184700659363752</td><td>0.7886662822404157</td></tr><tr><td>M60.832</td><td>0.07184700659363752</td><td>0.7886662822404157</td></tr><tr><td>I70.362</td><td>0.07184700659363752</td><td>0.7886662822404157</td></tr><tr><td>I70.445</td><td>0.07184700659363752</td><td>0.7886662822404157</td></tr><tr><td>I69.821</td><td>0.07184700659363752</td><td>0.7886662822404157</td></tr><tr><td>I70.621</td><td>0.07184700659363752</td><td>0.7886662822404157</td></tr><tr><td>I66.19</td><td>0.07184700659363752</td><td>0.7886662822404157</td></tr><tr><td>I70.599</td><td>0.07184700659363752</td><td>0.7886662822404157</td></tr><tr><td>I69.144</td><td>0.07184700659363752</td><td>0.7886662822404157</td></tr><tr><td>M63.89</td><td>0.06466230593427377</td><td>0.799273192844216</td></tr><tr><td>I70.443</td><td>0.06466230593427377</td><td>0.799273192844216</td></tr><tr><td>443.9</td><td>0.06466230593427377</td><td>0.799273192844216</td></tr><tr><td>I70.318</td><td>0.06466230593427377</td><td>0.799273192844216</td></tr><tr><td>I70.335</td><td>0.06466230593427377</td><td>0.799273192844216</td></tr><tr><td>I70.319</td><td>0.06466230593427377</td><td>0.799273192844216</td></tr><tr><td>E11.359</td><td>0.06466230593427377</td><td>0.799273192844216</td></tr><tr><td>I69.339</td><td>0.06466230593427377</td><td>0.799273192844216</td></tr><tr><td>I70.345</td><td>0.06466230593427377</td><td>0.799273192844216</td></tr><tr><td>I69.944</td><td>0.06466230593427377</td><td>0.799273192844216</td></tr><tr><td>I69.934</td><td>0.06466230593427377</td><td>0.799273192844216</td></tr><tr><td>E78.71</td><td>0.06466230593427377</td><td>0.799273192844216</td></tr><tr><td>I70.793</td><td>0.06466230593427377</td><td>0.799273192844216</td></tr><tr><td>M62.269</td><td>0.06466230593427377</td><td>0.799273192844216</td></tr><tr><td>E10.36</td><td>0.06327576298182706</td><td>0.8013914293749294</td></tr><tr><td>I23.3</td><td>0.057477605274910026</td><td>0.8105280437343563</td></tr><tr><td>I70.702</td><td>0.057477605274910026</td><td>0.8105280437343563</td></tr><tr><td>I70.348</td><td>0.057477605274910026</td><td>0.8105280437343563</td></tr><tr><td>I70.519</td><td>0.057477605274910026</td><td>0.8105280437343563</td></tr><tr><td>I70.609</td><td>0.057477605274910026</td><td>0.8105280437343563</td></tr><tr><td>I70.761</td><td>0.057477605274910026</td><td>0.8105280437343563</td></tr><tr><td>E13.01</td><td>0.057477605274910026</td><td>0.8105280437343563</td></tr><tr><td>I70.562</td><td>0.05029290461554627</td><td>0.8225543795718131</td></tr><tr><td>I70.308</td><td>0.05029290461554627</td><td>0.8225543795718131</td></tr><tr><td>E13.630</td><td>0.05029290461554627</td><td>0.8225543795718131</td></tr><tr><td>I69.362</td><td>0.05029290461554627</td><td>0.8225543795718131</td></tr><tr><td>E11.321</td><td>0.05029290461554627</td><td>0.8225543795718131</td></tr><tr><td>I69.844</td><td>0.05029290461554627</td><td>0.8225543795718131</td></tr><tr><td>I69.91</td><td>0.05029290461554627</td><td>0.8225543795718131</td></tr><tr><td>I63.112</td><td>0.05029290461554627</td><td>0.8225543795718131</td></tr><tr><td>I63.49</td><td>0.04962686135010311</td><td>0.8237138392357375</td></tr><tr><td>I70.409</td><td>0.04310820395618253</td><td>0.8355216634476379</td></tr><tr><td>I25.761</td><td>0.04310820395618253</td><td>0.8355216634476379</td></tr><tr><td>I70.691</td><td>0.04310820395618253</td><td>0.8355216634476379</td></tr><tr><td>I70.434</td><td>0.04310820395618253</td><td>0.8355216634476379</td></tr><tr><td>I69.190</td><td>0.04310820395618253</td><td>0.8355216634476379</td></tr><tr><td>I69.965</td><td>0.04310820395618253</td><td>0.8355216634476379</td></tr><tr><td>I70.712</td><td>0.04310820395618253</td><td>0.8355216634476379</td></tr><tr><td>I70.601</td><td>0.04310820395618253</td><td>0.8355216634476379</td></tr><tr><td>I70.709</td><td>0.04310820395618253</td><td>0.8355216634476379</td></tr><tr><td>I69.032</td><td>0.04310820395618253</td><td>0.8355216634476379</td></tr><tr><td>E10.359</td><td>0.04310820395618253</td><td>0.8355216634476379</td></tr><tr><td>I69.062</td><td>0.04310820395618253</td><td>0.8355216634476379</td></tr><tr><td>E11.341</td><td>0.04310820395618253</td><td>0.8355216634476379</td></tr><tr><td>M62.222</td><td>0.04310820395618253</td><td>0.8355216634476379</td></tr><tr><td>I69.292</td><td>0.04310820395618253</td><td>0.8355216634476379</td></tr><tr><td>I70.448</td><td>0.04310820395618253</td><td>0.8355216634476379</td></tr><tr><td>I69.134</td><td>0.04310820395618253</td><td>0.8355216634476379</td></tr><tr><td>I70.693</td><td>0.04310820395618253</td><td>0.8355216634476379</td></tr><tr><td>I69.864</td><td>0.03592350329681876</td><td>0.8496735528948609</td></tr><tr><td>I69.222</td><td>0.03592350329681876</td><td>0.8496735528948609</td></tr><tr><td>I70.713</td><td>0.03592350329681876</td><td>0.8496735528948609</td></tr><tr><td>I70.563</td><td>0.03592350329681876</td><td>0.8496735528948609</td></tr><tr><td>I69.923</td><td>0.03592350329681876</td><td>0.8496735528948609</td></tr><tr><td>I69.333</td><td>0.03592350329681876</td><td>0.8496735528948609</td></tr><tr><td>I69.131</td><td>0.03592350329681876</td><td>0.8496735528948609</td></tr><tr><td>E10.630</td><td>0.03592350329681876</td><td>0.8496735528948609</td></tr><tr><td>I70.331</td><td>0.03592350329681876</td><td>0.8496735528948609</td></tr><tr><td>I70.339</td><td>0.03592350329681876</td><td>0.8496735528948609</td></tr><tr><td>I70.461</td><td>0.03592350329681876</td><td>0.8496735528948609</td></tr><tr><td>I69.023</td><td>0.03592350329681876</td><td>0.8496735528948609</td></tr><tr><td>414.01</td><td>0.03592350329681876</td><td>0.8496735528948609</td></tr><tr><td>I69.090</td><td>0.03592350329681876</td><td>0.8496735528948609</td></tr><tr><td>K71.3</td><td>0.028738802637455013</td><td>0.865383531135291</td></tr><tr><td>I70.418</td><td>0.028738802637455013</td><td>0.865383531135291</td></tr><tr><td>I69.841</td><td>0.028738802637455013</td><td>0.865383531135291</td></tr><tr><td>I70.323</td><td>0.028738802637455013</td><td>0.865383531135291</td></tr><tr><td>I70.703</td><td>0.028738802637455013</td><td>0.865383531135291</td></tr><tr><td>I70.608</td><td>0.028738802637455013</td><td>0.865383531135291</td></tr><tr><td>I70.363</td><td>0.028738802637455013</td><td>0.865383531135291</td></tr><tr><td>I70.721</td><td>0.028738802637455013</td><td>0.865383531135291</td></tr><tr><td>I70.435</td><td>0.028738802637455013</td><td>0.865383531135291</td></tr><tr><td>E13.641</td><td>0.028738802637455013</td><td>0.865383531135291</td></tr><tr><td>I70.433</td><td>0.028738802637455013</td><td>0.865383531135291</td></tr><tr><td>I69.063</td><td>0.028738802637455013</td><td>0.865383531135291</td></tr><tr><td>K71.50</td><td>0.028738802637455013</td><td>0.865383531135291</td></tr><tr><td>I70.662</td><td>0.028738802637455013</td><td>0.865383531135291</td></tr><tr><td>I69.823</td><td>0.028738802637455013</td><td>0.865383531135291</td></tr><tr><td>I69.034</td><td>0.028738802637455013</td><td>0.865383531135291</td></tr><tr><td>I69.252</td><td>0.028738802637455013</td><td>0.865383531135291</td></tr><tr><td>I70.338</td><td>0.028738802637455013</td><td>0.865383531135291</td></tr><tr><td>I70.798</td><td>0.028738802637455013</td><td>0.865383531135291</td></tr><tr><td>E11.339</td><td>0.028738802637455013</td><td>0.865383531135291</td></tr><tr><td>I69.092</td><td>0.028738802637455013</td><td>0.865383531135291</td></tr><tr><td>I70.462</td><td>0.028738802637455013</td><td>0.865383531135291</td></tr><tr><td>I25.811</td><td>0.028663353174117813</td><td>0.86555867093666</td></tr><tr><td>I71.3</td><td>0.0279564895344568</td><td>0.8672111561392251</td></tr><tr><td>I25.718</td><td>0.027506341189578017</td><td>0.8682747150447017</td></tr><tr><td>I22.9</td><td>0.027095928496098712</td><td>0.8692522116499127</td></tr><tr><td>E11.628</td><td>0.025089807414402105</td><td>0.8741434856058681</td></tr><tr><td>M63.80</td><td>0.021554101978091263</td><td>0.8832795023652982</td></tr><tr><td>I69.290</td><td>0.021554101978091263</td><td>0.8832795023652982</td></tr><tr><td>I70.542</td><td>0.021554101978091263</td><td>0.8832795023652982</td></tr><tr><td>I69.834</td><td>0.021554101978091263</td><td>0.8832795023652982</td></tr><tr><td>I70.532</td><td>0.021554101978091263</td><td>0.8832795023652982</td></tr><tr><td>I70.492</td><td>0.021554101978091263</td><td>0.8832795023652982</td></tr><tr><td>I70.708</td><td>0.021554101978091263</td><td>0.8832795023652982</td></tr><tr><td>I69.293</td><td>0.021554101978091263</td><td>0.8832795023652982</td></tr><tr><td>I70.792</td><td>0.021554101978091263</td><td>0.8832795023652982</td></tr><tr><td>M60.842</td><td>0.021554101978091263</td><td>0.8832795023652982</td></tr><tr><td>I70.645</td><td>0.021554101978091263</td><td>0.8832795023652982</td></tr><tr><td>M63.852</td><td>0.021554101978091263</td><td>0.8832795023652982</td></tr><tr><td>I70.649</td><td>0.021554101978091263</td><td>0.8832795023652982</td></tr><tr><td>I75.019</td><td>0.021554101978091263</td><td>0.8832795023652982</td></tr><tr><td>I70.523</td><td>0.021554101978091263</td><td>0.8832795023652982</td></tr><tr><td>M62.241</td><td>0.021554101978091263</td><td>0.8832795023652982</td></tr><tr><td>I70.334</td><td>0.021554101978091263</td><td>0.8832795023652982</td></tr><tr><td>M63.879</td><td>0.021554101978091263</td><td>0.8832795023652982</td></tr><tr><td>I70.623</td><td>0.021554101978091263</td><td>0.8832795023652982</td></tr><tr><td>I70.393</td><td>0.021554101978091263</td><td>0.8832795023652982</td></tr><tr><td>I70.735</td><td>0.021554101978091263</td><td>0.8832795023652982</td></tr><tr><td>I70.638</td><td>0.021554101978091263</td><td>0.8832795023652982</td></tr><tr><td>M62.242</td><td>0.021554101978091263</td><td>0.8832795023652982</td></tr><tr><td>I70.499</td><td>0.021554101978091263</td><td>0.8832795023652982</td></tr><tr><td>I70.293</td><td>0.020801632111554193</td><td>0.8853206608876435</td></tr><tr><td>E11.51</td><td>0.02067902061026024</td><td>0.8856568086767875</td></tr><tr><td>I25.3</td><td>0.018536826502407084</td><td>0.8917026895942378</td></tr><tr><td>I70.663</td><td>0.014369401318727507</td><td>0.9045841985422411</td></tr><tr><td>E10.638</td><td>0.014369401318727507</td><td>0.9045841985422411</td></tr><tr><td>I70.463</td><td>0.014369401318727507</td><td>0.9045841985422411</td></tr><tr><td>K71.51</td><td>0.014369401318727507</td><td>0.9045841985422411</td></tr><tr><td>I70.75</td><td>0.014369401318727507</td><td>0.9045841985422411</td></tr><tr><td>I70.661</td><td>0.014369401318727507</td><td>0.9045841985422411</td></tr><tr><td>I70.534</td><td>0.014369401318727507</td><td>0.9045841985422411</td></tr><tr><td>I69.043</td><td>0.014369401318727507</td><td>0.9045841985422411</td></tr><tr><td>I70.644</td><td>0.014369401318727507</td><td>0.9045841985422411</td></tr><tr><td>I69.31</td><td>0.014369401318727507</td><td>0.9045841985422411</td></tr><tr><td>K76.2</td><td>0.014369401318727507</td><td>0.9045841985422411</td></tr><tr><td>E78.72</td><td>0.014369401318727507</td><td>0.9045841985422411</td></tr><tr><td>I70.592</td><td>0.014369401318727507</td><td>0.9045841985422411</td></tr><tr><td>I70.744</td><td>0.014369401318727507</td><td>0.9045841985422411</td></tr><tr><td>M62.231</td><td>0.014369401318727507</td><td>0.9045841985422411</td></tr><tr><td>435.8</td><td>0.014369401318727507</td><td>0.9045841985422411</td></tr><tr><td>413.9</td><td>0.014369401318727507</td><td>0.9045841985422411</td></tr><tr><td>I69.261</td><td>0.014369401318727507</td><td>0.9045841985422411</td></tr><tr><td>I70.493</td><td>0.014369401318727507</td><td>0.9045841985422411</td></tr><tr><td>I69.849</td><td>0.014369401318727507</td><td>0.9045841985422411</td></tr><tr><td>M60.829</td><td>0.014369401318727507</td><td>0.9045841985422411</td></tr><tr><td>I70.441</td><td>0.014369401318727507</td><td>0.9045841985422411</td></tr><tr><td>E10.329</td><td>0.014369401318727507</td><td>0.9045841985422411</td></tr><tr><td>I70.619</td><td>0.014369401318727507</td><td>0.9045841985422411</td></tr><tr><td>M63.812</td><td>0.014369401318727507</td><td>0.9045841985422411</td></tr><tr><td>M63.851</td><td>0.014369401318727507</td><td>0.9045841985422411</td></tr><tr><td>I69.231</td><td>0.014369401318727507</td><td>0.9045841985422411</td></tr><tr><td>E13.339</td><td>0.014369401318727507</td><td>0.9045841985422411</td></tr><tr><td>I70.45</td><td>0.014369401318727507</td><td>0.9045841985422411</td></tr><tr><td>I69.142</td><td>0.014369401318727507</td><td>0.9045841985422411</td></tr><tr><td>I70.531</td><td>0.014369401318727507</td><td>0.9045841985422411</td></tr><tr><td>I70.718</td><td>0.014369401318727507</td><td>0.9045841985422411</td></tr><tr><td>I69.343</td><td>0.014369401318727507</td><td>0.9045841985422411</td></tr><tr><td>412</td><td>0.007184700659363753</td><td>0.9324501165814957</td></tr><tr><td>I70.729</td><td>0.007184700659363753</td><td>0.9324501165814957</td></tr><tr><td>I70.329</td><td>0.007184700659363753</td><td>0.9324501165814957</td></tr><tr><td>I70.442</td><td>0.007184700659363753</td><td>0.9324501165814957</td></tr><tr><td>M63.841</td><td>0.007184700659363753</td><td>0.9324501165814957</td></tr><tr><td>M63.872</td><td>0.007184700659363753</td><td>0.9324501165814957</td></tr><tr><td>I70.738</td><td>0.007184700659363753</td><td>0.9324501165814957</td></tr><tr><td>I70.468</td><td>0.007184700659363753</td><td>0.9324501165814957</td></tr><tr><td>I70.591</td><td>0.007184700659363753</td><td>0.9324501165814957</td></tr><tr><td>I70.561</td><td>0.007184700659363753</td><td>0.9324501165814957</td></tr><tr><td>I69.039</td><td>0.007184700659363753</td><td>0.9324501165814957</td></tr><tr><td>I69.143</td><td>0.007184700659363753</td><td>0.9324501165814957</td></tr><tr><td>I69.021</td><td>0.007184700659363753</td><td>0.9324501165814957</td></tr><tr><td>E10.351</td><td>0.007184700659363753</td><td>0.9324501165814957</td></tr><tr><td>I70.632</td><td>0.007184700659363753</td><td>0.9324501165814957</td></tr><tr><td>I70.791</td><td>0.007184700659363753</td><td>0.9324501165814957</td></tr><tr><td>I70.342</td><td>0.007184700659363753</td><td>0.9324501165814957</td></tr><tr><td>E10.341</td><td>0.007184700659363753</td><td>0.9324501165814957</td></tr><tr><td>I70.432</td><td>0.007184700659363753</td><td>0.9324501165814957</td></tr><tr><td>I69.241</td><td>0.007184700659363753</td><td>0.9324501165814957</td></tr><tr><td>I69.861</td><td>0.007184700659363753</td><td>0.9324501165814957</td></tr><tr><td>G72.1</td><td>0.007184700659363753</td><td>0.9324501165814957</td></tr><tr><td>440.21</td><td>0.007184700659363753</td><td>0.9324501165814957</td></tr><tr><td>I70.423</td><td>0.007184700659363753</td><td>0.9324501165814957</td></tr><tr><td>I70.633</td><td>0.007184700659363753</td><td>0.9324501165814957</td></tr><tr><td>E13.329</td><td>0.007184700659363753</td><td>0.9324501165814957</td></tr><tr><td>410.72</td><td>0.007184700659363753</td><td>0.9324501165814957</td></tr><tr><td>I69.049</td><td>0.007184700659363753</td><td>0.9324501165814957</td></tr><tr><td>I69.963</td><td>0.007184700659363753</td><td>0.9324501165814957</td></tr><tr><td>E11.349</td><td>0.007184700659363753</td><td>0.9324501165814957</td></tr><tr><td>I70.768</td><td>0.007184700659363753</td><td>0.9324501165814957</td></tr><tr><td>I69.942</td><td>0.007184700659363753</td><td>0.9324501165814957</td></tr><tr><td>I70.469</td><td>0.007184700659363753</td><td>0.9324501165814957</td></tr><tr><td>440.24</td><td>0.007184700659363753</td><td>0.9324501165814957</td></tr><tr><td>M63.831</td><td>0.007184700659363753</td><td>0.9324501165814957</td></tr><tr><td>440.9</td><td>0.007184700659363753</td><td>0.9324501165814957</td></tr><tr><td>I70.762</td><td>0.007184700659363753</td><td>0.9324501165814957</td></tr><tr><td>I69.839</td><td>0.007184700659363753</td><td>0.9324501165814957</td></tr><tr><td>I69.123</td><td>0.007184700659363753</td><td>0.9324501165814957</td></tr><tr><td>E11.331</td><td>0.007184700659363753</td><td>0.9324501165814957</td></tr><tr><td>E10.321</td><td>0.007184700659363753</td><td>0.9324501165814957</td></tr><tr><td>272.2</td><td>0.007184700659363753</td><td>0.9324501165814957</td></tr><tr><td>I70.429</td><td>0.007184700659363753</td><td>0.9324501165814957</td></tr><tr><td>M62.211</td><td>0.007184700659363753</td><td>0.9324501165814957</td></tr><tr><td>M62.252</td><td>0.007184700659363753</td><td>0.9324501165814957</td></tr><tr><td>I69.164</td><td>0.007184700659363753</td><td>0.9324501165814957</td></tr><tr><td>272.1</td><td>0.007184700659363753</td><td>0.9324501165814957</td></tr><tr><td>I70.438</td><td>0.007184700659363753</td><td>0.9324501165814957</td></tr><tr><td>I70.544</td><td>0.007184700659363753</td><td>0.9324501165814957</td></tr><tr><td>429.2</td><td>0.007184700659363753</td><td>0.9324501165814957</td></tr><tr><td>I70.201</td><td>0.003004387826257687</td><td>0.9562880040957287</td></tr><tr><td>I63.09</td><td>0.002788479690292368</td><td>0.9578864351885361</td></tr><tr><td>I25.111</td><td>0.0022407616035433945</td><td>0.9622448916452808</td></tr><tr><td>I63.231</td><td>0.0021275008947978925</td><td>0.9632107473606012</td></tr><tr><td>K75.3</td><td>3.3875415492274656E-5</td><td>0.9953561313772759</td></tr><tr><td>M60.811</td><td>3.3875415492274656E-5</td><td>0.9953561313772759</td></tr><tr><td>M60.812</td><td>1.7496401565977373E-6</td><td>0.9989446067706285</td></tr><tr><td>I25.751</td><td>null</td><td>null</td></tr><tr><td>K71.4</td><td>null</td><td>null</td></tr><tr><td>M63.861</td><td>null</td><td>null</td></tr><tr><td>443.81</td><td>null</td><td>null</td></tr><tr><td>I69.862</td><td>null</td><td>null</td></tr><tr><td>E13.638</td><td>null</td><td>null</td></tr><tr><td>I69.962</td><td>null</td><td>null</td></tr><tr><td>E13.351</td><td>null</td><td>null</td></tr></tbody></table></div>"
      ]
     },
     "metadata": {},
     "output_type": "display_data"
    }
   ],
   "source": [
    "display(feature_importance_dx)"
   ]
  },
  {
   "cell_type": "code",
   "execution_count": 26,
   "metadata": {},
   "outputs": [
    {
     "data": {
      "text/html": [
       "<style scoped>\n",
       "  .ansiout {\n",
       "    display: block;\n",
       "    unicode-bidi: embed;\n",
       "    white-space: pre-wrap;\n",
       "    word-wrap: break-word;\n",
       "    word-break: break-all;\n",
       "    font-family: \"Source Code Pro\", \"Menlo\", monospace;;\n",
       "    font-size: 13px;\n",
       "    color: #555;\n",
       "    margin-left: 4px;\n",
       "    line-height: 19px;\n",
       "  }\n",
       "</style>\n",
       "<div class=\"ansiout\"></div>"
      ]
     },
     "metadata": {},
     "output_type": "display_data"
    }
   ],
   "source": [
    "X = np.array(df_dict['RX_freq'].iloc[:,1:])\n",
    "y = np.array(df_dict['RX_y']['switch_flag'])\n",
    "\n",
    "chi2_scores, p_values = chi2(X, y)\n",
    "t = pd.DataFrame({'event_code': df_dict['RX_freq'].columns[1:], 'chi2': chi2_scores, 'p_value': p_values})\n",
    "feature_importance_rx = t.sort_values('chi2', ascending=False).reset_index(drop=True)"
   ]
  },
  {
   "cell_type": "code",
   "execution_count": 27,
   "metadata": {
    "scrolled": true
   },
   "outputs": [
    {
     "data": {
      "text/html": [
       "<style scoped>\n",
       "  .table-result-container {\n",
       "    max-height: 300px;\n",
       "    overflow: auto;\n",
       "  }\n",
       "  table, th, td {\n",
       "    border: 1px solid black;\n",
       "    border-collapse: collapse;\n",
       "  }\n",
       "  th, td {\n",
       "    padding: 5px;\n",
       "  }\n",
       "  th {\n",
       "    text-align: left;\n",
       "  }\n",
       "</style><div class='table-result-container'><table class='table-result'><thead style='background-color: white'><tr><th>event_code</th><th>chi2</th><th>p_value</th></tr></thead><tbody><tr><td>ATORVASTATIN CALCIUM</td><td>770.485747659541</td><td>1.4097484116773755E-169</td></tr><tr><td>EZETIMIBE-SIMVASTATIN</td><td>558.1973015950584</td><td>2.073803823489759E-123</td></tr><tr><td>LIVALO</td><td>538.907513330705</td><td>3.259125765504011E-119</td></tr><tr><td>CLOPIDOGREL</td><td>371.8435675535663</td><td>7.426684349520426E-83</td></tr><tr><td>PRAVASTATIN SODIUM</td><td>305.7769876887073</td><td>1.8163501344202924E-68</td></tr><tr><td>EZETIMIBE</td><td>298.4755436157478</td><td>7.077858015696315E-67</td></tr><tr><td>ROSUVASTATIN CALCIUM</td><td>268.5773810086883</td><td>2.3172123816581762E-60</td></tr><tr><td>CRESTOR</td><td>157.30010413313812</td><td>4.4012250492738894E-36</td></tr><tr><td>VASCEPA</td><td>109.76988871960287</td><td>1.10052488529042E-25</td></tr><tr><td>LIPITOR</td><td>107.39091079464839</td><td>3.654789326823154E-25</td></tr><tr><td>COLESTIPOL HCL</td><td>59.98251770430342</td><td>9.570368601521844E-15</td></tr><tr><td>ZETIA</td><td>36.54805187171159</td><td>1.489487549015302E-9</td></tr><tr><td>WELCHOL</td><td>28.772679726631452</td><td>8.139118190659788E-8</td></tr><tr><td>FENOFIBRATE</td><td>21.277738768769886</td><td>3.973188936131456E-6</td></tr><tr><td>PLAVIX</td><td>19.35499503098683</td><td>1.0853497067559475E-5</td></tr><tr><td>LOVASTATIN</td><td>18.384984920957688</td><td>1.804745564762985E-5</td></tr><tr><td>ALTOPREV</td><td>18.180549355661775</td><td>2.0092037699063164E-5</td></tr><tr><td>VYTORIN</td><td>17.792865064577956</td><td>2.463051517139839E-5</td></tr><tr><td>FENOFIBRIC ACID</td><td>7.238396684508479</td><td>0.007136067585445551</td></tr><tr><td>CHOLESTYRAMINE</td><td>4.971351466358048</td><td>0.02577050377926701</td></tr><tr><td>TRICOR</td><td>4.439768350428649</td><td>0.03511101121939577</td></tr><tr><td>TRILIPIX</td><td>2.2389662741416676</td><td>0.13457091829905682</td></tr><tr><td>CHOLESTYRAMINE LIGHT</td><td>1.908209892734376</td><td>0.16716224230784882</td></tr><tr><td>AMLODIPINE-ATORVASTATIN</td><td>1.4502395184781258</td><td>0.2284895236351877</td></tr><tr><td>ANTARA</td><td>1.4180643706308402</td><td>0.2337222610526555</td></tr><tr><td>SIMVASTATIN</td><td>1.3032606822089268</td><td>0.2536184804141293</td></tr><tr><td>LIPOFEN</td><td>1.0431547413614592</td><td>0.30708889595132266</td></tr><tr><td>NICOTINIC ACID</td><td>0.9249728626788466</td><td>0.33617263968852973</td></tr><tr><td>NIACIN ER</td><td>0.8904895484256692</td><td>0.34534467941647806</td></tr><tr><td>JUXTAPID</td><td>0.8141695542333338</td><td>0.36689038505032934</td></tr><tr><td>NIACIN</td><td>0.7088993896259671</td><td>0.3998094301527264</td></tr><tr><td>GEMFIBROZIL</td><td>0.6487897723459872</td><td>0.4205457000658912</td></tr><tr><td>NIACOR</td><td>0.5851843671052087</td><td>0.4442873592297022</td></tr><tr><td>COLESEVELAM HCL</td><td>0.3721466873795601</td><td>0.5418364585824236</td></tr><tr><td>PRAVACHOL</td><td>0.35619917997708356</td><td>0.5506247287306061</td></tr><tr><td>ZYPITAMAG</td><td>0.30531358283750026</td><td>0.580570298373509</td></tr><tr><td>TRIGLIDE</td><td>0.29259218355260436</td><td>0.5885641667476293</td></tr><tr><td>NIACIN FLUSH FREE</td><td>0.27987078426770845</td><td>0.5967859217903708</td></tr><tr><td>LESCOL XL</td><td>0.24170658641302095</td><td>0.6229762362056672</td></tr><tr><td>ZOCOR</td><td>0.24170658641302095</td><td>0.6229762362056672</td></tr><tr><td>FLUVASTATIN SODIUM</td><td>0.22814080654443408</td><td>0.6329058321650872</td></tr><tr><td>FLUVASTATIN ER</td><td>0.20969552186913173</td><td>0.6470061555399758</td></tr><tr><td>CADUET</td><td>0.17809958998854178</td><td>0.6730115352179216</td></tr><tr><td>LOPID</td><td>0.12721399284895843</td><td>0.7213383378997176</td></tr><tr><td>QUESTRAN</td><td>0.08904979499427089</td><td>0.7653886377267182</td></tr><tr><td>PREVALITE</td><td>0.05525667605077475</td><td>0.8141564315483295</td></tr><tr><td>SLO-NIACIN</td><td>0.05088559713958336</td><td>0.8215293721691459</td></tr><tr><td>COLESTID</td><td>0.05088559713958336</td><td>0.8215293721691459</td></tr><tr><td>FENOGLIDE</td><td>0.01272139928489584</td><td>0.9101976961495724</td></tr><tr><td>NIASPAN</td><td>1.8562570114476617E-5</td><td>0.9965623807596917</td></tr><tr><td>FIBRICOR</td><td>null</td><td>null</td></tr></tbody></table></div>"
      ]
     },
     "metadata": {},
     "output_type": "display_data"
    }
   ],
   "source": [
    "display(feature_importance_rx)"
   ]
  },
  {
   "cell_type": "code",
   "execution_count": 28,
   "metadata": {},
   "outputs": [
    {
     "data": {
      "text/html": [
       "<style scoped>\n",
       "  .ansiout {\n",
       "    display: block;\n",
       "    unicode-bidi: embed;\n",
       "    white-space: pre-wrap;\n",
       "    word-wrap: break-word;\n",
       "    word-break: break-all;\n",
       "    font-family: \"Source Code Pro\", \"Menlo\", monospace;;\n",
       "    font-size: 13px;\n",
       "    color: #555;\n",
       "    margin-left: 4px;\n",
       "    line-height: 19px;\n",
       "  }\n",
       "</style>\n",
       "<div class=\"ansiout\"></div>"
      ]
     },
     "metadata": {},
     "output_type": "display_data"
    }
   ],
   "source": [
    "X = np.array(df_dict['PX_freq'].iloc[:,1:])\n",
    "y = np.array(df_dict['PX_y']['switch_flag'])\n",
    "\n",
    "chi2_scores, p_values = chi2(X, y)\n",
    "t = pd.DataFrame({'event_code': df_dict['PX_freq'].columns[1:], 'chi2': chi2_scores, 'p_value': p_values})\n",
    "feature_importance_px = t.sort_values('chi2', ascending=False).reset_index(drop=True)"
   ]
  },
  {
   "cell_type": "code",
   "execution_count": 29,
   "metadata": {},
   "outputs": [
    {
     "data": {
      "text/html": [
       "<style scoped>\n",
       "  .table-result-container {\n",
       "    max-height: 300px;\n",
       "    overflow: auto;\n",
       "  }\n",
       "  table, th, td {\n",
       "    border: 1px solid black;\n",
       "    border-collapse: collapse;\n",
       "  }\n",
       "  th, td {\n",
       "    padding: 5px;\n",
       "  }\n",
       "  th {\n",
       "    text-align: left;\n",
       "  }\n",
       "</style><div class='table-result-container'><table class='table-result'><thead style='background-color: white'><tr><th>event_code</th><th>chi2</th><th>p_value</th></tr></thead><tbody><tr><td>33519</td><td>14.565608120425114</td><td>1.3536268226075747E-4</td></tr><tr><td>92973</td><td>10.7738880961895</td><td>0.0010294203736134994</td></tr><tr><td>92944</td><td>10.742729793740002</td><td>0.0010468979040132215</td></tr><tr><td>33521</td><td>10.11313552334392</td><td>0.0014721628823706227</td></tr><tr><td>37228</td><td>9.993359618178047</td><td>0.0015710571463311012</td></tr><tr><td>37225</td><td>8.704372968714079</td><td>0.0031744759120255314</td></tr><tr><td>92943</td><td>6.500628843414415</td><td>0.010783634557551233</td></tr><tr><td>33512</td><td>3.591296032063166</td><td>0.05808292833919944</td></tr><tr><td>37226</td><td>3.2256509759641765</td><td>0.0724929684460467</td></tr><tr><td>37229</td><td>3.054181622674709</td><td>0.08052955442894559</td></tr><tr><td>33518</td><td>2.8102716058235604</td><td>0.09366251684432479</td></tr><tr><td>92929</td><td>2.697639425468662</td><td>0.10049694258555447</td></tr><tr><td>C9602</td><td>2.25980493878398</td><td>0.13277078364198927</td></tr><tr><td>92920</td><td>2.0485442993941563</td><td>0.15235179889538297</td></tr><tr><td>92928</td><td>1.8701656251348187</td><td>0.17145611146391432</td></tr><tr><td>35600</td><td>1.807843951027184</td><td>0.1787670847990515</td></tr><tr><td>37233</td><td>1.7074081759701185</td><td>0.19132199201260977</td></tr><tr><td>35301</td><td>1.481928663995727</td><td>0.22347300857924252</td></tr><tr><td>37232</td><td>1.4566877928319206</td><td>0.22745786367364618</td></tr><tr><td>37227</td><td>1.3370209203648709</td><td>0.2475600189194705</td></tr><tr><td>33517</td><td>1.3343821942361813</td><td>0.2480271146427</td></tr><tr><td>37215</td><td>1.1550114131562563</td><td>0.28250253724398117</td></tr><tr><td>33534</td><td>1.060883330430869</td><td>0.3030138042261874</td></tr><tr><td>33511</td><td>1.0043577505706578</td><td>0.31625835231757793</td></tr><tr><td>37230</td><td>0.903921975513592</td><td>0.3417322576305331</td></tr><tr><td>33510</td><td>0.6528325378709278</td><td>0.4191017901349978</td></tr><tr><td>33572</td><td>0.6528325378709278</td><td>0.4191017901349978</td></tr><tr><td>92924</td><td>0.6026146503423948</td><td>0.4375821538992063</td></tr><tr><td>92933</td><td>0.5374056475009802</td><td>0.4635099033972656</td></tr><tr><td>C9607</td><td>0.48378445301609274</td><td>0.48671309717089206</td></tr><tr><td>92921</td><td>0.41549026099547837</td><td>0.5191959374109423</td></tr><tr><td>92941</td><td>0.41549026099547837</td><td>0.5191959374109423</td></tr><tr><td>33535</td><td>0.40174310022826315</td><td>0.5261904176837768</td></tr><tr><td>92938</td><td>0.35152521269973025</td><td>0.5532510114410104</td></tr><tr><td>37231</td><td>0.3324656276206956</td><td>0.5642108314308443</td></tr><tr><td>92937</td><td>0.29150116446778357</td><td>0.5892601509521074</td></tr><tr><td>C9601</td><td>0.2814000751324193</td><td>0.5957850229402766</td></tr><tr><td>33522</td><td>0.25108943764266445</td><td>0.6163090134993674</td></tr><tr><td>92934</td><td>0.20087155011413158</td><td>0.6540182737092524</td></tr><tr><td>37224</td><td>0.1536065146480199</td><td>0.6951123964649969</td></tr><tr><td>C9605</td><td>0.1506536625855987</td><td>0.6979114759964719</td></tr><tr><td>C9606</td><td>0.1506536625855987</td><td>0.6979114759964719</td></tr><tr><td>37218</td><td>0.10043577505706579</td><td>0.7513073123699677</td></tr><tr><td>37216</td><td>0.10043577505706579</td><td>0.7513073123699677</td></tr><tr><td>33513</td><td>0.10043577505706579</td><td>0.7513073123699677</td></tr><tr><td>37234</td><td>0.10043577505706579</td><td>0.7513073123699677</td></tr><tr><td>C9608</td><td>0.10043577505706579</td><td>0.7513073123699677</td></tr><tr><td>33533</td><td>0.07463315043348653</td><td>0.7847066399401426</td></tr><tr><td>C9604</td><td>0.07103210604031221</td><td>0.7898399204891363</td></tr><tr><td>37222</td><td>0.06686205944445117</td><td>0.7959616393584275</td></tr><tr><td>C9600</td><td>0.06200751969609416</td><td>0.8033506548385366</td></tr><tr><td>37221</td><td>0.05404674583265598</td><td>0.8161655610966575</td></tr><tr><td>33536</td><td>0.050217887528532894</td><td>0.8226845661231195</td></tr><tr><td>35390</td><td>0.050217887528532894</td><td>0.8226845661231195</td></tr><tr><td>37223</td><td>8.365729971218992E-4</td><td>0.9769255460244416</td></tr><tr><td>37220</td><td>2.57907391658491E-4</td><td>0.9871869273537497</td></tr></tbody></table></div>"
      ]
     },
     "metadata": {},
     "output_type": "display_data"
    }
   ],
   "source": [
    "display(feature_importance_px)"
   ]
  },
  {
   "cell_type": "code",
   "execution_count": 30,
   "metadata": {},
   "outputs": [
    {
     "data": {
      "text/html": [
       "<style scoped>\n",
       "  .ansiout {\n",
       "    display: block;\n",
       "    unicode-bidi: embed;\n",
       "    white-space: pre-wrap;\n",
       "    word-wrap: break-word;\n",
       "    word-break: break-all;\n",
       "    font-family: \"Source Code Pro\", \"Menlo\", monospace;;\n",
       "    font-size: 13px;\n",
       "    color: #555;\n",
       "    margin-left: 4px;\n",
       "    line-height: 19px;\n",
       "  }\n",
       "</style>\n",
       "<div class=\"ansiout\">Out[18]: (56, 3)</div>"
      ]
     },
     "metadata": {},
     "output_type": "display_data"
    }
   ],
   "source": [
    "feature_importance_rx.shape"
   ]
  },
  {
   "cell_type": "code",
   "execution_count": 31,
   "metadata": {},
   "outputs": [
    {
     "data": {
      "text/html": [
       "<style scoped>\n",
       "  .ansiout {\n",
       "    display: block;\n",
       "    unicode-bidi: embed;\n",
       "    white-space: pre-wrap;\n",
       "    word-wrap: break-word;\n",
       "    word-break: break-all;\n",
       "    font-family: \"Source Code Pro\", \"Menlo\", monospace;;\n",
       "    font-size: 13px;\n",
       "    color: #555;\n",
       "    margin-left: 4px;\n",
       "    line-height: 19px;\n",
       "  }\n",
       "</style>\n",
       "<div class=\"ansiout\">Out[19]: 196</div>"
      ]
     },
     "metadata": {},
     "output_type": "display_data"
    }
   ],
   "source": [
    "imp_rx = feature_importance_rx[feature_importance_rx['p_value']<=0.05]['event_code'].tolist()\n",
    "imp_px = feature_importance_px[feature_importance_px['p_value']<=0.05]['event_code'].tolist()\n",
    "imp_dx = feature_importance_dx[feature_importance_dx['p_value']<=0.05]['event_code'].tolist()\n",
    "all_imp_events = imp_rx + imp_px + imp_dx\n",
    "len(all_imp_events)"
   ]
  },
  {
   "cell_type": "code",
   "execution_count": 32,
   "metadata": {},
   "outputs": [
    {
     "data": {
      "text/html": [
       "<style scoped>\n",
       "  .ansiout {\n",
       "    display: block;\n",
       "    unicode-bidi: embed;\n",
       "    white-space: pre-wrap;\n",
       "    word-wrap: break-word;\n",
       "    word-break: break-all;\n",
       "    font-family: \"Source Code Pro\", \"Menlo\", monospace;;\n",
       "    font-size: 13px;\n",
       "    color: #555;\n",
       "    margin-left: 4px;\n",
       "    line-height: 19px;\n",
       "  }\n",
       "</style>\n",
       "<div class=\"ansiout\"></div>"
      ]
     },
     "metadata": {},
     "output_type": "display_data"
    }
   ],
   "source": [
    "temp_df = pd.DataFrame(all_imp_events)\n",
    "temp_df.rename(columns = {0:'imp_events'},inplace=True)"
   ]
  },
  {
   "cell_type": "code",
   "execution_count": 33,
   "metadata": {},
   "outputs": [
    {
     "data": {
      "text/html": [
       "<style scoped>\n",
       "  .ansiout {\n",
       "    display: block;\n",
       "    unicode-bidi: embed;\n",
       "    white-space: pre-wrap;\n",
       "    word-wrap: break-word;\n",
       "    word-break: break-all;\n",
       "    font-family: \"Source Code Pro\", \"Menlo\", monospace;;\n",
       "    font-size: 13px;\n",
       "    color: #555;\n",
       "    margin-left: 4px;\n",
       "    line-height: 19px;\n",
       "  }\n",
       "</style>\n",
       "<div class=\"ansiout\"></div>"
      ]
     },
     "metadata": {},
     "output_type": "display_data"
    }
   ],
   "source": [
    "temp_df = spark.createDataFrame(temp_df)\n",
    "\n",
    "temp_df.createOrReplaceTempView('temp_df_view')"
   ]
  },
  {
   "cell_type": "code",
   "execution_count": 34,
   "metadata": {},
   "outputs": [
    {
     "data": {
      "text/html": [
       "<style scoped>\n",
       "  .table-result-container {\n",
       "    max-height: 300px;\n",
       "    overflow: auto;\n",
       "  }\n",
       "  table, th, td {\n",
       "    border: 1px solid black;\n",
       "    border-collapse: collapse;\n",
       "  }\n",
       "  th, td {\n",
       "    padding: 5px;\n",
       "  }\n",
       "  th {\n",
       "    text-align: left;\n",
       "  }\n",
       "</style><div class='table-result-container'><table class='table-result'><thead style='background-color: white'><tr></tr></thead><tbody></tbody></table></div>"
      ]
     },
     "metadata": {},
     "output_type": "display_data"
    }
   ],
   "source": [
    "%sql\n",
    "drop table if exists events_chi2_p_value;\n",
    "\n",
    "create table events_chi2_p_value as\n",
    "select * from temp_df_view;"
   ]
  },
  {
   "cell_type": "code",
   "execution_count": 35,
   "metadata": {},
   "outputs": [],
   "source": [
    "training_data_for_cnn_no_exclusion"
   ]
  },
  {
   "cell_type": "code",
   "execution_count": 36,
   "metadata": {},
   "outputs": [
    {
     "data": {
      "text/html": [
       "<style scoped>\n",
       "  .table-result-container {\n",
       "    max-height: 300px;\n",
       "    overflow: auto;\n",
       "  }\n",
       "  table, th, td {\n",
       "    border: 1px solid black;\n",
       "    border-collapse: collapse;\n",
       "  }\n",
       "  th, td {\n",
       "    padding: 5px;\n",
       "  }\n",
       "  th {\n",
       "    text-align: left;\n",
       "  }\n",
       "</style><div class='table-result-container'><table class='table-result'><thead style='background-color: white'><tr><th>col_name</th><th>data_type</th><th>comment</th></tr></thead><tbody><tr><td>imp_events</td><td>string</td><td>null</td></tr></tbody></table></div>"
      ]
     },
     "metadata": {},
     "output_type": "display_data"
    }
   ],
   "source": [
    "%sql \n",
    "describe events_chi2_p_value"
   ]
  },
  {
   "cell_type": "code",
   "execution_count": 37,
   "metadata": {},
   "outputs": [
    {
     "data": {
      "text/html": [
       "<style scoped>\n",
       "  .ansiout {\n",
       "    display: block;\n",
       "    unicode-bidi: embed;\n",
       "    white-space: pre-wrap;\n",
       "    word-wrap: break-word;\n",
       "    word-break: break-all;\n",
       "    font-family: \"Source Code Pro\", \"Menlo\", monospace;;\n",
       "    font-size: 13px;\n",
       "    color: #555;\n",
       "    margin-left: 4px;\n",
       "    line-height: 19px;\n",
       "  }\n",
       "</style>\n",
       "<div class=\"ansiout\"></div>"
      ]
     },
     "metadata": {},
     "output_type": "display_data"
    }
   ],
   "source": [
    "temp_df.to_pickle('chi2_p_value_events_6mo_till_Oct.pkl')"
   ]
  },
  {
   "cell_type": "code",
   "execution_count": 38,
   "metadata": {},
   "outputs": [
    {
     "data": {
      "text/html": [
       "<style scoped>\n",
       "  .ansiout {\n",
       "    display: block;\n",
       "    unicode-bidi: embed;\n",
       "    white-space: pre-wrap;\n",
       "    word-wrap: break-word;\n",
       "    word-break: break-all;\n",
       "    font-family: \"Source Code Pro\", \"Menlo\", monospace;;\n",
       "    font-size: 13px;\n",
       "    color: #555;\n",
       "    margin-left: 4px;\n",
       "    line-height: 19px;\n",
       "  }\n",
       "</style>\n",
       "<div class=\"ansiout\">Copied\n",
       "</div>"
      ]
     },
     "metadata": {},
     "output_type": "display_data"
    }
   ],
   "source": [
    "bucket_path = 's3a://amgen-edl-gco-us-analytics-repai-development/treatment_pattern/refreshed_tables/chi2_pvalue/'\n",
    "local_path = 'databricks/driver/'\n",
    "\n",
    "def copy_to_s3(local_path, bucket_path, file_name_with_extension):\n",
    "  dbutils.fs.cp(\"file:/\"+local_path+file_name_with_extension, bucket_path+file_name_with_extension)\n",
    "  print('Copied')\n",
    "\n",
    "def copy_from_s3(local_path, bucket_path, file_name_with_extension):\n",
    "  dbutils.fs.cp(bucket_path+file_name_with_extension, \"file:/\"+local_path+file_name_with_extension)\n",
    "  print('Copied')\n",
    "  \n",
    "copy_to_s3(local_path, bucket_path, 'chi2_p_value_events_6mo_till_Oct.pkl')"
   ]
  },
  {
   "cell_type": "code",
   "execution_count": 39,
   "metadata": {},
   "outputs": [
    {
     "data": {
      "text/html": [
       "<style scoped>\n",
       "  .ansiout {\n",
       "    display: block;\n",
       "    unicode-bidi: embed;\n",
       "    white-space: pre-wrap;\n",
       "    word-wrap: break-word;\n",
       "    word-break: break-all;\n",
       "    font-family: \"Source Code Pro\", \"Menlo\", monospace;;\n",
       "    font-size: 13px;\n",
       "    color: #555;\n",
       "    margin-left: 4px;\n",
       "    line-height: 19px;\n",
       "  }\n",
       "</style>\n",
       "<div class=\"ansiout\">adstock_scores_p_value_events.pkl\n",
       "adstock_with_hml.pkl\n",
       "chi2_p_value_events_1year_till_Oct.pkl\n",
       "chi2_p_value_events_1yr_till_Oct.pkl\n",
       "chi2_p_value_events_2years_till_Nov.pkl\n",
       "chi2_p_value_events_2yrs_till_Oct.pkl\n",
       "chi2_p_value_events_6mo_till_Oct.pkl\n",
       "conf\n",
       "derby.log\n",
       "DX_cross_eclong.pkl\n",
       "DX_y_eclong.pkl\n",
       "eventlogs\n",
       "ganglia\n",
       "logs\n",
       "PX_cross_eclong.pkl\n",
       "PX_y_eclong.pkl\n",
       "RX_cross_eclong.pkl\n",
       "RX_y_eclong.pkl\n",
       "stacked_lstm_128_w2v32_08-0.86.h5\n",
       "test_cross_data_chi2_pvalue_refreshed_tables_modified.pkl\n",
       "test_cross_data_chi2_pvalue_refreshed_tables.pkl\n",
       "test_cross_data_refreshed_tables.pkl\n",
       "train_cross_data_chi2_pvalue_refreshed_tables_modified.pkl\n",
       "train_cross_data_chi2_pvalue_refreshed_tables.pkl\n",
       "train_cross_data_refreshed_tables.pkl\n",
       "training_cohort_1yr_till_Oct.csv\n",
       "training_cohort_2yrs_till_Oct.csv\n",
       "training_cohort_6mo_till_Oct.csv\n",
       "w2v_32_refreshed_tables.model\n",
       "</div>"
      ]
     },
     "metadata": {},
     "output_type": "display_data"
    }
   ],
   "source": [
    "%sh ls"
   ]
  },
  {
   "cell_type": "code",
   "execution_count": 40,
   "metadata": {},
   "outputs": [
    {
     "data": {
      "text/html": [
       "<style scoped>\n",
       "  .ansiout {\n",
       "    display: block;\n",
       "    unicode-bidi: embed;\n",
       "    white-space: pre-wrap;\n",
       "    word-wrap: break-word;\n",
       "    word-break: break-all;\n",
       "    font-family: \"Source Code Pro\", \"Menlo\", monospace;;\n",
       "    font-size: 13px;\n",
       "    color: #555;\n",
       "    margin-left: 4px;\n",
       "    line-height: 19px;\n",
       "  }\n",
       "</style>\n",
       "<div class=\"ansiout\"></div>"
      ]
     },
     "metadata": {},
     "output_type": "display_data"
    }
   ],
   "source": [
    "classifier = LogisticRegression(random_state=99, solver='saga', max_iter=2000)\n",
    "classifier.fit(x, y)"
   ]
  },
  {
   "cell_type": "code",
   "execution_count": 41,
   "metadata": {},
   "outputs": [
    {
     "data": {
      "text/html": [
       "<style scoped>\n",
       "  .ansiout {\n",
       "    display: block;\n",
       "    unicode-bidi: embed;\n",
       "    white-space: pre-wrap;\n",
       "    word-wrap: break-word;\n",
       "    word-break: break-all;\n",
       "    font-family: \"Source Code Pro\", \"Menlo\", monospace;;\n",
       "    font-size: 13px;\n",
       "    color: #555;\n",
       "    margin-left: 4px;\n",
       "    line-height: 19px;\n",
       "  }\n",
       "</style>\n",
       "<div class=\"ansiout\"></div>"
      ]
     },
     "metadata": {},
     "output_type": "display_data"
    }
   ],
   "source": [
    "def select_features(df_X, df_y, frac_num_features):\n",
    "  skbest = SelectKBest(chi2, k=int(frac_num_features*len(df_X.columns[1:])))\n",
    "  X = skbest.fit_transform(df_X[df_X.columns[1:]], np.array(df_y['switch_flag']))\n",
    "  keep_features = dict(zip(df_X.columns[1:] ,list(skbest.get_support())))\n",
    "  keep_features_list = [key for key in keep_features.keys() if keep_features[key]==True]\n",
    "  X_df = pd.DataFrame(X, columns = keep_features_list)\n",
    "  \n",
    "  X_df_sparse = csr_matrix(X_df)\n",
    "  \n",
    "#   print('Fitting Logistic Regression')\n",
    "#   fit_logistic_reg(X_df_sparse, np.array(df_y['switch_flag']))\n",
    "#   preds = clf.predict_proba(X_df_sparse)[:,1]\n",
    "#   print(roc_auc_score(np.array(df_y['switch_flag']), preds))\n",
    "  \n",
    "  return X_df"
   ]
  },
  {
   "cell_type": "code",
   "execution_count": 42,
   "metadata": {},
   "outputs": [
    {
     "data": {
      "text/html": [
       "<style scoped>\n",
       "  .ansiout {\n",
       "    display: block;\n",
       "    unicode-bidi: embed;\n",
       "    white-space: pre-wrap;\n",
       "    word-wrap: break-word;\n",
       "    word-break: break-all;\n",
       "    font-family: \"Source Code Pro\", \"Menlo\", monospace;;\n",
       "    font-size: 13px;\n",
       "    color: #555;\n",
       "    margin-left: 4px;\n",
       "    line-height: 19px;\n",
       "  }\n",
       "</style>\n",
       "<div class=\"ansiout\"></div>"
      ]
     },
     "metadata": {},
     "output_type": "display_data"
    }
   ],
   "source": [
    "dx_feat = select_features(df_dict['DX_freq'], df_dict['DX_y'], 0.6)"
   ]
  },
  {
   "cell_type": "code",
   "execution_count": 43,
   "metadata": {},
   "outputs": [
    {
     "data": {
      "text/html": [
       "<style scoped>\n",
       "  .ansiout {\n",
       "    display: block;\n",
       "    unicode-bidi: embed;\n",
       "    white-space: pre-wrap;\n",
       "    word-wrap: break-word;\n",
       "    word-break: break-all;\n",
       "    font-family: \"Source Code Pro\", \"Menlo\", monospace;;\n",
       "    font-size: 13px;\n",
       "    color: #555;\n",
       "    margin-left: 4px;\n",
       "    line-height: 19px;\n",
       "  }\n",
       "</style>\n",
       "<div class=\"ansiout\"></div>"
      ]
     },
     "metadata": {},
     "output_type": "display_data"
    }
   ],
   "source": [
    "rx_feat = select_features(df_dict['RX_freq'], df_dict['RX_y'], 0.6)"
   ]
  },
  {
   "cell_type": "code",
   "execution_count": 44,
   "metadata": {},
   "outputs": [
    {
     "data": {
      "text/html": [
       "<style scoped>\n",
       "  .ansiout {\n",
       "    display: block;\n",
       "    unicode-bidi: embed;\n",
       "    white-space: pre-wrap;\n",
       "    word-wrap: break-word;\n",
       "    word-break: break-all;\n",
       "    font-family: \"Source Code Pro\", \"Menlo\", monospace;;\n",
       "    font-size: 13px;\n",
       "    color: #555;\n",
       "    margin-left: 4px;\n",
       "    line-height: 19px;\n",
       "  }\n",
       "</style>\n",
       "<div class=\"ansiout\"></div>"
      ]
     },
     "metadata": {},
     "output_type": "display_data"
    }
   ],
   "source": [
    "rx_cols_renamed = []\n",
    "for rx_code in rx_feat.columns:\n",
    "  new_name = '_'.join([elem for elem in rx_code.split()])\n",
    "  rx_cols_renamed.append(new_name)\n",
    "\n",
    "rx_feat.columns = rx_cols_renamed"
   ]
  },
  {
   "cell_type": "code",
   "execution_count": 45,
   "metadata": {},
   "outputs": [
    {
     "data": {
      "text/html": [
       "<style scoped>\n",
       "  .ansiout {\n",
       "    display: block;\n",
       "    unicode-bidi: embed;\n",
       "    white-space: pre-wrap;\n",
       "    word-wrap: break-word;\n",
       "    word-break: break-all;\n",
       "    font-family: \"Source Code Pro\", \"Menlo\", monospace;;\n",
       "    font-size: 13px;\n",
       "    color: #555;\n",
       "    margin-left: 4px;\n",
       "    line-height: 19px;\n",
       "  }\n",
       "</style>\n",
       "<div class=\"ansiout\"></div>"
      ]
     },
     "metadata": {},
     "output_type": "display_data"
    }
   ],
   "source": [
    "px_feat = select_features(df_dict['PX_freq'], df_dict['PX_y'], 0.6)"
   ]
  },
  {
   "cell_type": "code",
   "execution_count": 46,
   "metadata": {},
   "outputs": [
    {
     "data": {
      "text/html": [
       "<style scoped>\n",
       "  .ansiout {\n",
       "    display: block;\n",
       "    unicode-bidi: embed;\n",
       "    white-space: pre-wrap;\n",
       "    word-wrap: break-word;\n",
       "    word-break: break-all;\n",
       "    font-family: \"Source Code Pro\", \"Menlo\", monospace;;\n",
       "    font-size: 13px;\n",
       "    color: #555;\n",
       "    margin-left: 4px;\n",
       "    line-height: 19px;\n",
       "  }\n",
       "</style>\n",
       "<div class=\"ansiout\"></div>"
      ]
     },
     "metadata": {},
     "output_type": "display_data"
    }
   ],
   "source": [
    "dx_spark = spark.createDataFrame(dx_feat.loc[:10,:])\n",
    "rx_spark = spark.createDataFrame(rx_feat.loc[:10,:])\n",
    "px_spark = spark.createDataFrame(px_feat.loc[:10,:])\n",
    "\n",
    "dx_spark.createOrReplaceTempView('dx_spark_view')\n",
    "rx_spark.createOrReplaceTempView('rx_spark_view')\n",
    "px_spark.createOrReplaceTempView('px_spark_view')"
   ]
  },
  {
   "cell_type": "code",
   "execution_count": 47,
   "metadata": {},
   "outputs": [
    {
     "data": {
      "text/html": [
       "<style scoped>\n",
       "  .table-result-container {\n",
       "    max-height: 300px;\n",
       "    overflow: auto;\n",
       "  }\n",
       "  table, th, td {\n",
       "    border: 1px solid black;\n",
       "    border-collapse: collapse;\n",
       "  }\n",
       "  th, td {\n",
       "    padding: 5px;\n",
       "  }\n",
       "  th {\n",
       "    text-align: left;\n",
       "  }\n",
       "</style><div class='table-result-container'><table class='table-result'><thead style='background-color: white'><tr></tr></thead><tbody></tbody></table></div>"
      ]
     },
     "metadata": {},
     "output_type": "display_data"
    }
   ],
   "source": [
    "%sql\n",
    "drop table if exists dx_weights_chi2_new;\n",
    "\n",
    "create table dx_weights_chi2_new as\n",
    "select * from dx_spark_view;\n",
    "\n",
    "drop table if exists rx_weights_chi2_new;\n",
    "\n",
    "create table rx_weights_chi2_new as\n",
    "select * from rx_spark_view;\n",
    "\n",
    "drop table if exists px_weights_chi2_new;\n",
    "\n",
    "create table px_weights_chi2_new as\n",
    "select * from px_spark_view;"
   ]
  },
  {
   "cell_type": "code",
   "execution_count": 48,
   "metadata": {},
   "outputs": [],
   "source": []
  },
  {
   "cell_type": "code",
   "execution_count": 49,
   "metadata": {},
   "outputs": [],
   "source": []
  },
  {
   "cell_type": "code",
   "execution_count": 50,
   "metadata": {},
   "outputs": [
    {
     "data": {
      "text/html": [
       "<style scoped>\n",
       "  .ansiout {\n",
       "    display: block;\n",
       "    unicode-bidi: embed;\n",
       "    white-space: pre-wrap;\n",
       "    word-wrap: break-word;\n",
       "    word-break: break-all;\n",
       "    font-family: \"Source Code Pro\", \"Menlo\", monospace;;\n",
       "    font-size: 13px;\n",
       "    color: #555;\n",
       "    margin-left: 4px;\n",
       "    line-height: 19px;\n",
       "  }\n",
       "</style>\n",
       "<div class=\"ansiout\"></div>"
      ]
     },
     "metadata": {},
     "output_type": "display_data"
    }
   ],
   "source": [
    "X = pd.concat([dx_feat, rx_feat, px_feat], axis=1)"
   ]
  },
  {
   "cell_type": "code",
   "execution_count": 51,
   "metadata": {},
   "outputs": [
    {
     "data": {
      "text/html": [
       "<style scoped>\n",
       "  .ansiout {\n",
       "    display: block;\n",
       "    unicode-bidi: embed;\n",
       "    white-space: pre-wrap;\n",
       "    word-wrap: break-word;\n",
       "    word-break: break-all;\n",
       "    font-family: \"Source Code Pro\", \"Menlo\", monospace;;\n",
       "    font-size: 13px;\n",
       "    color: #555;\n",
       "    margin-left: 4px;\n",
       "    line-height: 19px;\n",
       "  }\n",
       "</style>\n",
       "<div class=\"ansiout\"></div>"
      ]
     },
     "metadata": {},
     "output_type": "display_data"
    }
   ],
   "source": [
    "feat_spark = spark.createDataFrame(X.loc[:1, :])\n",
    "feat_spark.createOrReplaceTempView('feat_spark_view')"
   ]
  },
  {
   "cell_type": "code",
   "execution_count": 52,
   "metadata": {},
   "outputs": [
    {
     "data": {
      "text/html": [
       "<style scoped>\n",
       "  .table-result-container {\n",
       "    max-height: 300px;\n",
       "    overflow: auto;\n",
       "  }\n",
       "  table, th, td {\n",
       "    border: 1px solid black;\n",
       "    border-collapse: collapse;\n",
       "  }\n",
       "  th, td {\n",
       "    padding: 5px;\n",
       "  }\n",
       "  th {\n",
       "    text-align: left;\n",
       "  }\n",
       "</style><div class='table-result-container'><table class='table-result'><thead style='background-color: white'><tr></tr></thead><tbody></tbody></table></div>"
      ]
     },
     "metadata": {},
     "output_type": "display_data"
    }
   ],
   "source": [
    "%sql\n",
    "\n",
    "drop table if exists feat_weights_chi2;\n",
    "\n",
    "create table feat_weights_chi2 as\n",
    "select * from feat_spark_view;"
   ]
  },
  {
   "cell_type": "code",
   "execution_count": 53,
   "metadata": {},
   "outputs": [],
   "source": []
  },
  {
   "cell_type": "markdown",
   "metadata": {},
   "source": [
    "## XGBoost"
   ]
  },
  {
   "cell_type": "code",
   "execution_count": 55,
   "metadata": {},
   "outputs": [
    {
     "data": {
      "text/html": [
       "<style scoped>\n",
       "  .ansiout {\n",
       "    display: block;\n",
       "    unicode-bidi: embed;\n",
       "    white-space: pre-wrap;\n",
       "    word-wrap: break-word;\n",
       "    word-break: break-all;\n",
       "    font-family: \"Source Code Pro\", \"Menlo\", monospace;;\n",
       "    font-size: 13px;\n",
       "    color: #555;\n",
       "    margin-left: 4px;\n",
       "    line-height: 19px;\n",
       "  }\n",
       "</style>\n",
       "<div class=\"ansiout\"></div>"
      ]
     },
     "metadata": {},
     "output_type": "display_data"
    }
   ],
   "source": [
    "from sklearn.model_selection import train_test_split\n",
    "from sklearn.metrics import roc_auc_score, accuracy_score, f1_score, confusion_matrix"
   ]
  },
  {
   "cell_type": "code",
   "execution_count": 56,
   "metadata": {},
   "outputs": [
    {
     "data": {
      "text/html": [
       "<style scoped>\n",
       "  .ansiout {\n",
       "    display: block;\n",
       "    unicode-bidi: embed;\n",
       "    white-space: pre-wrap;\n",
       "    word-wrap: break-word;\n",
       "    word-break: break-all;\n",
       "    font-family: \"Source Code Pro\", \"Menlo\", monospace;;\n",
       "    font-size: 13px;\n",
       "    color: #555;\n",
       "    margin-left: 4px;\n",
       "    line-height: 19px;\n",
       "  }\n",
       "</style>\n",
       "<div class=\"ansiout\"></div>"
      ]
     },
     "metadata": {},
     "output_type": "display_data"
    }
   ],
   "source": [
    "import xgboost as xgb\n",
    "\n",
    "def xgb_model(train_data, train_label, test_data, test_label):\n",
    "    clf = xgb.XGBClassifier(max_depth=10,\n",
    "                           min_child_weight=1,\n",
    "                           njobs=16,\n",
    "                           learning_rate=0.1,\n",
    "                           n_estimators=150,\n",
    "                           verbosity=3,\n",
    "                           objective='binary:logistic',\n",
    "                           gamma=0,\n",
    "                           max_delta_step=0,\n",
    "                           subsample=1,\n",
    "                           colsample_bytree=1,\n",
    "                           colsample_bylevel=1,\n",
    "                           reg_alpha=0,\n",
    "                           reg_lambda=0,\n",
    "                           scale_pos_weight=1,\n",
    "                           random_state=1,\n",
    "                           missing=None)\n",
    "    clf.fit(train_data, train_label, eval_metric='auc', verbose=True,\n",
    "            eval_set=[(test_data, test_label)], early_stopping_rounds=5)\n",
    "    y_pre = clf.predict(test_data)\n",
    "    y_pro = clf.predict_proba(test_data)[:, 1]\n",
    "    print(\"AUC Score : %f\" % roc_auc_score(test_label, y_pro))\n",
    "    print(\"Accuracy : %.4g\" % accuracy_score(test_label, y_pre))\n",
    "    return clf "
   ]
  },
  {
   "cell_type": "code",
   "execution_count": 57,
   "metadata": {},
   "outputs": [
    {
     "data": {
      "text/html": [
       "<style scoped>\n",
       "  .ansiout {\n",
       "    display: block;\n",
       "    unicode-bidi: embed;\n",
       "    white-space: pre-wrap;\n",
       "    word-wrap: break-word;\n",
       "    word-break: break-all;\n",
       "    font-family: \"Source Code Pro\", \"Menlo\", monospace;;\n",
       "    font-size: 13px;\n",
       "    color: #555;\n",
       "    margin-left: 4px;\n",
       "    line-height: 19px;\n",
       "  }\n",
       "</style>\n",
       "<div class=\"ansiout\"></div>"
      ]
     },
     "metadata": {},
     "output_type": "display_data"
    }
   ],
   "source": [
    "def fit_xgbClassifier(x, y):\n",
    "  x_train, x_test, y_train, y_test = train_test_split(x, y, test_size=0.2, random_state=0, stratify=y)\n",
    "  classifier = xgb_model(x_train, y_train, x_test, y_test)\n",
    "  return classifier"
   ]
  },
  {
   "cell_type": "code",
   "execution_count": 58,
   "metadata": {},
   "outputs": [],
   "source": []
  },
  {
   "cell_type": "code",
   "execution_count": 59,
   "metadata": {},
   "outputs": [
    {
     "data": {
      "text/html": [
       "<style scoped>\n",
       "  .ansiout {\n",
       "    display: block;\n",
       "    unicode-bidi: embed;\n",
       "    white-space: pre-wrap;\n",
       "    word-wrap: break-word;\n",
       "    word-break: break-all;\n",
       "    font-family: \"Source Code Pro\", \"Menlo\", monospace;;\n",
       "    font-size: 13px;\n",
       "    color: #555;\n",
       "    margin-left: 4px;\n",
       "    line-height: 19px;\n",
       "  }\n",
       "</style>\n",
       "<div class=\"ansiout\">[09:33:30] INFO: src/tree/updater_prune.cc:74: tree pruning end, 1 roots, 308 extra nodes, 0 pruned nodes, max_depth=10\n",
       "[0]\tvalidation_0-auc:0.6362\n",
       "Will train until validation_0-auc hasn&#39;t improved in 5 rounds.\n",
       "[09:33:31] INFO: src/tree/updater_prune.cc:74: tree pruning end, 1 roots, 324 extra nodes, 0 pruned nodes, max_depth=10\n",
       "[1]\tvalidation_0-auc:0.64413\n",
       "[09:33:32] INFO: src/tree/updater_prune.cc:74: tree pruning end, 1 roots, 332 extra nodes, 0 pruned nodes, max_depth=10\n",
       "[2]\tvalidation_0-auc:0.645079\n",
       "[09:33:32] INFO: src/tree/updater_prune.cc:74: tree pruning end, 1 roots, 362 extra nodes, 0 pruned nodes, max_depth=10\n",
       "[3]\tvalidation_0-auc:0.648312\n",
       "[09:33:33] INFO: src/tree/updater_prune.cc:74: tree pruning end, 1 roots, 342 extra nodes, 0 pruned nodes, max_depth=10\n",
       "[4]\tvalidation_0-auc:0.648771\n",
       "[09:33:33] INFO: src/tree/updater_prune.cc:74: tree pruning end, 1 roots, 326 extra nodes, 0 pruned nodes, max_depth=10\n",
       "[5]\tvalidation_0-auc:0.650799\n",
       "[09:33:34] INFO: src/tree/updater_prune.cc:74: tree pruning end, 1 roots, 358 extra nodes, 0 pruned nodes, max_depth=10\n",
       "[6]\tvalidation_0-auc:0.651016\n",
       "[09:33:34] INFO: src/tree/updater_prune.cc:74: tree pruning end, 1 roots, 326 extra nodes, 0 pruned nodes, max_depth=10\n",
       "[7]\tvalidation_0-auc:0.651377\n",
       "[09:33:35] INFO: src/tree/updater_prune.cc:74: tree pruning end, 1 roots, 410 extra nodes, 0 pruned nodes, max_depth=10\n",
       "[8]\tvalidation_0-auc:0.651594\n",
       "[09:33:35] INFO: src/tree/updater_prune.cc:74: tree pruning end, 1 roots, 400 extra nodes, 0 pruned nodes, max_depth=10\n",
       "[9]\tvalidation_0-auc:0.654503\n",
       "[09:33:36] INFO: src/tree/updater_prune.cc:74: tree pruning end, 1 roots, 446 extra nodes, 0 pruned nodes, max_depth=10\n",
       "[10]\tvalidation_0-auc:0.655059\n",
       "[09:33:36] INFO: src/tree/updater_prune.cc:74: tree pruning end, 1 roots, 474 extra nodes, 0 pruned nodes, max_depth=10\n",
       "[11]\tvalidation_0-auc:0.656654\n",
       "[09:33:37] INFO: src/tree/updater_prune.cc:74: tree pruning end, 1 roots, 496 extra nodes, 0 pruned nodes, max_depth=10\n",
       "[12]\tvalidation_0-auc:0.656954\n",
       "[09:33:38] INFO: src/tree/updater_prune.cc:74: tree pruning end, 1 roots, 472 extra nodes, 0 pruned nodes, max_depth=10\n",
       "[13]\tvalidation_0-auc:0.658407\n",
       "[09:33:38] INFO: src/tree/updater_prune.cc:74: tree pruning end, 1 roots, 570 extra nodes, 0 pruned nodes, max_depth=10\n",
       "[14]\tvalidation_0-auc:0.65881\n",
       "[09:33:39] INFO: src/tree/updater_prune.cc:74: tree pruning end, 1 roots, 540 extra nodes, 0 pruned nodes, max_depth=10\n",
       "[15]\tvalidation_0-auc:0.659382\n",
       "[09:33:39] INFO: src/tree/updater_prune.cc:74: tree pruning end, 1 roots, 588 extra nodes, 0 pruned nodes, max_depth=10\n",
       "[16]\tvalidation_0-auc:0.660165\n",
       "[09:33:40] INFO: src/tree/updater_prune.cc:74: tree pruning end, 1 roots, 584 extra nodes, 0 pruned nodes, max_depth=10\n",
       "[17]\tvalidation_0-auc:0.660888\n",
       "[09:33:40] INFO: src/tree/updater_prune.cc:74: tree pruning end, 1 roots, 578 extra nodes, 0 pruned nodes, max_depth=10\n",
       "[18]\tvalidation_0-auc:0.661704\n",
       "[09:33:41] INFO: src/tree/updater_prune.cc:74: tree pruning end, 1 roots, 554 extra nodes, 0 pruned nodes, max_depth=10\n",
       "[19]\tvalidation_0-auc:0.661638\n",
       "[09:33:41] INFO: src/tree/updater_prune.cc:74: tree pruning end, 1 roots, 600 extra nodes, 0 pruned nodes, max_depth=10\n",
       "[20]\tvalidation_0-auc:0.661\n",
       "[09:33:42] INFO: src/tree/updater_prune.cc:74: tree pruning end, 1 roots, 648 extra nodes, 0 pruned nodes, max_depth=10\n",
       "[21]\tvalidation_0-auc:0.660656\n",
       "[09:33:43] INFO: src/tree/updater_prune.cc:74: tree pruning end, 1 roots, 640 extra nodes, 0 pruned nodes, max_depth=10\n",
       "[22]\tvalidation_0-auc:0.660978\n",
       "[09:33:43] INFO: src/tree/updater_prune.cc:74: tree pruning end, 1 roots, 636 extra nodes, 0 pruned nodes, max_depth=10\n",
       "[23]\tvalidation_0-auc:0.660319\n",
       "Stopping. Best iteration:\n",
       "[18]\tvalidation_0-auc:0.661704\n",
       "\n",
       "AUC Score : 0.661704\n",
       "Accuracy : 0.9887\n",
       "</div>"
      ]
     },
     "metadata": {},
     "output_type": "display_data"
    }
   ],
   "source": [
    "dx_xgb = fit_xgbClassifier(df_dict['DX_sparse'], np.array(df_dict['DX_y']['switch_flag']))"
   ]
  },
  {
   "cell_type": "code",
   "execution_count": 60,
   "metadata": {},
   "outputs": [
    {
     "data": {
      "text/html": [
       "<style scoped>\n",
       "  .ansiout {\n",
       "    display: block;\n",
       "    unicode-bidi: embed;\n",
       "    white-space: pre-wrap;\n",
       "    word-wrap: break-word;\n",
       "    word-break: break-all;\n",
       "    font-family: \"Source Code Pro\", \"Menlo\", monospace;;\n",
       "    font-size: 13px;\n",
       "    color: #555;\n",
       "    margin-left: 4px;\n",
       "    line-height: 19px;\n",
       "  }\n",
       "</style>\n",
       "<div class=\"ansiout\">[09:36:39] INFO: src/tree/updater_prune.cc:74: tree pruning end, 1 roots, 130 extra nodes, 0 pruned nodes, max_depth=10\n",
       "[0]\tvalidation_0-auc:0.592354\n",
       "Will train until validation_0-auc hasn&#39;t improved in 5 rounds.\n",
       "[09:36:39] INFO: src/tree/updater_prune.cc:74: tree pruning end, 1 roots, 134 extra nodes, 0 pruned nodes, max_depth=10\n",
       "[1]\tvalidation_0-auc:0.613998\n",
       "[09:36:39] INFO: src/tree/updater_prune.cc:74: tree pruning end, 1 roots, 142 extra nodes, 0 pruned nodes, max_depth=10\n",
       "[2]\tvalidation_0-auc:0.613856\n",
       "[09:36:39] INFO: src/tree/updater_prune.cc:74: tree pruning end, 1 roots, 140 extra nodes, 0 pruned nodes, max_depth=10\n",
       "[3]\tvalidation_0-auc:0.613832\n",
       "[09:36:40] INFO: src/tree/updater_prune.cc:74: tree pruning end, 1 roots, 138 extra nodes, 0 pruned nodes, max_depth=10\n",
       "[4]\tvalidation_0-auc:0.60496\n",
       "[09:36:40] INFO: src/tree/updater_prune.cc:74: tree pruning end, 1 roots, 136 extra nodes, 0 pruned nodes, max_depth=10\n",
       "[5]\tvalidation_0-auc:0.613943\n",
       "[09:36:40] INFO: src/tree/updater_prune.cc:74: tree pruning end, 1 roots, 138 extra nodes, 0 pruned nodes, max_depth=10\n",
       "[6]\tvalidation_0-auc:0.613623\n",
       "Stopping. Best iteration:\n",
       "[1]\tvalidation_0-auc:0.613998\n",
       "\n",
       "AUC Score : 0.613998\n",
       "Accuracy : 0.9972\n",
       "</div>"
      ]
     },
     "metadata": {},
     "output_type": "display_data"
    }
   ],
   "source": [
    "rx_xgb = fit_xgbClassifier(df_dict['RX_sparse'], np.array(df_dict['RX_y']['switch_flag']))"
   ]
  },
  {
   "cell_type": "code",
   "execution_count": 61,
   "metadata": {},
   "outputs": [
    {
     "data": {
      "text/html": [
       "<style scoped>\n",
       "  .ansiout {\n",
       "    display: block;\n",
       "    unicode-bidi: embed;\n",
       "    white-space: pre-wrap;\n",
       "    word-wrap: break-word;\n",
       "    word-break: break-all;\n",
       "    font-family: \"Source Code Pro\", \"Menlo\", monospace;;\n",
       "    font-size: 13px;\n",
       "    color: #555;\n",
       "    margin-left: 4px;\n",
       "    line-height: 19px;\n",
       "  }\n",
       "</style>\n",
       "<div class=\"ansiout\">[09:37:21] INFO: src/tree/updater_prune.cc:74: tree pruning end, 1 roots, 82 extra nodes, 0 pruned nodes, max_depth=10\n",
       "[0]\tvalidation_0-auc:0.532277\n",
       "Will train until validation_0-auc hasn&#39;t improved in 5 rounds.\n",
       "[09:37:21] INFO: src/tree/updater_prune.cc:74: tree pruning end, 1 roots, 86 extra nodes, 0 pruned nodes, max_depth=10\n",
       "[1]\tvalidation_0-auc:0.546298\n",
       "[09:37:21] INFO: src/tree/updater_prune.cc:74: tree pruning end, 1 roots, 84 extra nodes, 0 pruned nodes, max_depth=10\n",
       "[2]\tvalidation_0-auc:0.553567\n",
       "[09:37:21] INFO: src/tree/updater_prune.cc:74: tree pruning end, 1 roots, 86 extra nodes, 0 pruned nodes, max_depth=10\n",
       "[3]\tvalidation_0-auc:0.53447\n",
       "[09:37:21] INFO: src/tree/updater_prune.cc:74: tree pruning end, 1 roots, 80 extra nodes, 0 pruned nodes, max_depth=10\n",
       "[4]\tvalidation_0-auc:0.538858\n",
       "[09:37:21] INFO: src/tree/updater_prune.cc:74: tree pruning end, 1 roots, 106 extra nodes, 0 pruned nodes, max_depth=10\n",
       "[5]\tvalidation_0-auc:0.545527\n",
       "[09:37:21] INFO: src/tree/updater_prune.cc:74: tree pruning end, 1 roots, 86 extra nodes, 0 pruned nodes, max_depth=10\n",
       "[6]\tvalidation_0-auc:0.54311\n",
       "[09:37:21] INFO: src/tree/updater_prune.cc:74: tree pruning end, 1 roots, 96 extra nodes, 0 pruned nodes, max_depth=10\n",
       "[7]\tvalidation_0-auc:0.53404\n",
       "Stopping. Best iteration:\n",
       "[2]\tvalidation_0-auc:0.553567\n",
       "\n",
       "AUC Score : 0.553567\n",
       "Accuracy : 0.9695\n",
       "</div>"
      ]
     },
     "metadata": {},
     "output_type": "display_data"
    }
   ],
   "source": [
    "px_xgb = fit_xgbClassifier(df_dict['PX_sparse'], np.array(df_dict['PX_y']['switch_flag']))"
   ]
  },
  {
   "cell_type": "code",
   "execution_count": 62,
   "metadata": {},
   "outputs": [
    {
     "data": {
      "text/html": [
       "<style scoped>\n",
       "  .ansiout {\n",
       "    display: block;\n",
       "    unicode-bidi: embed;\n",
       "    white-space: pre-wrap;\n",
       "    word-wrap: break-word;\n",
       "    word-break: break-all;\n",
       "    font-family: \"Source Code Pro\", \"Menlo\", monospace;;\n",
       "    font-size: 13px;\n",
       "    color: #555;\n",
       "    margin-left: 4px;\n",
       "    line-height: 19px;\n",
       "  }\n",
       "</style>\n",
       "<div class=\"ansiout\"></div>"
      ]
     },
     "metadata": {},
     "output_type": "display_data"
    }
   ],
   "source": [
    "dx_weights_xgb = pd.DataFrame.from_dict(dict(zip(df_dict['DX_freq'].columns[1:], dx_xgb.feature_importances_)), orient='index').sort_values(0, ascending=False)\n",
    "rx_weights_xgb = pd.DataFrame.from_dict(dict(zip(df_dict['RX_freq'].columns[1:], rx_xgb.feature_importances_)), orient='index').sort_values(0, ascending=False)\n",
    "px_weights_xgb = pd.DataFrame.from_dict(dict(zip(df_dict['PX_freq'].columns[1:], px_xgb.feature_importances_)), orient='index').sort_values(0, ascending=False)"
   ]
  },
  {
   "cell_type": "code",
   "execution_count": 63,
   "metadata": {},
   "outputs": [],
   "source": [
    "rx_weights_lr.to_pickle('rx_weights_lr.pkl')\n",
    "px_weights_lr.to_pickle('px_weights_lr.pkl')\n",
    "dx_weights_lr.to_pickle('dx_weights_lr.pkl')\n",
    "\n",
    "rx_weights_xgb.to_pickle('rx_weights_xgb.pkl')\n",
    "px_weights_xgb.to_pickle('px_weights_xgb.pkl')\n",
    "dx_weights_xgb.to_pickle('dx_weights_xgb.pkl')"
   ]
  },
  {
   "cell_type": "code",
   "execution_count": 64,
   "metadata": {},
   "outputs": [
    {
     "data": {
      "text/html": [
       "<style scoped>\n",
       "  .ansiout {\n",
       "    display: block;\n",
       "    unicode-bidi: embed;\n",
       "    white-space: pre-wrap;\n",
       "    word-wrap: break-word;\n",
       "    word-break: break-all;\n",
       "    font-family: \"Source Code Pro\", \"Menlo\", monospace;;\n",
       "    font-size: 13px;\n",
       "    color: #555;\n",
       "    margin-left: 4px;\n",
       "    line-height: 19px;\n",
       "  }\n",
       "</style>\n",
       "<div class=\"ansiout\"></div>"
      ]
     },
     "metadata": {},
     "output_type": "display_data"
    }
   ],
   "source": [
    "rx_weights_lr = pd.read_pickle('rx_weights_lr.pkl')\n",
    "px_weights_lr = pd.read_pickle('px_weights_lr.pkl')\n",
    "dx_weights_lr = pd.read_pickle('dx_weights_lr.pkl')\n",
    "\n",
    "rx_weights_xgb = pd.read_pickle('rx_weights_xgb.pkl')\n",
    "px_weights_xgb = pd.read_pickle('px_weights_xgb.pkl')\n",
    "dx_weights_xgb = pd.read_pickle('dx_weights_xgb.pkl')"
   ]
  },
  {
   "cell_type": "code",
   "execution_count": 65,
   "metadata": {},
   "outputs": [
    {
     "data": {
      "text/html": [
       "<style scoped>\n",
       "  .ansiout {\n",
       "    display: block;\n",
       "    unicode-bidi: embed;\n",
       "    white-space: pre-wrap;\n",
       "    word-wrap: break-word;\n",
       "    word-break: break-all;\n",
       "    font-family: \"Source Code Pro\", \"Menlo\", monospace;;\n",
       "    font-size: 13px;\n",
       "    color: #555;\n",
       "    margin-left: 4px;\n",
       "    line-height: 19px;\n",
       "  }\n",
       "</style>\n",
       "<div class=\"ansiout\"></div>"
      ]
     },
     "metadata": {},
     "output_type": "display_data"
    }
   ],
   "source": [
    "def percent_change(weights_df):\n",
    "  t = weights_df.cumsum()/weights_df.sum()\n",
    "  t.rename(columns={0:'Feat_Importance'}, inplace=True)\n",
    "  t['Feat_Importance_lag'] = t.shift(1)\n",
    "  t['%change'] = (t['Feat_Importance'] - t['Feat_Importance_lag'])*100/t['Feat_Importance_lag']\n",
    "  return t"
   ]
  },
  {
   "cell_type": "code",
   "execution_count": 66,
   "metadata": {},
   "outputs": [
    {
     "data": {
      "text/html": [
       "<style scoped>\n",
       "  .ansiout {\n",
       "    display: block;\n",
       "    unicode-bidi: embed;\n",
       "    white-space: pre-wrap;\n",
       "    word-wrap: break-word;\n",
       "    word-break: break-all;\n",
       "    font-family: \"Source Code Pro\", \"Menlo\", monospace;;\n",
       "    font-size: 13px;\n",
       "    color: #555;\n",
       "    margin-left: 4px;\n",
       "    line-height: 19px;\n",
       "  }\n",
       "</style>\n",
       "<div class=\"ansiout\"></div>"
      ]
     },
     "metadata": {},
     "output_type": "display_data"
    }
   ],
   "source": [
    "rx_weights_lr = percent_change(rx_weights_lr)\n",
    "px_weights_lr = percent_change(px_weights_lr)\n",
    "dx_weights_lr = percent_change(dx_weights_lr)"
   ]
  },
  {
   "cell_type": "code",
   "execution_count": 67,
   "metadata": {},
   "outputs": [
    {
     "data": {
      "text/html": [
       "<style scoped>\n",
       "  .ansiout {\n",
       "    display: block;\n",
       "    unicode-bidi: embed;\n",
       "    white-space: pre-wrap;\n",
       "    word-wrap: break-word;\n",
       "    word-break: break-all;\n",
       "    font-family: \"Source Code Pro\", \"Menlo\", monospace;;\n",
       "    font-size: 13px;\n",
       "    color: #555;\n",
       "    margin-left: 4px;\n",
       "    line-height: 19px;\n",
       "  }\n",
       "</style>\n",
       "<div class=\"ansiout\"></div>"
      ]
     },
     "metadata": {},
     "output_type": "display_data"
    }
   ],
   "source": [
    "dx_codes = list(dx_weights_lr[dx_weights_lr['%change']>=1].index)\n",
    "rx_codes = list(rx_weights_lr[rx_weights_lr['%change']>=1].index)\n",
    "px_codes = list(px_weights_lr[px_weights_lr['%change']>=1].index)"
   ]
  },
  {
   "cell_type": "code",
   "execution_count": 68,
   "metadata": {},
   "outputs": [
    {
     "data": {
      "text/html": [
       "<style scoped>\n",
       "  .ansiout {\n",
       "    display: block;\n",
       "    unicode-bidi: embed;\n",
       "    white-space: pre-wrap;\n",
       "    word-wrap: break-word;\n",
       "    word-break: break-all;\n",
       "    font-family: \"Source Code Pro\", \"Menlo\", monospace;;\n",
       "    font-size: 13px;\n",
       "    color: #555;\n",
       "    margin-left: 4px;\n",
       "    line-height: 19px;\n",
       "  }\n",
       "</style>\n",
       "<div class=\"ansiout\">DX:\n",
       "[&#39;I70.0&#39;, &#39;I70.203&#39;, &#39;E78.9&#39;, &#39;E78.5&#39;, &#39;I25.5&#39;, &#39;E78.4&#39;, &#39;E78.2&#39;, &#39;I70.91&#39;, &#39;I67.2&#39;, &#39;I24.8&#39;, &#39;E11.9&#39;, &#39;E78.1&#39;, &#39;I70.293&#39;, &#39;G45.9&#39;, &#39;T46.6X5A&#39;, &#39;I71.4&#39;, &#39;I67.9&#39;, &#39;I69.351&#39;, &#39;I63.50&#39;, &#39;E13.9&#39;, &#39;I69.354&#39;, &#39;M79.7&#39;, &#39;E10.9&#39;, &#39;K72.00&#39;, &#39;E11.00&#39;, &#39;E11.69&#39;, &#39;I71.9&#39;, &#39;I69.30&#39;, &#39;K75.9&#39;, &#39;I70.209&#39;, &#39;E11.42&#39;, &#39;E10.29&#39;, &#39;E11.29&#39;, &#39;E11.59&#39;, &#39;E11.49&#39;, &#39;I63.40&#39;, &#39;E11.36&#39;, &#39;I69.398&#39;, &#39;E11.22&#39;, &#39;I25.82&#39;, &#39;E10.40&#39;, &#39;E11.319&#39;, &#39;I63.131&#39;, &#39;I69.90&#39;, &#39;E11.41&#39;, &#39;I23.6&#39;, &#39;E11.8&#39;, &#39;I67.82&#39;, &#39;I69.320&#39;, &#39;E11.65&#39;, &#39;I20.0&#39;, &#39;Z82.49&#39;, &#39;M62.89&#39;, &#39;E10.65&#39;, &#39;K75.81&#39;, &#39;I70.90&#39;, &#39;K75.4&#39;, &#39;I69.359&#39;, &#39;I63.9&#39;, &#39;E11.21&#39;, &#39;E10.649&#39;, &#39;I69.959&#39;, &#39;E10.8&#39;]\n",
       "RX:\n",
       "[&#39;357620&#39;, &#39;284296&#39;, &#39;284299&#39;, &#39;284297&#39;, &#39;275956&#39;, &#39;284295&#39;, &#39;284301&#39;, &#39;418432&#39;, &#39;273586&#39;, &#39;418429&#39;, &#39;324834&#39;, &#39;273510&#39;, &#39;298533&#39;, &#39;222972&#39;, &#39;418430&#39;, &#39;418425&#39;, &#39;298531&#39;, &#39;227064&#39;, &#39;418431&#39;, &#39;275957&#39;, &#39;273587&#39;, &#39;324833&#39;, &#39;298534&#39;, &#39;273513&#39;, &#39;418428&#39;, &#39;418433&#39;, &#39;298532&#39;, &#39;273511&#39;, &#39;274091&#39;, &#39;418427&#39;]\n",
       "PX:\n",
       "[&#39;33510&#39;, &#39;33514&#39;, &#39;33511&#39;, &#39;34802&#39;, &#39;37218&#39;, &#39;C9602&#39;, &#39;33512&#39;, &#39;34826&#39;, &#39;33521&#39;, &#39;C9606&#39;, &#39;37232&#39;, &#39;92934&#39;, &#39;92938&#39;, &#39;35390&#39;, &#39;92943&#39;, &#39;92973&#39;, &#39;37231&#39;, &#39;37223&#39;, &#39;34825&#39;, &#39;C9607&#39;, &#39;C9608&#39;, &#39;33522&#39;, &#39;33513&#39;, &#39;37226&#39;, &#39;35301&#39;, &#39;92921&#39;, &#39;C9605&#39;, &#39;92924&#39;, &#39;37227&#39;, &#39;37216&#39;, &#39;92929&#39;, &#39;37234&#39;, &#39;35600&#39;, &#39;92925&#39;, &#39;33536&#39;, &#39;C9604&#39;]\n",
       "</div>"
      ]
     },
     "metadata": {},
     "output_type": "display_data"
    }
   ],
   "source": [
    "print('DX:')\n",
    "print(dx_codes)\n",
    "print('RX:')\n",
    "print(rx_codes)\n",
    "print('PX:')\n",
    "print(px_codes)"
   ]
  },
  {
   "cell_type": "code",
   "execution_count": 69,
   "metadata": {},
   "outputs": [
    {
     "data": {
      "text/html": [
       "<style scoped>\n",
       "  .ansiout {\n",
       "    display: block;\n",
       "    unicode-bidi: embed;\n",
       "    white-space: pre-wrap;\n",
       "    word-wrap: break-word;\n",
       "    word-break: break-all;\n",
       "    font-family: \"Source Code Pro\", \"Menlo\", monospace;;\n",
       "    font-size: 13px;\n",
       "    color: #555;\n",
       "    margin-left: 4px;\n",
       "    line-height: 19px;\n",
       "  }\n",
       "</style>\n",
       "<div class=\"ansiout\"></div>"
      ]
     },
     "metadata": {},
     "output_type": "display_data"
    }
   ],
   "source": [
    "XGB_wts_spark = spark.createDataFrame(wts_df.reset_index(drop=False))\n",
    "XGB_wts_spark.createOrReplaceTempView('XGB_wts_view')"
   ]
  },
  {
   "cell_type": "code",
   "execution_count": 70,
   "metadata": {},
   "outputs": [
    {
     "data": {
      "text/html": [
       "<style scoped>\n",
       "  .table-result-container {\n",
       "    max-height: 300px;\n",
       "    overflow: auto;\n",
       "  }\n",
       "  table, th, td {\n",
       "    border: 1px solid black;\n",
       "    border-collapse: collapse;\n",
       "  }\n",
       "  th, td {\n",
       "    padding: 5px;\n",
       "  }\n",
       "  th {\n",
       "    text-align: left;\n",
       "  }\n",
       "</style><div class='table-result-container'><table class='table-result'><thead style='background-color: white'><tr></tr></thead><tbody></tbody></table></div>"
      ]
     },
     "metadata": {},
     "output_type": "display_data"
    }
   ],
   "source": [
    "%sql\n",
    "drop table if exists XGB_wts;\n",
    "\n",
    "CREATE table XGB_wts as\n",
    "select * from XGB_wts_view"
   ]
  },
  {
   "cell_type": "code",
   "execution_count": 71,
   "metadata": {},
   "outputs": [
    {
     "data": {
      "text/html": [
       "<style scoped>\n",
       "  .ansiout {\n",
       "    display: block;\n",
       "    unicode-bidi: embed;\n",
       "    white-space: pre-wrap;\n",
       "    word-wrap: break-word;\n",
       "    word-break: break-all;\n",
       "    font-family: \"Source Code Pro\", \"Menlo\", monospace;;\n",
       "    font-size: 13px;\n",
       "    color: #555;\n",
       "    margin-left: 4px;\n",
       "    line-height: 19px;\n",
       "  }\n",
       "</style>\n",
       "<div class=\"ansiout\"></div>"
      ]
     },
     "metadata": {},
     "output_type": "display_data"
    }
   ],
   "source": [
    "rx_weights_lr.reset_index(inplace=True)\n",
    "dx_weights_lr.reset_index(inplace=True)\n",
    "px_weights_lr.reset_index(inplace=True)"
   ]
  },
  {
   "cell_type": "code",
   "execution_count": 72,
   "metadata": {},
   "outputs": [
    {
     "data": {
      "text/html": [
       "<style scoped>\n",
       "  .ansiout {\n",
       "    display: block;\n",
       "    unicode-bidi: embed;\n",
       "    white-space: pre-wrap;\n",
       "    word-wrap: break-word;\n",
       "    word-break: break-all;\n",
       "    font-family: \"Source Code Pro\", \"Menlo\", monospace;;\n",
       "    font-size: 13px;\n",
       "    color: #555;\n",
       "    margin-left: 4px;\n",
       "    line-height: 19px;\n",
       "  }\n",
       "</style>\n",
       "<div class=\"ansiout\"></div>"
      ]
     },
     "metadata": {},
     "output_type": "display_data"
    }
   ],
   "source": [
    "rx_weights_lr['%change'].fillna(100, inplace=True)\n",
    "px_weights_lr['%change'].fillna(100, inplace=True)\n",
    "dx_weights_lr['%change'].fillna(100, inplace=True)"
   ]
  },
  {
   "cell_type": "code",
   "execution_count": 73,
   "metadata": {},
   "outputs": [
    {
     "data": {
      "text/html": [
       "<style scoped>\n",
       "  .ansiout {\n",
       "    display: block;\n",
       "    unicode-bidi: embed;\n",
       "    white-space: pre-wrap;\n",
       "    word-wrap: break-word;\n",
       "    word-break: break-all;\n",
       "    font-family: \"Source Code Pro\", \"Menlo\", monospace;;\n",
       "    font-size: 13px;\n",
       "    color: #555;\n",
       "    margin-left: 4px;\n",
       "    line-height: 19px;\n",
       "  }\n",
       "</style>\n",
       "<div class=\"ansiout\">Out[85]: Index([&#39;index&#39;, &#39;Feat_Importance&#39;, &#39;Feat_Importance_lag&#39;, &#39;%change&#39;], dtype=&#39;object&#39;)</div>"
      ]
     },
     "metadata": {},
     "output_type": "display_data"
    }
   ],
   "source": [
    "rx_weights_lr.columns"
   ]
  },
  {
   "cell_type": "code",
   "execution_count": 74,
   "metadata": {},
   "outputs": [
    {
     "data": {
      "text/html": [
       "<style scoped>\n",
       "  .ansiout {\n",
       "    display: block;\n",
       "    unicode-bidi: embed;\n",
       "    white-space: pre-wrap;\n",
       "    word-wrap: break-word;\n",
       "    word-break: break-all;\n",
       "    font-family: \"Source Code Pro\", \"Menlo\", monospace;;\n",
       "    font-size: 13px;\n",
       "    color: #555;\n",
       "    margin-left: 4px;\n",
       "    line-height: 19px;\n",
       "  }\n",
       "</style>\n",
       "<div class=\"ansiout\"></div>"
      ]
     },
     "metadata": {},
     "output_type": "display_data"
    }
   ],
   "source": [
    "dx_spark = spark.createDataFrame(dx_weights_lr)\n",
    "rx_spark = spark.createDataFrame(rx_weights_lr)\n",
    "px_spark = spark.createDataFrame(px_weights_lr)\n",
    "\n",
    "dx_spark.createOrReplaceTempView('lr_dx_wts_view')\n",
    "px_spark.createOrReplaceTempView('lr_px_wts_view')\n",
    "rx_spark.createOrReplaceTempView('lr_rx_wts_view')"
   ]
  },
  {
   "cell_type": "code",
   "execution_count": 75,
   "metadata": {},
   "outputs": [
    {
     "data": {
      "text/html": [
       "<style scoped>\n",
       "  .table-result-container {\n",
       "    max-height: 300px;\n",
       "    overflow: auto;\n",
       "  }\n",
       "  table, th, td {\n",
       "    border: 1px solid black;\n",
       "    border-collapse: collapse;\n",
       "  }\n",
       "  th, td {\n",
       "    padding: 5px;\n",
       "  }\n",
       "  th {\n",
       "    text-align: left;\n",
       "  }\n",
       "</style><div class='table-result-container'><table class='table-result'><thead style='background-color: white'><tr></tr></thead><tbody></tbody></table></div>"
      ]
     },
     "metadata": {},
     "output_type": "display_data"
    }
   ],
   "source": [
    "%sql\n",
    "drop table if exists lr_dx_wts;\n",
    "\n",
    "CREATE table lr_dx_wts as\n",
    "select * from lr_dx_wts_view;\n",
    "\n",
    "drop table if exists lr_rx_wts;\n",
    "\n",
    "CREATE table lr_rx_wts as\n",
    "select * from lr_rx_wts_view;\n",
    "\n",
    "drop table if exists lr_px_wts;\n",
    "\n",
    "CREATE table lr_px_wts as\n",
    "select * from lr_px_wts_view;"
   ]
  },
  {
   "cell_type": "markdown",
   "metadata": {},
   "source": [
    "## Threshold, Recall, Precision"
   ]
  },
  {
   "cell_type": "code",
   "execution_count": 77,
   "metadata": {},
   "outputs": [
    {
     "data": {
      "text/html": [
       "<style scoped>\n",
       "  .ansiout {\n",
       "    display: block;\n",
       "    unicode-bidi: embed;\n",
       "    white-space: pre-wrap;\n",
       "    word-wrap: break-word;\n",
       "    word-break: break-all;\n",
       "    font-family: \"Source Code Pro\", \"Menlo\", monospace;;\n",
       "    font-size: 13px;\n",
       "    color: #555;\n",
       "    margin-left: 4px;\n",
       "    line-height: 19px;\n",
       "  }\n",
       "</style>\n",
       "<div class=\"ansiout\"></div>"
      ]
     },
     "metadata": {},
     "output_type": "display_data"
    }
   ],
   "source": [
    "from scipy.optimize import minimize\n",
    "import seaborn as sns\n",
    "import matplotlib.pyplot as plt"
   ]
  },
  {
   "cell_type": "code",
   "execution_count": 78,
   "metadata": {},
   "outputs": [
    {
     "data": {
      "text/html": [
       "<style scoped>\n",
       "  .ansiout {\n",
       "    display: block;\n",
       "    unicode-bidi: embed;\n",
       "    white-space: pre-wrap;\n",
       "    word-wrap: break-word;\n",
       "    word-break: break-all;\n",
       "    font-family: \"Source Code Pro\", \"Menlo\", monospace;;\n",
       "    font-size: 13px;\n",
       "    color: #555;\n",
       "    margin-left: 4px;\n",
       "    line-height: 19px;\n",
       "  }\n",
       "</style>\n",
       "<div class=\"ansiout\"></div>"
      ]
     },
     "metadata": {},
     "output_type": "display_data"
    }
   ],
   "source": [
    "from sklearn.metrics import jaccard_similarity_score"
   ]
  },
  {
   "cell_type": "code",
   "execution_count": 79,
   "metadata": {},
   "outputs": [
    {
     "data": {
      "text/html": [
       "<style scoped>\n",
       "  .ansiout {\n",
       "    display: block;\n",
       "    unicode-bidi: embed;\n",
       "    white-space: pre-wrap;\n",
       "    word-wrap: break-word;\n",
       "    word-break: break-all;\n",
       "    font-family: \"Source Code Pro\", \"Menlo\", monospace;;\n",
       "    font-size: 13px;\n",
       "    color: #555;\n",
       "    margin-left: 4px;\n",
       "    line-height: 19px;\n",
       "  }\n",
       "</style>\n",
       "<div class=\"ansiout\"></div>"
      ]
     },
     "metadata": {},
     "output_type": "display_data"
    }
   ],
   "source": [
    "def get_jaccard_score(cut_off):\n",
    "  temp=[]\n",
    "  for i in range(len(y_pred)):\n",
    "    if y_pred[i]>=cut_off:\n",
    "      temp.append(1)\n",
    "    else:\n",
    "      temp.append(0)\n",
    "  return -1 * jaccard_similarity_score(y_test,temp)"
   ]
  },
  {
   "cell_type": "code",
   "execution_count": 80,
   "metadata": {},
   "outputs": [
    {
     "data": {
      "text/html": [
       "<style scoped>\n",
       "  .ansiout {\n",
       "    display: block;\n",
       "    unicode-bidi: embed;\n",
       "    white-space: pre-wrap;\n",
       "    word-wrap: break-word;\n",
       "    word-break: break-all;\n",
       "    font-family: \"Source Code Pro\", \"Menlo\", monospace;;\n",
       "    font-size: 13px;\n",
       "    color: #555;\n",
       "    margin-left: 4px;\n",
       "    line-height: 19px;\n",
       "  }\n",
       "</style>\n",
       "<div class=\"ansiout\"></div>"
      ]
     },
     "metadata": {},
     "output_type": "display_data"
    }
   ],
   "source": [
    "def get_f1_score(cut_off):\n",
    "    temp = []\n",
    "    for i in range(len(y_pred)):\n",
    "        if y_pred[i]>=cut_off:\n",
    "            temp.append(1)\n",
    "        else:\n",
    "            temp.append(0)\n",
    "    return -1 * f1_score(y_test,temp)"
   ]
  },
  {
   "cell_type": "code",
   "execution_count": 81,
   "metadata": {},
   "outputs": [
    {
     "data": {
      "text/html": [
       "<style scoped>\n",
       "  .ansiout {\n",
       "    display: block;\n",
       "    unicode-bidi: embed;\n",
       "    white-space: pre-wrap;\n",
       "    word-wrap: break-word;\n",
       "    word-break: break-all;\n",
       "    font-family: \"Source Code Pro\", \"Menlo\", monospace;;\n",
       "    font-size: 13px;\n",
       "    color: #555;\n",
       "    margin-left: 4px;\n",
       "    line-height: 19px;\n",
       "  }\n",
       "</style>\n",
       "<div class=\"ansiout\"></div>"
      ]
     },
     "metadata": {},
     "output_type": "display_data"
    }
   ],
   "source": [
    "def get_thresh_prec_rec(y_pred):\n",
    "  thresh = minimize(get_f1_score, 0 , method='nelder-mead',options={'xtol': 1e-8, 'disp': True})\n",
    "\n",
    "  temp = []\n",
    "  for i in range(len(y_pred)):\n",
    "      if y_pred[i]>=thresh.x[0]:\n",
    "          temp.append(1)\n",
    "      else:\n",
    "          temp.append(0)\n",
    "  \n",
    "  cm = confusion_matrix(y_test,temp)\n",
    "  \n",
    "  print(\"Threshold:\",thresh.x[0])\n",
    "  print(\"Recall:\",cm[1,1]*100/cm[1,0],'%')\n",
    "  print(\"Precision:\",cm[1,1]*100/cm[0,1],'%')\n",
    "  \n",
    "  return temp"
   ]
  },
  {
   "cell_type": "code",
   "execution_count": 82,
   "metadata": {},
   "outputs": [
    {
     "data": {
      "text/html": [
       "<style scoped>\n",
       "  .ansiout {\n",
       "    display: block;\n",
       "    unicode-bidi: embed;\n",
       "    white-space: pre-wrap;\n",
       "    word-wrap: break-word;\n",
       "    word-break: break-all;\n",
       "    font-family: \"Source Code Pro\", \"Menlo\", monospace;;\n",
       "    font-size: 13px;\n",
       "    color: #555;\n",
       "    margin-left: 4px;\n",
       "    line-height: 19px;\n",
       "  }\n",
       "</style>\n",
       "<div class=\"ansiout\"></div>"
      ]
     },
     "metadata": {},
     "output_type": "display_data"
    }
   ],
   "source": [
    "def plot_confusion_matrix(y_test, final_y_pred):\n",
    "  sns.heatmap(confusion_matrix(y_test,final_y_pred),annot=True)\n",
    "  plt.ylabel('True Label')\n",
    "  plt.xlabel('Predicted Label')\n",
    "  plt.title('Confusion Matrix')\n",
    "  display(plt.show())"
   ]
  },
  {
   "cell_type": "code",
   "execution_count": 83,
   "metadata": {},
   "outputs": [
    {
     "data": {
      "text/html": [
       "<style scoped>\n",
       "  .ansiout {\n",
       "    display: block;\n",
       "    unicode-bidi: embed;\n",
       "    white-space: pre-wrap;\n",
       "    word-wrap: break-word;\n",
       "    word-break: break-all;\n",
       "    font-family: \"Source Code Pro\", \"Menlo\", monospace;;\n",
       "    font-size: 13px;\n",
       "    color: #555;\n",
       "    margin-left: 4px;\n",
       "    line-height: 19px;\n",
       "  }\n",
       "</style>\n",
       "<div class=\"ansiout\">Optimization terminated successfully.\n",
       "         Current function value: -0.090105\n",
       "         Iterations: 29\n",
       "         Function evaluations: 68\n",
       "Threshold: 0.03531250000000001\n",
       "Recall: 16.666666666666668 %\n",
       "Precision: 7.044079515989629 %\n",
       "</div>"
      ]
     },
     "metadata": {},
     "output_type": "display_data"
    }
   ],
   "source": [
    "final_y_pred = get_thresh_prec_rec(y_pred)"
   ]
  },
  {
   "cell_type": "code",
   "execution_count": 84,
   "metadata": {},
   "outputs": [],
   "source": [
    "plot_confusion_matrix(y_test, final_y_pred)"
   ]
  }
 ],
 "metadata": {
  "kernelspec": {
   "display_name": "Python 3",
   "language": "python",
   "name": "python3"
  },
  "language_info": {
   "codemirror_mode": {
    "name": "ipython",
    "version": 3
   },
   "file_extension": ".py",
   "mimetype": "text/x-python",
   "name": "python",
   "nbconvert_exporter": "python",
   "pygments_lexer": "ipython3",
   "version": "3.7.7"
  },
  "name": "Feat_select_chi2",
  "notebookId": 13166407,
  "toc": {
   "base_numbering": 1,
   "nav_menu": {},
   "number_sections": true,
   "sideBar": true,
   "skip_h1_title": false,
   "title_cell": "Table of Contents",
   "title_sidebar": "Contents",
   "toc_cell": false,
   "toc_position": {},
   "toc_section_display": true,
   "toc_window_display": false
  },
  "varInspector": {
   "cols": {
    "lenName": 16,
    "lenType": 16,
    "lenVar": 40
   },
   "kernels_config": {
    "python": {
     "delete_cmd_postfix": "",
     "delete_cmd_prefix": "del ",
     "library": "var_list.py",
     "varRefreshCmd": "print(var_dic_list())"
    },
    "r": {
     "delete_cmd_postfix": ") ",
     "delete_cmd_prefix": "rm(",
     "library": "var_list.r",
     "varRefreshCmd": "cat(var_dic_list()) "
    }
   },
   "types_to_exclude": [
    "module",
    "function",
    "builtin_function_or_method",
    "instance",
    "_Feature"
   ],
   "window_display": false
  }
 },
 "nbformat": 4,
 "nbformat_minor": 1
}
