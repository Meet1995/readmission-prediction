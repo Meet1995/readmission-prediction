{
 "cells": [
  {
   "cell_type": "markdown",
   "metadata": {},
   "source": [
    "# Libraries"
   ]
  },
  {
   "cell_type": "code",
   "execution_count": 1,
   "metadata": {
    "ExecuteTime": {
     "end_time": "2020-05-15T15:31:29.286001Z",
     "start_time": "2020-05-15T15:31:29.274006Z"
    }
   },
   "outputs": [],
   "source": [
    "import pickle\n",
    "import numpy as np\n",
    "import pandas as pd\n",
    "from tqdm import tqdm\n",
    "import tensorflow as tf\n",
    "import matplotlib.pyplot as plt\n",
    "from gensim.models import Word2Vec\n",
    "from tensorflow.keras import callbacks\n",
    "from sklearn.model_selection import train_test_split\n",
    "from sklearn.metrics import roc_curve, auc, roc_auc_score\n",
    "\n",
    "from pep_modules import patientai as pai"
   ]
  },
  {
   "cell_type": "code",
   "execution_count": 2,
   "metadata": {},
   "outputs": [],
   "source": [
    "def plot_roc_curve(y_true, y_score, roc_auc_score, title):\n",
    "    fpr, tpr, _ = roc_curve(y_true, y_score)\n",
    "    plt.figure(figsize=(10,7))\n",
    "    lw = 2\n",
    "    plt.plot(fpr, tpr, color='darkorange',\n",
    "             lw=lw, label='ROC curve (area = %0.2f)' % roc_auc_score)\n",
    "    plt.plot([0, 1], [0, 1], color='navy', lw=lw, linestyle='--')\n",
    "    plt.xlim([0.0, 1.0])\n",
    "    plt.ylim([0.0, 1.05])\n",
    "    plt.xlabel('False Positive Rate')\n",
    "    plt.ylabel('True Positive Rate')\n",
    "    plt.title(title)\n",
    "    plt.legend(loc=\"lower right\")\n",
    "    plt.show()"
   ]
  },
  {
   "cell_type": "markdown",
   "metadata": {},
   "source": [
    "# Loading data"
   ]
  },
  {
   "cell_type": "code",
   "execution_count": 3,
   "metadata": {
    "ExecuteTime": {
     "end_time": "2020-05-15T14:49:18.190745Z",
     "start_time": "2020-05-15T14:49:04.811114Z"
    }
   },
   "outputs": [],
   "source": [
    "cross_df = pd.read_pickle(r'../data/cross_data.pkl')\n",
    "targets_df = pd.read_pickle(r'../data/target.pkl')\n",
    "\n",
    "x_train_static = pd.read_pickle(r'../data/train_static.pkl')\n",
    "x_val_static = pd.read_pickle(r'../data/val_static.pkl')\n",
    "x_test_static = pd.read_pickle(r'../data/test_static.pkl')"
   ]
  },
  {
   "cell_type": "code",
   "execution_count": 4,
   "metadata": {
    "ExecuteTime": {
     "end_time": "2020-05-15T14:49:18.262936Z",
     "start_time": "2020-05-15T14:49:18.246895Z"
    }
   },
   "outputs": [
    {
     "name": "stdout",
     "output_type": "stream",
     "text": [
      "(45980, 4)\n"
     ]
    },
    {
     "data": {
      "text/html": [
       "<div>\n",
       "<style scoped>\n",
       "    .dataframe tbody tr th:only-of-type {\n",
       "        vertical-align: middle;\n",
       "    }\n",
       "\n",
       "    .dataframe tbody tr th {\n",
       "        vertical-align: top;\n",
       "    }\n",
       "\n",
       "    .dataframe thead th {\n",
       "        text-align: right;\n",
       "    }\n",
       "</style>\n",
       "<table border=\"1\" class=\"dataframe\">\n",
       "  <thead>\n",
       "    <tr style=\"text-align: right;\">\n",
       "      <th></th>\n",
       "      <th>pat_id</th>\n",
       "      <th>journey</th>\n",
       "      <th>event_day</th>\n",
       "      <th>marked_journey</th>\n",
       "    </tr>\n",
       "  </thead>\n",
       "  <tbody>\n",
       "    <tr>\n",
       "      <th>0</th>\n",
       "      <td>2</td>\n",
       "      <td>[NEO*IV*Gentamicin, Syringe (Neonatal) *D5W*, ...</td>\n",
       "      <td>[1, 2, 3, 4, 5, 6, 7, 8]</td>\n",
       "      <td>[NEO*IV*Gentamicin, Syringe (Neonatal) *D5W*, ...</td>\n",
       "    </tr>\n",
       "    <tr>\n",
       "      <th>1</th>\n",
       "      <td>3</td>\n",
       "      <td>[966.0, 3893.0, 9672.0, 8964.0, 9962.0, 9604.0...</td>\n",
       "      <td>[1, 2, 3, 4, 5, 6, 7, 8, 9, 10, 11, 12, 13, 14...</td>\n",
       "      <td>[966.0, 3893.0, 9672.0, 8964.0, 9962.0, 9604.0...</td>\n",
       "    </tr>\n",
       "    <tr>\n",
       "      <th>2</th>\n",
       "      <td>4</td>\n",
       "      <td>[D5W, Vancomycin HCl, Potassium Chloride, Insu...</td>\n",
       "      <td>[1, 2, 3, 4, 5, 6, 7, 8, 9, 10, 11, 12, 13, 14...</td>\n",
       "      <td>[D5W, Vancomycin HCl, Potassium Chloride, Insu...</td>\n",
       "    </tr>\n",
       "    <tr>\n",
       "      <th>3</th>\n",
       "      <td>5</td>\n",
       "      <td>[9955.0, V290, V053, V3000]</td>\n",
       "      <td>[1, 2, 3, 4]</td>\n",
       "      <td>[9955.0, V290, V053, V3000]</td>\n",
       "    </tr>\n",
       "    <tr>\n",
       "      <th>4</th>\n",
       "      <td>6</td>\n",
       "      <td>[Tacrolimus, Tacrolimus, Valganciclovir HCl, W...</td>\n",
       "      <td>[1, 2, 3, 4, 5, 6, 7, 8, 9, 10, 11, 12, 13, 14...</td>\n",
       "      <td>[Tacrolimus, Tacrolimus, Valganciclovir HCl, W...</td>\n",
       "    </tr>\n",
       "  </tbody>\n",
       "</table>\n",
       "</div>"
      ],
      "text/plain": [
       "   pat_id                                            journey  \\\n",
       "0       2  [NEO*IV*Gentamicin, Syringe (Neonatal) *D5W*, ...   \n",
       "1       3  [966.0, 3893.0, 9672.0, 8964.0, 9962.0, 9604.0...   \n",
       "2       4  [D5W, Vancomycin HCl, Potassium Chloride, Insu...   \n",
       "3       5                        [9955.0, V290, V053, V3000]   \n",
       "4       6  [Tacrolimus, Tacrolimus, Valganciclovir HCl, W...   \n",
       "\n",
       "                                           event_day  \\\n",
       "0                           [1, 2, 3, 4, 5, 6, 7, 8]   \n",
       "1  [1, 2, 3, 4, 5, 6, 7, 8, 9, 10, 11, 12, 13, 14...   \n",
       "2  [1, 2, 3, 4, 5, 6, 7, 8, 9, 10, 11, 12, 13, 14...   \n",
       "3                                       [1, 2, 3, 4]   \n",
       "4  [1, 2, 3, 4, 5, 6, 7, 8, 9, 10, 11, 12, 13, 14...   \n",
       "\n",
       "                                      marked_journey  \n",
       "0  [NEO*IV*Gentamicin, Syringe (Neonatal) *D5W*, ...  \n",
       "1  [966.0, 3893.0, 9672.0, 8964.0, 9962.0, 9604.0...  \n",
       "2  [D5W, Vancomycin HCl, Potassium Chloride, Insu...  \n",
       "3                        [9955.0, V290, V053, V3000]  \n",
       "4  [Tacrolimus, Tacrolimus, Valganciclovir HCl, W...  "
      ]
     },
     "execution_count": 4,
     "metadata": {},
     "output_type": "execute_result"
    }
   ],
   "source": [
    "print(cross_df.shape)\n",
    "cross_df.head()"
   ]
  },
  {
   "cell_type": "code",
   "execution_count": 5,
   "metadata": {
    "ExecuteTime": {
     "end_time": "2020-05-15T14:49:18.717236Z",
     "start_time": "2020-05-15T14:49:18.712725Z"
    }
   },
   "outputs": [
    {
     "data": {
      "text/plain": [
       "3.357981731187473"
      ]
     },
     "execution_count": 5,
     "metadata": {},
     "output_type": "execute_result"
    }
   ],
   "source": [
    "# CLass imbalance\n",
    "targets_df.switch_flag.sum()*100/len(targets_df)"
   ]
  },
  {
   "cell_type": "code",
   "execution_count": 6,
   "metadata": {
    "ExecuteTime": {
     "end_time": "2020-05-15T14:49:24.077122Z",
     "start_time": "2020-05-15T14:49:24.043033Z"
    }
   },
   "outputs": [],
   "source": [
    "X1, X_test, y1, y_test = train_test_split(cross_df, targets_df, test_size=0.20, random_state=42)\n",
    "X_train, X_val, y_train, y_val = train_test_split(X1, y1, test_size=0.15, random_state=42)"
   ]
  },
  {
   "cell_type": "markdown",
   "metadata": {},
   "source": [
    "# Best Results"
   ]
  },
  {
   "cell_type": "code",
   "execution_count": 7,
   "metadata": {},
   "outputs": [],
   "source": [
    "# best parameters without and with static features\n",
    "w2v_dim_static = 64\n",
    "jlen_static = 120\n",
    "\n",
    "w2v_dim = 64\n",
    "jlen = 120"
   ]
  },
  {
   "cell_type": "markdown",
   "metadata": {},
   "source": [
    "## Without static "
   ]
  },
  {
   "cell_type": "code",
   "execution_count": 8,
   "metadata": {},
   "outputs": [],
   "source": [
    "loaded_word2vec = Word2Vec.load(f'../saved_models/word2vec_{w2v_dim}.model')"
   ]
  },
  {
   "cell_type": "code",
   "execution_count": 9,
   "metadata": {
    "ExecuteTime": {
     "end_time": "2020-05-15T14:49:33.387906Z",
     "start_time": "2020-05-15T14:49:26.712521Z"
    }
   },
   "outputs": [
    {
     "name": "stdout",
     "output_type": "stream",
     "text": [
      "(31266, 120, 64) (5518, 120, 64) (9196, 120, 64)\n"
     ]
    }
   ],
   "source": [
    "x_train_tensor, y_train_tensor = pai.get_all_tensors_deepr(X_train,'journey',\n",
    "                                                                 y_train,'switch_flag',loaded_word2vec,jlen)\n",
    "x_val_tensor, y_val_tensor = pai.get_all_tensors_deepr(X_val,'journey',\n",
    "                                                             y_val,'switch_flag',loaded_word2vec,jlen)\n",
    "x_test_tensor, y_test_tensor = pai.get_all_tensors_deepr(X_test,'journey',\n",
    "                                                               y_test,'switch_flag',loaded_word2vec,jlen)\n",
    "\n",
    "x_train_tensor = np.squeeze(x_train_tensor)\n",
    "x_val_tensor = np.squeeze(x_val_tensor)\n",
    "x_test_tensor = np.squeeze(x_test_tensor)\n",
    "\n",
    "x_train_tensor = x_train_tensor.transpose((0,2,1))\n",
    "x_val_tensor = x_val_tensor.transpose((0,2,1))\n",
    "x_test_tensor = x_test_tensor.transpose((0,2,1))\n",
    "\n",
    "print(x_train_tensor.shape, x_val_tensor.shape, x_test_tensor.shape)"
   ]
  },
  {
   "cell_type": "code",
   "execution_count": 10,
   "metadata": {
    "ExecuteTime": {
     "end_time": "2020-05-15T14:49:36.604733Z",
     "start_time": "2020-05-15T14:49:35.324847Z"
    }
   },
   "outputs": [],
   "source": [
    "model = pai.build_rnn(jlen, w2v_dim)"
   ]
  },
  {
   "cell_type": "code",
   "execution_count": 11,
   "metadata": {},
   "outputs": [
    {
     "name": "stdout",
     "output_type": "stream",
     "text": [
      "Train on 31266 samples, validate on 5518 samples\n",
      "Epoch 1/100\n",
      "31266/31266 [==============================] - 75s 2ms/sample - loss: 0.1529 - my_auc: 0.5159 - val_loss: 0.1644 - val_my_auc: 0.5364\n",
      "Epoch 2/100\n",
      "31266/31266 [==============================] - 86s 3ms/sample - loss: 0.1431 - my_auc: 0.5665 - val_loss: 0.1669 - val_my_auc: 0.5387\n",
      "Epoch 3/100\n",
      "31266/31266 [==============================] - 87s 3ms/sample - loss: 0.1414 - my_auc: 0.5692 - val_loss: 0.1661 - val_my_auc: 0.4782\n",
      "Epoch 4/100\n",
      "31266/31266 [==============================] - 81s 3ms/sample - loss: 0.1403 - my_auc: 0.5862 - val_loss: 0.1665 - val_my_auc: 0.5058\n",
      "Epoch 5/100\n",
      "31266/31266 [==============================] - 87s 3ms/sample - loss: 0.1376 - my_auc: 0.6206 - val_loss: 0.1699 - val_my_auc: 0.4990\n",
      "Epoch 6/100\n",
      "31266/31266 [==============================] - 95s 3ms/sample - loss: 0.1352 - my_auc: 0.6329 - val_loss: 0.1702 - val_my_auc: 0.5026\n",
      "Epoch 7/100\n",
      "31266/31266 [==============================] - 94s 3ms/sample - loss: 0.1321 - my_auc: 0.6462 - val_loss: 0.1739 - val_my_auc: 0.4732\n"
     ]
    }
   ],
   "source": [
    "es_callback = callbacks.EarlyStopping(monitor='val_my_auc', patience=5, mode='max',restore_best_weights=True)\n",
    "model.fit(x_train_tensor,y_train_tensor, epochs=100, callbacks=[es_callback], validation_data=(x_val_tensor,y_val_tensor))\n",
    "model.save_weights('../saved_models/simple_rnn.h5')"
   ]
  },
  {
   "cell_type": "code",
   "execution_count": 12,
   "metadata": {
    "ExecuteTime": {
     "end_time": "2020-05-15T14:59:54.406606Z",
     "start_time": "2020-05-15T14:59:50.215788Z"
    }
   },
   "outputs": [
    {
     "name": "stdout",
     "output_type": "stream",
     "text": [
      "31266/31266 [==============================] - 17s 531us/sample - loss: 0.1397 - my_auc: 0.5828\n"
     ]
    }
   ],
   "source": [
    "trn_result = model.evaluate(x_train_tensor,y_train_tensor)"
   ]
  },
  {
   "cell_type": "code",
   "execution_count": 13,
   "metadata": {
    "ExecuteTime": {
     "end_time": "2020-05-15T15:16:07.979819Z",
     "start_time": "2020-05-15T15:16:06.379351Z"
    }
   },
   "outputs": [
    {
     "name": "stdout",
     "output_type": "stream",
     "text": [
      "5518/5518 [==============================] - 3s 587us/sample - loss: 0.1669 - my_auc: 0.5387\n"
     ]
    }
   ],
   "source": [
    "val_results = model.evaluate(x_val_tensor,y_val_tensor)"
   ]
  },
  {
   "cell_type": "code",
   "execution_count": 14,
   "metadata": {
    "ExecuteTime": {
     "end_time": "2020-05-15T15:46:47.422398Z",
     "start_time": "2020-05-15T15:46:42.840542Z"
    },
    "scrolled": true
   },
   "outputs": [
    {
     "name": "stdout",
     "output_type": "stream",
     "text": [
      "9196/9196 [==============================] - 5s 520us/sample - loss: 0.1538 - my_auc: 0.5650\n"
     ]
    }
   ],
   "source": [
    "test_results = model.evaluate(x_test_tensor,y_test_tensor)\n",
    "y_test_pred = model.predict(x_test_tensor)"
   ]
  },
  {
   "cell_type": "code",
   "execution_count": 15,
   "metadata": {
    "ExecuteTime": {
     "end_time": "2020-05-15T15:47:42.766610Z",
     "start_time": "2020-05-15T15:47:42.602503Z"
    }
   },
   "outputs": [
    {
     "data": {
      "image/png": "[encoded data removed]",
      "text/plain": [
       "<Figure size 720x504 with 1 Axes>"
      ]
     },
     "metadata": {
      "needs_background": "light"
     },
     "output_type": "display_data"
    }
   ],
   "source": [
    "plot_roc_curve(y_test_tensor, y_test_pred, test_results[1], 'ROC curve: Test Data, Simple RNN')"
   ]
  },
  {
   "cell_type": "markdown",
   "metadata": {},
   "source": [
    "## With static"
   ]
  },
  {
   "cell_type": "code",
   "execution_count": 16,
   "metadata": {},
   "outputs": [],
   "source": [
    "loaded_word2vec = Word2Vec.load(f'../saved_models/word2vec_{w2v_dim_static}.model')"
   ]
  },
  {
   "cell_type": "code",
   "execution_count": 17,
   "metadata": {
    "ExecuteTime": {
     "end_time": "2020-05-15T14:49:33.387906Z",
     "start_time": "2020-05-15T14:49:26.712521Z"
    }
   },
   "outputs": [
    {
     "name": "stdout",
     "output_type": "stream",
     "text": [
      "(31266, 120, 64) (5518, 120, 64) (9196, 120, 64)\n"
     ]
    }
   ],
   "source": [
    "x_train_tensor, y_train_tensor = pai.get_all_tensors_deepr(X_train,'journey',\n",
    "                                                                 y_train,'switch_flag',loaded_word2vec,jlen_static)\n",
    "x_val_tensor, y_val_tensor = pai.get_all_tensors_deepr(X_val,'journey',\n",
    "                                                             y_val,'switch_flag',loaded_word2vec,jlen_static)\n",
    "x_test_tensor, y_test_tensor = pai.get_all_tensors_deepr(X_test,'journey',\n",
    "                                                               y_test,'switch_flag',loaded_word2vec,jlen_static)\n",
    "\n",
    "x_train_tensor = np.squeeze(x_train_tensor)\n",
    "x_val_tensor = np.squeeze(x_val_tensor)\n",
    "x_test_tensor = np.squeeze(x_test_tensor)\n",
    "\n",
    "x_train_tensor = x_train_tensor.transpose((0,2,1))\n",
    "x_val_tensor = x_val_tensor.transpose((0,2,1))\n",
    "x_test_tensor = x_test_tensor.transpose((0,2,1))\n",
    "\n",
    "print(x_train_tensor.shape, x_val_tensor.shape, x_test_tensor.shape)"
   ]
  },
  {
   "cell_type": "code",
   "execution_count": 18,
   "metadata": {
    "ExecuteTime": {
     "end_time": "2020-05-15T14:49:36.604733Z",
     "start_time": "2020-05-15T14:49:35.324847Z"
    }
   },
   "outputs": [],
   "source": [
    "model = pai.build_rnn(jlen_static, w2v_dim_static, n_static=182)"
   ]
  },
  {
   "cell_type": "code",
   "execution_count": 23,
   "metadata": {},
   "outputs": [
    {
     "name": "stdout",
     "output_type": "stream",
     "text": [
      "Train on 31266 samples, validate on 5518 samples\n",
      "Epoch 1/100\n",
      "31266/31266 [==============================] - 71s 2ms/sample - loss: 0.1480 - my_auc: 0.5715 - val_loss: 0.1618 - val_my_auc: 0.6509\n",
      "Epoch 2/100\n",
      "31266/31266 [==============================] - 83s 3ms/sample - loss: 0.1379 - my_auc: 0.6604 - val_loss: 0.1629 - val_my_auc: 0.6631\n",
      "Epoch 3/100\n",
      "31266/31266 [==============================] - 84s 3ms/sample - loss: 0.1352 - my_auc: 0.6908 - val_loss: 0.1586 - val_my_auc: 0.6659\n",
      "Epoch 4/100\n",
      "31266/31266 [==============================] - 91s 3ms/sample - loss: 0.1348 - my_auc: 0.6979 - val_loss: 0.1677 - val_my_auc: 0.6892: 0.1352 - my_a\n",
      "Epoch 5/100\n",
      "31266/31266 [==============================] - 105s 3ms/sample - loss: 0.1311 - my_auc: 0.7321 - val_loss: 0.1577 - val_my_auc: 0.6882\n",
      "Epoch 6/100\n",
      "31266/31266 [==============================] - 120s 4ms/sample - loss: 0.1265 - my_auc: 0.7675 - val_loss: 0.1622 - val_my_auc: 0.6735\n",
      "Epoch 7/100\n",
      "31266/31266 [==============================] - 125s 4ms/sample - loss: 0.1258 - my_auc: 0.7783 - val_loss: 0.1629 - val_my_auc: 0.6655\n",
      "Epoch 8/100\n",
      "31266/31266 [==============================] - 152s 5ms/sample - loss: 0.1227 - my_auc: 0.7926 - val_loss: 0.1774 - val_my_auc: 0.6608\n",
      "Epoch 9/100\n",
      "31266/31266 [==============================] - 161s 5ms/sample - loss: 0.1178 - my_auc: 0.8168 - val_loss: 0.1810 - val_my_auc: 0.6671\n"
     ]
    },
    {
     "data": {
      "text/plain": [
       "<tensorflow.python.keras.callbacks.History at 0x1fc770d2208>"
      ]
     },
     "execution_count": 23,
     "metadata": {},
     "output_type": "execute_result"
    }
   ],
   "source": [
    "es_callback = callbacks.EarlyStopping(monitor='val_my_auc', patience=5, mode='max',restore_best_weights=True)\n",
    "model.fit([x_train_tensor,x_train_static],y_train_tensor, epochs=100, callbacks=[es_callback], validation_data=([x_val_tensor, x_val_static],y_val_tensor))\n",
    "model.save_weights('../saved_models/static_simple_rnn.h5')"
   ]
  },
  {
   "cell_type": "code",
   "execution_count": 24,
   "metadata": {
    "ExecuteTime": {
     "end_time": "2020-05-15T14:59:54.406606Z",
     "start_time": "2020-05-15T14:59:50.215788Z"
    }
   },
   "outputs": [
    {
     "name": "stdout",
     "output_type": "stream",
     "text": [
      "31266/31266 [==============================] - 32s 1ms/sample - loss: 0.1338 - my_auc: 0.7624\n"
     ]
    }
   ],
   "source": [
    "trn_result = model.evaluate([x_train_tensor,x_train_static],y_train_tensor)"
   ]
  },
  {
   "cell_type": "code",
   "execution_count": 25,
   "metadata": {
    "ExecuteTime": {
     "end_time": "2020-05-15T15:16:07.979819Z",
     "start_time": "2020-05-15T15:16:06.379351Z"
    }
   },
   "outputs": [
    {
     "name": "stdout",
     "output_type": "stream",
     "text": [
      "5518/5518 [==============================] - 5s 835us/sample - loss: 0.1677 - my_auc: 0.6892\n"
     ]
    }
   ],
   "source": [
    "val_results = model.evaluate([x_val_tensor, x_val_static],y_val_tensor)"
   ]
  },
  {
   "cell_type": "code",
   "execution_count": 26,
   "metadata": {
    "ExecuteTime": {
     "end_time": "2020-05-15T15:46:47.422398Z",
     "start_time": "2020-05-15T15:46:42.840542Z"
    },
    "scrolled": true
   },
   "outputs": [
    {
     "name": "stdout",
     "output_type": "stream",
     "text": [
      "9196/9196 [==============================] - 8s 916us/sample - loss: 0.1543 - my_auc: 0.6885\n"
     ]
    }
   ],
   "source": [
    "test_results = model.evaluate([x_test_tensor,x_test_static],y_test_tensor)\n",
    "y_test_pred = model.predict([x_test_tensor,x_test_static])"
   ]
  },
  {
   "cell_type": "code",
   "execution_count": 29,
   "metadata": {
    "ExecuteTime": {
     "end_time": "2020-05-15T15:32:38.291269Z",
     "start_time": "2020-05-15T15:32:38.132772Z"
    }
   },
   "outputs": [
    {
     "data": {
      "image/png": "[encoded data removed]",
      "text/plain": [
       "<Figure size 720x504 with 1 Axes>"
      ]
     },
     "metadata": {
      "needs_background": "light"
     },
     "output_type": "display_data"
    }
   ],
   "source": [
    "plot_roc_curve(y_test_tensor, y_test_pred, test_results[1], 'ROC curve: Test Data, Simple RNN with Static Features')"
   ]
  },
  {
   "cell_type": "code",
   "execution_count": 28,
   "metadata": {},
   "outputs": [],
   "source": []
  }
 ],
 "metadata": {
  "kernelspec": {
   "display_name": "tfgpu",
   "language": "python",
   "name": "tfgpu"
  },
  "language_info": {
   "codemirror_mode": {
    "name": "ipython",
    "version": 3
   },
   "file_extension": ".py",
   "mimetype": "text/x-python",
   "name": "python",
   "nbconvert_exporter": "python",
   "pygments_lexer": "ipython3",
   "version": "3.7.8"
  },
  "toc": {
   "base_numbering": 1,
   "nav_menu": {},
   "number_sections": true,
   "sideBar": true,
   "skip_h1_title": false,
   "title_cell": "Table of Contents",
   "title_sidebar": "Contents",
   "toc_cell": false,
   "toc_position": {},
   "toc_section_display": true,
   "toc_window_display": false
  },
  "toc-autonumbering": true,
  "varInspector": {
   "cols": {
    "lenName": 16,
    "lenType": 16,
    "lenVar": 40
   },
   "kernels_config": {
    "python": {
     "delete_cmd_postfix": "",
     "delete_cmd_prefix": "del ",
     "library": "var_list.py",
     "varRefreshCmd": "print(var_dic_list())"
    },
    "r": {
     "delete_cmd_postfix": ") ",
     "delete_cmd_prefix": "rm(",
     "library": "var_list.r",
     "varRefreshCmd": "cat(var_dic_list()) "
    }
   },
   "types_to_exclude": [
    "module",
    "function",
    "builtin_function_or_method",
    "instance",
    "_Feature"
   ],
   "window_display": false
  }
 },
 "nbformat": 4,
 "nbformat_minor": 4
}
