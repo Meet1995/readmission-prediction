{
 "cells": [
  {
   "cell_type": "code",
   "execution_count": 24,
   "metadata": {
    "ExecuteTime": {
     "end_time": "2020-05-13T18:30:46.638005Z",
     "start_time": "2020-05-13T18:30:46.630986Z"
    }
   },
   "outputs": [],
   "source": [
    "import pandas as pd\n",
    "import numpy as np\n",
    "import copy"
   ]
  },
  {
   "cell_type": "code",
   "execution_count": 25,
   "metadata": {
    "ExecuteTime": {
     "end_time": "2020-05-13T18:30:47.106707Z",
     "start_time": "2020-05-13T18:30:46.873115Z"
    }
   },
   "outputs": [],
   "source": [
    "admissions = pd.read_csv(r'readmissions_data/ADMISSIONS.csv')"
   ]
  },
  {
   "cell_type": "code",
   "execution_count": 26,
   "metadata": {
    "ExecuteTime": {
     "end_time": "2020-05-13T18:30:47.175950Z",
     "start_time": "2020-05-13T18:30:47.158876Z"
    }
   },
   "outputs": [
    {
     "name": "stdout",
     "output_type": "stream",
     "text": [
      "(58976, 19)\n"
     ]
    },
    {
     "data": {
      "text/html": [
       "<div>\n",
       "<style scoped>\n",
       "    .dataframe tbody tr th:only-of-type {\n",
       "        vertical-align: middle;\n",
       "    }\n",
       "\n",
       "    .dataframe tbody tr th {\n",
       "        vertical-align: top;\n",
       "    }\n",
       "\n",
       "    .dataframe thead th {\n",
       "        text-align: right;\n",
       "    }\n",
       "</style>\n",
       "<table border=\"1\" class=\"dataframe\">\n",
       "  <thead>\n",
       "    <tr style=\"text-align: right;\">\n",
       "      <th></th>\n",
       "      <th>ROW_ID</th>\n",
       "      <th>SUBJECT_ID</th>\n",
       "      <th>HADM_ID</th>\n",
       "      <th>ADMITTIME</th>\n",
       "      <th>DISCHTIME</th>\n",
       "      <th>DEATHTIME</th>\n",
       "      <th>ADMISSION_TYPE</th>\n",
       "      <th>ADMISSION_LOCATION</th>\n",
       "      <th>DISCHARGE_LOCATION</th>\n",
       "      <th>INSURANCE</th>\n",
       "      <th>LANGUAGE</th>\n",
       "      <th>RELIGION</th>\n",
       "      <th>MARITAL_STATUS</th>\n",
       "      <th>ETHNICITY</th>\n",
       "      <th>EDREGTIME</th>\n",
       "      <th>EDOUTTIME</th>\n",
       "      <th>DIAGNOSIS</th>\n",
       "      <th>HOSPITAL_EXPIRE_FLAG</th>\n",
       "      <th>HAS_CHARTEVENTS_DATA</th>\n",
       "    </tr>\n",
       "  </thead>\n",
       "  <tbody>\n",
       "    <tr>\n",
       "      <th>0</th>\n",
       "      <td>21</td>\n",
       "      <td>22</td>\n",
       "      <td>165315</td>\n",
       "      <td>2196-04-09 12:26:00</td>\n",
       "      <td>2196-04-10 15:54:00</td>\n",
       "      <td>NaN</td>\n",
       "      <td>EMERGENCY</td>\n",
       "      <td>EMERGENCY ROOM ADMIT</td>\n",
       "      <td>DISC-TRAN CANCER/CHLDRN H</td>\n",
       "      <td>Private</td>\n",
       "      <td>NaN</td>\n",
       "      <td>UNOBTAINABLE</td>\n",
       "      <td>MARRIED</td>\n",
       "      <td>WHITE</td>\n",
       "      <td>2196-04-09 10:06:00</td>\n",
       "      <td>2196-04-09 13:24:00</td>\n",
       "      <td>BENZODIAZEPINE OVERDOSE</td>\n",
       "      <td>0</td>\n",
       "      <td>1</td>\n",
       "    </tr>\n",
       "    <tr>\n",
       "      <th>1</th>\n",
       "      <td>22</td>\n",
       "      <td>23</td>\n",
       "      <td>152223</td>\n",
       "      <td>2153-09-03 07:15:00</td>\n",
       "      <td>2153-09-08 19:10:00</td>\n",
       "      <td>NaN</td>\n",
       "      <td>ELECTIVE</td>\n",
       "      <td>PHYS REFERRAL/NORMAL DELI</td>\n",
       "      <td>HOME HEALTH CARE</td>\n",
       "      <td>Medicare</td>\n",
       "      <td>NaN</td>\n",
       "      <td>CATHOLIC</td>\n",
       "      <td>MARRIED</td>\n",
       "      <td>WHITE</td>\n",
       "      <td>NaN</td>\n",
       "      <td>NaN</td>\n",
       "      <td>CORONARY ARTERY DISEASE\\CORONARY ARTERY BYPASS...</td>\n",
       "      <td>0</td>\n",
       "      <td>1</td>\n",
       "    </tr>\n",
       "    <tr>\n",
       "      <th>2</th>\n",
       "      <td>23</td>\n",
       "      <td>23</td>\n",
       "      <td>124321</td>\n",
       "      <td>2157-10-18 19:34:00</td>\n",
       "      <td>2157-10-25 14:00:00</td>\n",
       "      <td>NaN</td>\n",
       "      <td>EMERGENCY</td>\n",
       "      <td>TRANSFER FROM HOSP/EXTRAM</td>\n",
       "      <td>HOME HEALTH CARE</td>\n",
       "      <td>Medicare</td>\n",
       "      <td>ENGL</td>\n",
       "      <td>CATHOLIC</td>\n",
       "      <td>MARRIED</td>\n",
       "      <td>WHITE</td>\n",
       "      <td>NaN</td>\n",
       "      <td>NaN</td>\n",
       "      <td>BRAIN MASS</td>\n",
       "      <td>0</td>\n",
       "      <td>1</td>\n",
       "    </tr>\n",
       "    <tr>\n",
       "      <th>3</th>\n",
       "      <td>24</td>\n",
       "      <td>24</td>\n",
       "      <td>161859</td>\n",
       "      <td>2139-06-06 16:14:00</td>\n",
       "      <td>2139-06-09 12:48:00</td>\n",
       "      <td>NaN</td>\n",
       "      <td>EMERGENCY</td>\n",
       "      <td>TRANSFER FROM HOSP/EXTRAM</td>\n",
       "      <td>HOME</td>\n",
       "      <td>Private</td>\n",
       "      <td>NaN</td>\n",
       "      <td>PROTESTANT QUAKER</td>\n",
       "      <td>SINGLE</td>\n",
       "      <td>WHITE</td>\n",
       "      <td>NaN</td>\n",
       "      <td>NaN</td>\n",
       "      <td>INTERIOR MYOCARDIAL INFARCTION</td>\n",
       "      <td>0</td>\n",
       "      <td>1</td>\n",
       "    </tr>\n",
       "    <tr>\n",
       "      <th>4</th>\n",
       "      <td>25</td>\n",
       "      <td>25</td>\n",
       "      <td>129635</td>\n",
       "      <td>2160-11-02 02:06:00</td>\n",
       "      <td>2160-11-05 14:55:00</td>\n",
       "      <td>NaN</td>\n",
       "      <td>EMERGENCY</td>\n",
       "      <td>EMERGENCY ROOM ADMIT</td>\n",
       "      <td>HOME</td>\n",
       "      <td>Private</td>\n",
       "      <td>NaN</td>\n",
       "      <td>UNOBTAINABLE</td>\n",
       "      <td>MARRIED</td>\n",
       "      <td>WHITE</td>\n",
       "      <td>2160-11-02 01:01:00</td>\n",
       "      <td>2160-11-02 04:27:00</td>\n",
       "      <td>ACUTE CORONARY SYNDROME</td>\n",
       "      <td>0</td>\n",
       "      <td>1</td>\n",
       "    </tr>\n",
       "  </tbody>\n",
       "</table>\n",
       "</div>"
      ],
      "text/plain": [
       "   ROW_ID  SUBJECT_ID  HADM_ID            ADMITTIME            DISCHTIME  \\\n",
       "0      21          22   165315  2196-04-09 12:26:00  2196-04-10 15:54:00   \n",
       "1      22          23   152223  2153-09-03 07:15:00  2153-09-08 19:10:00   \n",
       "2      23          23   124321  2157-10-18 19:34:00  2157-10-25 14:00:00   \n",
       "3      24          24   161859  2139-06-06 16:14:00  2139-06-09 12:48:00   \n",
       "4      25          25   129635  2160-11-02 02:06:00  2160-11-05 14:55:00   \n",
       "\n",
       "  DEATHTIME ADMISSION_TYPE         ADMISSION_LOCATION  \\\n",
       "0       NaN      EMERGENCY       EMERGENCY ROOM ADMIT   \n",
       "1       NaN       ELECTIVE  PHYS REFERRAL/NORMAL DELI   \n",
       "2       NaN      EMERGENCY  TRANSFER FROM HOSP/EXTRAM   \n",
       "3       NaN      EMERGENCY  TRANSFER FROM HOSP/EXTRAM   \n",
       "4       NaN      EMERGENCY       EMERGENCY ROOM ADMIT   \n",
       "\n",
       "          DISCHARGE_LOCATION INSURANCE LANGUAGE           RELIGION  \\\n",
       "0  DISC-TRAN CANCER/CHLDRN H   Private      NaN       UNOBTAINABLE   \n",
       "1           HOME HEALTH CARE  Medicare      NaN           CATHOLIC   \n",
       "2           HOME HEALTH CARE  Medicare     ENGL           CATHOLIC   \n",
       "3                       HOME   Private      NaN  PROTESTANT QUAKER   \n",
       "4                       HOME   Private      NaN       UNOBTAINABLE   \n",
       "\n",
       "  MARITAL_STATUS ETHNICITY            EDREGTIME            EDOUTTIME  \\\n",
       "0        MARRIED     WHITE  2196-04-09 10:06:00  2196-04-09 13:24:00   \n",
       "1        MARRIED     WHITE                  NaN                  NaN   \n",
       "2        MARRIED     WHITE                  NaN                  NaN   \n",
       "3         SINGLE     WHITE                  NaN                  NaN   \n",
       "4        MARRIED     WHITE  2160-11-02 01:01:00  2160-11-02 04:27:00   \n",
       "\n",
       "                                           DIAGNOSIS  HOSPITAL_EXPIRE_FLAG  \\\n",
       "0                            BENZODIAZEPINE OVERDOSE                     0   \n",
       "1  CORONARY ARTERY DISEASE\\CORONARY ARTERY BYPASS...                     0   \n",
       "2                                         BRAIN MASS                     0   \n",
       "3                     INTERIOR MYOCARDIAL INFARCTION                     0   \n",
       "4                            ACUTE CORONARY SYNDROME                     0   \n",
       "\n",
       "   HAS_CHARTEVENTS_DATA  \n",
       "0                     1  \n",
       "1                     1  \n",
       "2                     1  \n",
       "3                     1  \n",
       "4                     1  "
      ]
     },
     "execution_count": 26,
     "metadata": {},
     "output_type": "execute_result"
    }
   ],
   "source": [
    "print(admissions.shape)\n",
    "admissions.head()"
   ]
  },
  {
   "cell_type": "code",
   "execution_count": 27,
   "metadata": {
    "ExecuteTime": {
     "end_time": "2020-05-13T18:30:51.020283Z",
     "start_time": "2020-05-13T18:30:51.014267Z"
    }
   },
   "outputs": [
    {
     "name": "stdout",
     "output_type": "stream",
     "text": [
      "(58976, 19) 46520\n"
     ]
    }
   ],
   "source": [
    "print(admissions.shape,admissions['SUBJECT_ID'].nunique())"
   ]
  },
  {
   "cell_type": "code",
   "execution_count": 28,
   "metadata": {
    "ExecuteTime": {
     "end_time": "2020-05-13T18:30:51.555623Z",
     "start_time": "2020-05-13T18:30:51.526560Z"
    }
   },
   "outputs": [
    {
     "data": {
      "text/plain": [
       "7537"
      ]
     },
     "execution_count": 28,
     "metadata": {},
     "output_type": "execute_result"
    }
   ],
   "source": [
    "(admissions.groupby(['SUBJECT_ID'])['HADM_ID'].count()>1).sum()"
   ]
  },
  {
   "cell_type": "code",
   "execution_count": 29,
   "metadata": {
    "ExecuteTime": {
     "end_time": "2020-05-13T18:30:51.818953Z",
     "start_time": "2020-05-13T18:30:51.805923Z"
    }
   },
   "outputs": [],
   "source": [
    "def get_readmitted_patients(admissions_in, readmission_days):\n",
    "    admissions = copy.deepcopy(admissions_in)\n",
    "    admissions['freq'] = admissions.groupby(['SUBJECT_ID'])['HADM_ID'].transform('count')\n",
    "    admissions['ADMITTIME'] = pd.to_datetime(admissions['ADMITTIME'])\n",
    "    admissions['DISCHTIME'] = pd.to_datetime(admissions['DISCHTIME'])\n",
    "    admissions.sort_values(['SUBJECT_ID','ADMITTIME'],inplace=True)\n",
    "    admissions['lag_diff'] = admissions.groupby(['SUBJECT_ID'])['ADMITTIME'].diff()\n",
    "    admissions['readmn_days'] = admissions['lag_diff'].dt.days\n",
    "    admissions.reset_index(drop = True, inplace = True)\n",
    "    pat_ones = set(admissions[admissions['readmn_days']<=readmission_days].SUBJECT_ID)\n",
    "    pat_zeros = set(admissions.SUBJECT_ID) - pat_ones\n",
    "    return admissions, pat_ones, pat_zeros"
   ]
  },
  {
   "cell_type": "code",
   "execution_count": 30,
   "metadata": {
    "ExecuteTime": {
     "end_time": "2020-05-13T18:31:00.445514Z",
     "start_time": "2020-05-13T18:30:52.121746Z"
    }
   },
   "outputs": [],
   "source": [
    "admissions_mod, readmitted, not_readmitted = get_readmitted_patients(admissions, 30)"
   ]
  },
  {
   "cell_type": "code",
   "execution_count": 31,
   "metadata": {
    "ExecuteTime": {
     "end_time": "2020-05-13T18:31:00.515430Z",
     "start_time": "2020-05-13T18:31:00.496371Z"
    }
   },
   "outputs": [
    {
     "data": {
      "text/html": [
       "<div>\n",
       "<style scoped>\n",
       "    .dataframe tbody tr th:only-of-type {\n",
       "        vertical-align: middle;\n",
       "    }\n",
       "\n",
       "    .dataframe tbody tr th {\n",
       "        vertical-align: top;\n",
       "    }\n",
       "\n",
       "    .dataframe thead th {\n",
       "        text-align: right;\n",
       "    }\n",
       "</style>\n",
       "<table border=\"1\" class=\"dataframe\">\n",
       "  <thead>\n",
       "    <tr style=\"text-align: right;\">\n",
       "      <th></th>\n",
       "      <th>ROW_ID</th>\n",
       "      <th>SUBJECT_ID</th>\n",
       "      <th>HADM_ID</th>\n",
       "      <th>ADMITTIME</th>\n",
       "      <th>DISCHTIME</th>\n",
       "      <th>DEATHTIME</th>\n",
       "      <th>ADMISSION_TYPE</th>\n",
       "      <th>ADMISSION_LOCATION</th>\n",
       "      <th>DISCHARGE_LOCATION</th>\n",
       "      <th>INSURANCE</th>\n",
       "      <th>...</th>\n",
       "      <th>MARITAL_STATUS</th>\n",
       "      <th>ETHNICITY</th>\n",
       "      <th>EDREGTIME</th>\n",
       "      <th>EDOUTTIME</th>\n",
       "      <th>DIAGNOSIS</th>\n",
       "      <th>HOSPITAL_EXPIRE_FLAG</th>\n",
       "      <th>HAS_CHARTEVENTS_DATA</th>\n",
       "      <th>freq</th>\n",
       "      <th>lag_diff</th>\n",
       "      <th>readmn_days</th>\n",
       "    </tr>\n",
       "  </thead>\n",
       "  <tbody>\n",
       "    <tr>\n",
       "      <th>0</th>\n",
       "      <td>1</td>\n",
       "      <td>2</td>\n",
       "      <td>163353</td>\n",
       "      <td>2138-07-17 19:04:00</td>\n",
       "      <td>2138-07-21 15:48:00</td>\n",
       "      <td>NaN</td>\n",
       "      <td>NEWBORN</td>\n",
       "      <td>PHYS REFERRAL/NORMAL DELI</td>\n",
       "      <td>HOME</td>\n",
       "      <td>Private</td>\n",
       "      <td>...</td>\n",
       "      <td>NaN</td>\n",
       "      <td>ASIAN</td>\n",
       "      <td>NaN</td>\n",
       "      <td>NaN</td>\n",
       "      <td>NEWBORN</td>\n",
       "      <td>0</td>\n",
       "      <td>1</td>\n",
       "      <td>1</td>\n",
       "      <td>NaT</td>\n",
       "      <td>NaN</td>\n",
       "    </tr>\n",
       "    <tr>\n",
       "      <th>1</th>\n",
       "      <td>2</td>\n",
       "      <td>3</td>\n",
       "      <td>145834</td>\n",
       "      <td>2101-10-20 19:08:00</td>\n",
       "      <td>2101-10-31 13:58:00</td>\n",
       "      <td>NaN</td>\n",
       "      <td>EMERGENCY</td>\n",
       "      <td>EMERGENCY ROOM ADMIT</td>\n",
       "      <td>SNF</td>\n",
       "      <td>Medicare</td>\n",
       "      <td>...</td>\n",
       "      <td>MARRIED</td>\n",
       "      <td>WHITE</td>\n",
       "      <td>2101-10-20 17:09:00</td>\n",
       "      <td>2101-10-20 19:24:00</td>\n",
       "      <td>HYPOTENSION</td>\n",
       "      <td>0</td>\n",
       "      <td>1</td>\n",
       "      <td>1</td>\n",
       "      <td>NaT</td>\n",
       "      <td>NaN</td>\n",
       "    </tr>\n",
       "    <tr>\n",
       "      <th>2</th>\n",
       "      <td>3</td>\n",
       "      <td>4</td>\n",
       "      <td>185777</td>\n",
       "      <td>2191-03-16 00:28:00</td>\n",
       "      <td>2191-03-23 18:41:00</td>\n",
       "      <td>NaN</td>\n",
       "      <td>EMERGENCY</td>\n",
       "      <td>EMERGENCY ROOM ADMIT</td>\n",
       "      <td>HOME WITH HOME IV PROVIDR</td>\n",
       "      <td>Private</td>\n",
       "      <td>...</td>\n",
       "      <td>SINGLE</td>\n",
       "      <td>WHITE</td>\n",
       "      <td>2191-03-15 13:10:00</td>\n",
       "      <td>2191-03-16 01:10:00</td>\n",
       "      <td>FEVER,DEHYDRATION,FAILURE TO THRIVE</td>\n",
       "      <td>0</td>\n",
       "      <td>1</td>\n",
       "      <td>1</td>\n",
       "      <td>NaT</td>\n",
       "      <td>NaN</td>\n",
       "    </tr>\n",
       "    <tr>\n",
       "      <th>3</th>\n",
       "      <td>4</td>\n",
       "      <td>5</td>\n",
       "      <td>178980</td>\n",
       "      <td>2103-02-02 04:31:00</td>\n",
       "      <td>2103-02-04 12:15:00</td>\n",
       "      <td>NaN</td>\n",
       "      <td>NEWBORN</td>\n",
       "      <td>PHYS REFERRAL/NORMAL DELI</td>\n",
       "      <td>HOME</td>\n",
       "      <td>Private</td>\n",
       "      <td>...</td>\n",
       "      <td>NaN</td>\n",
       "      <td>ASIAN</td>\n",
       "      <td>NaN</td>\n",
       "      <td>NaN</td>\n",
       "      <td>NEWBORN</td>\n",
       "      <td>0</td>\n",
       "      <td>1</td>\n",
       "      <td>1</td>\n",
       "      <td>NaT</td>\n",
       "      <td>NaN</td>\n",
       "    </tr>\n",
       "    <tr>\n",
       "      <th>4</th>\n",
       "      <td>5</td>\n",
       "      <td>6</td>\n",
       "      <td>107064</td>\n",
       "      <td>2175-05-30 07:15:00</td>\n",
       "      <td>2175-06-15 16:00:00</td>\n",
       "      <td>NaN</td>\n",
       "      <td>ELECTIVE</td>\n",
       "      <td>PHYS REFERRAL/NORMAL DELI</td>\n",
       "      <td>HOME HEALTH CARE</td>\n",
       "      <td>Medicare</td>\n",
       "      <td>...</td>\n",
       "      <td>MARRIED</td>\n",
       "      <td>WHITE</td>\n",
       "      <td>NaN</td>\n",
       "      <td>NaN</td>\n",
       "      <td>CHRONIC RENAL FAILURE/SDA</td>\n",
       "      <td>0</td>\n",
       "      <td>1</td>\n",
       "      <td>1</td>\n",
       "      <td>NaT</td>\n",
       "      <td>NaN</td>\n",
       "    </tr>\n",
       "  </tbody>\n",
       "</table>\n",
       "<p>5 rows × 22 columns</p>\n",
       "</div>"
      ],
      "text/plain": [
       "   ROW_ID  SUBJECT_ID  HADM_ID           ADMITTIME           DISCHTIME  \\\n",
       "0       1           2   163353 2138-07-17 19:04:00 2138-07-21 15:48:00   \n",
       "1       2           3   145834 2101-10-20 19:08:00 2101-10-31 13:58:00   \n",
       "2       3           4   185777 2191-03-16 00:28:00 2191-03-23 18:41:00   \n",
       "3       4           5   178980 2103-02-02 04:31:00 2103-02-04 12:15:00   \n",
       "4       5           6   107064 2175-05-30 07:15:00 2175-06-15 16:00:00   \n",
       "\n",
       "  DEATHTIME ADMISSION_TYPE         ADMISSION_LOCATION  \\\n",
       "0       NaN        NEWBORN  PHYS REFERRAL/NORMAL DELI   \n",
       "1       NaN      EMERGENCY       EMERGENCY ROOM ADMIT   \n",
       "2       NaN      EMERGENCY       EMERGENCY ROOM ADMIT   \n",
       "3       NaN        NEWBORN  PHYS REFERRAL/NORMAL DELI   \n",
       "4       NaN       ELECTIVE  PHYS REFERRAL/NORMAL DELI   \n",
       "\n",
       "          DISCHARGE_LOCATION INSURANCE  ... MARITAL_STATUS ETHNICITY  \\\n",
       "0                       HOME   Private  ...            NaN     ASIAN   \n",
       "1                        SNF  Medicare  ...        MARRIED     WHITE   \n",
       "2  HOME WITH HOME IV PROVIDR   Private  ...         SINGLE     WHITE   \n",
       "3                       HOME   Private  ...            NaN     ASIAN   \n",
       "4           HOME HEALTH CARE  Medicare  ...        MARRIED     WHITE   \n",
       "\n",
       "             EDREGTIME            EDOUTTIME  \\\n",
       "0                  NaN                  NaN   \n",
       "1  2101-10-20 17:09:00  2101-10-20 19:24:00   \n",
       "2  2191-03-15 13:10:00  2191-03-16 01:10:00   \n",
       "3                  NaN                  NaN   \n",
       "4                  NaN                  NaN   \n",
       "\n",
       "                             DIAGNOSIS HOSPITAL_EXPIRE_FLAG  \\\n",
       "0                              NEWBORN                    0   \n",
       "1                          HYPOTENSION                    0   \n",
       "2  FEVER,DEHYDRATION,FAILURE TO THRIVE                    0   \n",
       "3                              NEWBORN                    0   \n",
       "4            CHRONIC RENAL FAILURE/SDA                    0   \n",
       "\n",
       "  HAS_CHARTEVENTS_DATA  freq  lag_diff  readmn_days  \n",
       "0                    1     1       NaT          NaN  \n",
       "1                    1     1       NaT          NaN  \n",
       "2                    1     1       NaT          NaN  \n",
       "3                    1     1       NaT          NaN  \n",
       "4                    1     1       NaT          NaN  \n",
       "\n",
       "[5 rows x 22 columns]"
      ]
     },
     "execution_count": 31,
     "metadata": {},
     "output_type": "execute_result"
    }
   ],
   "source": [
    "admissions_mod.head()"
   ]
  },
  {
   "cell_type": "code",
   "execution_count": 55,
   "metadata": {
    "ExecuteTime": {
     "end_time": "2020-05-14T06:33:32.916681Z",
     "start_time": "2020-05-14T06:33:32.841406Z"
    }
   },
   "outputs": [
    {
     "data": {
      "text/plain": [
       "ROW_ID                      0\n",
       "SUBJECT_ID                  0\n",
       "HADM_ID                     0\n",
       "ADMITTIME                   0\n",
       "DISCHTIME                   0\n",
       "DEATHTIME               53122\n",
       "ADMISSION_TYPE              0\n",
       "ADMISSION_LOCATION          0\n",
       "DISCHARGE_LOCATION          0\n",
       "INSURANCE                   0\n",
       "LANGUAGE                25332\n",
       "RELIGION                  458\n",
       "MARITAL_STATUS          10128\n",
       "ETHNICITY                   0\n",
       "EDREGTIME               28099\n",
       "EDOUTTIME               28099\n",
       "DIAGNOSIS                  25\n",
       "HOSPITAL_EXPIRE_FLAG        0\n",
       "HAS_CHARTEVENTS_DATA        0\n",
       "freq                        0\n",
       "lag_diff                46520\n",
       "readmn_days             46520\n",
       "dtype: int64"
      ]
     },
     "execution_count": 55,
     "metadata": {},
     "output_type": "execute_result"
    }
   ],
   "source": [
    "admissions_mod.isna().sum()"
   ]
  },
  {
   "cell_type": "code",
   "execution_count": 44,
   "metadata": {
    "ExecuteTime": {
     "end_time": "2020-05-13T18:41:06.151272Z",
     "start_time": "2020-05-13T18:41:06.134228Z"
    }
   },
   "outputs": [],
   "source": [
    "def grpby_drop_pat(df, pat_list, readmission_days):\n",
    "    if df['SUBJECT_ID'].tolist()[0] not in pat_list:\n",
    "        admission_id = df['HADM_ID'].tolist()\n",
    "        return pd.DataFrame.from_dict({'switch_flag':[0], 'HADM_ID_lst':[admission_id]})\n",
    "    else:\n",
    "        readmission_days_list = df['readmn_days'].fillna(9999).tolist()\n",
    "        for i in range(len(readmission_days_list)-1):\n",
    "            if readmission_days_list[i]> readmission_days:\n",
    "                x = 0\n",
    "            else:\n",
    "                x = 1\n",
    "\n",
    "            if readmission_days_list[i+1]> readmission_days:\n",
    "                y = 0\n",
    "            else:\n",
    "                y = 1\n",
    "            delta = y - x\n",
    "            if delta <0:\n",
    "                return pd.DataFrame.from_dict({'switch_flag':[2]})\n",
    "        admission_id =   df[df['HADM_ID'] != df['HADM_ID'].max()]['HADM_ID'].tolist()\n",
    "    return pd.DataFrame.from_dict({'switch_flag':[1], 'HADM_ID_lst':[admission_id]})"
   ]
  },
  {
   "cell_type": "code",
   "execution_count": 45,
   "metadata": {
    "ExecuteTime": {
     "end_time": "2020-05-13T18:41:47.816249Z",
     "start_time": "2020-05-13T18:41:09.406329Z"
    }
   },
   "outputs": [],
   "source": [
    "df_target = admissions_mod.groupby('SUBJECT_ID').apply(grpby_drop_pat, pat_list = readmitted, readmission_days = 30)\n",
    "df_target.reset_index(inplace = True)\n",
    "df_target.drop(columns = ['level_1'],inplace = True)"
   ]
  },
  {
   "cell_type": "code",
   "execution_count": 46,
   "metadata": {
    "ExecuteTime": {
     "end_time": "2020-05-13T18:41:49.140108Z",
     "start_time": "2020-05-13T18:41:49.131090Z"
    }
   },
   "outputs": [],
   "source": [
    "a = set(df_target[df_target.switch_flag == 1].SUBJECT_ID).union(set(df_target[df_target.switch_flag == 2].SUBJECT_ID))"
   ]
  },
  {
   "cell_type": "code",
   "execution_count": 47,
   "metadata": {
    "ExecuteTime": {
     "end_time": "2020-05-13T18:41:49.614967Z",
     "start_time": "2020-05-13T18:41:49.600983Z"
    }
   },
   "outputs": [
    {
     "data": {
      "text/plain": [
       "540"
      ]
     },
     "execution_count": 47,
     "metadata": {},
     "output_type": "execute_result"
    }
   ],
   "source": [
    "len(set(df_target[df_target.switch_flag == 2].SUBJECT_ID))"
   ]
  },
  {
   "cell_type": "code",
   "execution_count": 48,
   "metadata": {
    "ExecuteTime": {
     "end_time": "2020-05-13T18:41:55.367600Z",
     "start_time": "2020-05-13T18:41:55.356579Z"
    }
   },
   "outputs": [
    {
     "data": {
      "text/plain": [
       "(2084, 2084)"
      ]
     },
     "execution_count": 48,
     "metadata": {},
     "output_type": "execute_result"
    }
   ],
   "source": [
    "len(a), len(readmitted)"
   ]
  },
  {
   "cell_type": "code",
   "execution_count": 49,
   "metadata": {
    "ExecuteTime": {
     "end_time": "2020-05-13T18:41:58.749535Z",
     "start_time": "2020-05-13T18:41:58.743484Z"
    }
   },
   "outputs": [],
   "source": [
    "df_target.rename(columns={'SUBJECT_ID':'pat_id'}, inplace = True)"
   ]
  },
  {
   "cell_type": "code",
   "execution_count": 53,
   "metadata": {
    "ExecuteTime": {
     "end_time": "2020-05-13T18:46:39.567033Z",
     "start_time": "2020-05-13T18:46:39.537996Z"
    }
   },
   "outputs": [],
   "source": [
    "df_target.to_pickle('target_30.pkl')"
   ]
  },
  {
   "cell_type": "code",
   "execution_count": 54,
   "metadata": {
    "ExecuteTime": {
     "end_time": "2020-05-13T19:00:17.247486Z",
     "start_time": "2020-05-13T19:00:17.219417Z"
    }
   },
   "outputs": [
    {
     "data": {
      "text/html": [
       "<div>\n",
       "<style scoped>\n",
       "    .dataframe tbody tr th:only-of-type {\n",
       "        vertical-align: middle;\n",
       "    }\n",
       "\n",
       "    .dataframe tbody tr th {\n",
       "        vertical-align: top;\n",
       "    }\n",
       "\n",
       "    .dataframe thead th {\n",
       "        text-align: right;\n",
       "    }\n",
       "</style>\n",
       "<table border=\"1\" class=\"dataframe\">\n",
       "  <thead>\n",
       "    <tr style=\"text-align: right;\">\n",
       "      <th></th>\n",
       "      <th>ROW_ID</th>\n",
       "      <th>SUBJECT_ID</th>\n",
       "      <th>HADM_ID</th>\n",
       "      <th>ADMITTIME</th>\n",
       "      <th>DISCHTIME</th>\n",
       "      <th>DEATHTIME</th>\n",
       "      <th>ADMISSION_TYPE</th>\n",
       "      <th>ADMISSION_LOCATION</th>\n",
       "      <th>DISCHARGE_LOCATION</th>\n",
       "      <th>INSURANCE</th>\n",
       "      <th>...</th>\n",
       "      <th>MARITAL_STATUS</th>\n",
       "      <th>ETHNICITY</th>\n",
       "      <th>EDREGTIME</th>\n",
       "      <th>EDOUTTIME</th>\n",
       "      <th>DIAGNOSIS</th>\n",
       "      <th>HOSPITAL_EXPIRE_FLAG</th>\n",
       "      <th>HAS_CHARTEVENTS_DATA</th>\n",
       "      <th>freq</th>\n",
       "      <th>lag_diff</th>\n",
       "      <th>readmn_days</th>\n",
       "    </tr>\n",
       "  </thead>\n",
       "  <tbody>\n",
       "    <tr>\n",
       "      <th>465</th>\n",
       "      <td>466</td>\n",
       "      <td>362</td>\n",
       "      <td>142749</td>\n",
       "      <td>2112-07-10 02:31:00</td>\n",
       "      <td>2112-07-16 13:45:00</td>\n",
       "      <td>NaN</td>\n",
       "      <td>EMERGENCY</td>\n",
       "      <td>EMERGENCY ROOM ADMIT</td>\n",
       "      <td>SNF</td>\n",
       "      <td>Medicare</td>\n",
       "      <td>...</td>\n",
       "      <td>WIDOWED</td>\n",
       "      <td>WHITE</td>\n",
       "      <td>2112-07-09 21:22:00</td>\n",
       "      <td>2112-07-10 04:18:00</td>\n",
       "      <td>HYPONATREMIA-R/O MYOCARDIAL INFARCTION-RHABDOM...</td>\n",
       "      <td>0</td>\n",
       "      <td>1</td>\n",
       "      <td>2</td>\n",
       "      <td>NaT</td>\n",
       "      <td>NaN</td>\n",
       "    </tr>\n",
       "    <tr>\n",
       "      <th>466</th>\n",
       "      <td>467</td>\n",
       "      <td>362</td>\n",
       "      <td>150873</td>\n",
       "      <td>2112-07-28 17:08:00</td>\n",
       "      <td>2112-08-03 17:56:00</td>\n",
       "      <td>NaN</td>\n",
       "      <td>EMERGENCY</td>\n",
       "      <td>EMERGENCY ROOM ADMIT</td>\n",
       "      <td>SNF</td>\n",
       "      <td>Medicare</td>\n",
       "      <td>...</td>\n",
       "      <td>WIDOWED</td>\n",
       "      <td>WHITE</td>\n",
       "      <td>2112-07-28 15:43:00</td>\n",
       "      <td>2112-07-28 18:29:00</td>\n",
       "      <td>SUBDURAL HEMATOMA</td>\n",
       "      <td>0</td>\n",
       "      <td>1</td>\n",
       "      <td>2</td>\n",
       "      <td>18 days 14:37:00</td>\n",
       "      <td>18.0</td>\n",
       "    </tr>\n",
       "  </tbody>\n",
       "</table>\n",
       "<p>2 rows × 22 columns</p>\n",
       "</div>"
      ],
      "text/plain": [
       "     ROW_ID  SUBJECT_ID  HADM_ID           ADMITTIME           DISCHTIME  \\\n",
       "465     466         362   142749 2112-07-10 02:31:00 2112-07-16 13:45:00   \n",
       "466     467         362   150873 2112-07-28 17:08:00 2112-08-03 17:56:00   \n",
       "\n",
       "    DEATHTIME ADMISSION_TYPE    ADMISSION_LOCATION DISCHARGE_LOCATION  \\\n",
       "465       NaN      EMERGENCY  EMERGENCY ROOM ADMIT                SNF   \n",
       "466       NaN      EMERGENCY  EMERGENCY ROOM ADMIT                SNF   \n",
       "\n",
       "    INSURANCE  ... MARITAL_STATUS ETHNICITY            EDREGTIME  \\\n",
       "465  Medicare  ...        WIDOWED     WHITE  2112-07-09 21:22:00   \n",
       "466  Medicare  ...        WIDOWED     WHITE  2112-07-28 15:43:00   \n",
       "\n",
       "               EDOUTTIME                                          DIAGNOSIS  \\\n",
       "465  2112-07-10 04:18:00  HYPONATREMIA-R/O MYOCARDIAL INFARCTION-RHABDOM...   \n",
       "466  2112-07-28 18:29:00                                  SUBDURAL HEMATOMA   \n",
       "\n",
       "    HOSPITAL_EXPIRE_FLAG HAS_CHARTEVENTS_DATA  freq         lag_diff  \\\n",
       "465                    0                    1     2              NaT   \n",
       "466                    0                    1     2 18 days 14:37:00   \n",
       "\n",
       "     readmn_days  \n",
       "465          NaN  \n",
       "466         18.0  \n",
       "\n",
       "[2 rows x 22 columns]"
      ]
     },
     "execution_count": 54,
     "metadata": {},
     "output_type": "execute_result"
    }
   ],
   "source": [
    "admissions_mod[admissions_mod.SUBJECT_ID==362]"
   ]
  },
  {
   "cell_type": "code",
   "execution_count": null,
   "metadata": {},
   "outputs": [],
   "source": []
  }
 ],
 "metadata": {
  "kernelspec": {
   "display_name": "Python 3",
   "language": "python",
   "name": "python3"
  },
  "language_info": {
   "codemirror_mode": {
    "name": "ipython",
    "version": 3
   },
   "file_extension": ".py",
   "mimetype": "text/x-python",
   "name": "python",
   "nbconvert_exporter": "python",
   "pygments_lexer": "ipython3",
   "version": "3.7.8"
  },
  "latex_envs": {
   "LaTeX_envs_menu_present": true,
   "autoclose": false,
   "autocomplete": true,
   "bibliofile": "biblio.bib",
   "cite_by": "apalike",
   "current_citInitial": 1,
   "eqLabelWithNumbers": true,
   "eqNumInitial": 1,
   "hotkeys": {
    "equation": "Ctrl-E",
    "itemize": "Ctrl-I"
   },
   "labels_anchors": false,
   "latex_user_defs": false,
   "report_style_numbering": false,
   "user_envs_cfg": false
  },
  "toc": {
   "base_numbering": 1,
   "nav_menu": {},
   "number_sections": true,
   "sideBar": true,
   "skip_h1_title": false,
   "title_cell": "Table of Contents",
   "title_sidebar": "Contents",
   "toc_cell": false,
   "toc_position": {},
   "toc_section_display": true,
   "toc_window_display": false
  },
  "varInspector": {
   "cols": {
    "lenName": 16,
    "lenType": 16,
    "lenVar": 40
   },
   "kernels_config": {
    "python": {
     "delete_cmd_postfix": "",
     "delete_cmd_prefix": "del ",
     "library": "var_list.py",
     "varRefreshCmd": "print(var_dic_list())"
    },
    "r": {
     "delete_cmd_postfix": ") ",
     "delete_cmd_prefix": "rm(",
     "library": "var_list.r",
     "varRefreshCmd": "cat(var_dic_list()) "
    }
   },
   "types_to_exclude": [
    "module",
    "function",
    "builtin_function_or_method",
    "instance",
    "_Feature"
   ],
   "window_display": false
  }
 },
 "nbformat": 4,
 "nbformat_minor": 4
}
