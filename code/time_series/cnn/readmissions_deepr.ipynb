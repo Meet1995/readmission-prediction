{
 "cells": [
  {
   "cell_type": "markdown",
   "metadata": {},
   "source": [
    "# Libraries"
   ]
  },
  {
   "cell_type": "code",
   "execution_count": 8,
   "metadata": {
    "ExecuteTime": {
     "end_time": "2020-05-15T15:31:29.286001Z",
     "start_time": "2020-05-15T15:31:29.274006Z"
    }
   },
   "outputs": [],
   "source": [
    "import pickle\n",
    "import pandas as pd\n",
    "from tqdm import tqdm\n",
    "import tensorflow as tf\n",
    "import matplotlib.pyplot as plt\n",
    "from gensim.models import Word2Vec\n",
    "from tensorflow.keras import callbacks\n",
    "from sklearn.model_selection import train_test_split\n",
    "from sklearn.metrics import roc_curve, auc, roc_auc_score\n",
    "\n",
    "from pep_modules import patientai as pai"
   ]
  },
  {
   "cell_type": "code",
   "execution_count": 2,
   "metadata": {},
   "outputs": [],
   "source": [
    "def plot_roc_curve(y_true, y_score, roc_auc_score, title):\n",
    "    fpr, tpr, _ = roc_curve(y_true, y_score)\n",
    "    plt.figure(figsize=(10,7))\n",
    "    lw = 2\n",
    "    plt.plot(fpr, tpr, color='darkorange',\n",
    "             lw=lw, label='ROC curve (area = %0.2f)' % roc_auc_score)\n",
    "    plt.plot([0, 1], [0, 1], color='navy', lw=lw, linestyle='--')\n",
    "    plt.xlim([0.0, 1.0])\n",
    "    plt.ylim([0.0, 1.05])\n",
    "    plt.xlabel('False Positive Rate')\n",
    "    plt.ylabel('True Positive Rate')\n",
    "    plt.title(title)\n",
    "    plt.legend(loc=\"lower right\")\n",
    "    plt.show()"
   ]
  },
  {
   "cell_type": "markdown",
   "metadata": {},
   "source": [
    "# Loading data"
   ]
  },
  {
   "cell_type": "code",
   "execution_count": 26,
   "metadata": {
    "ExecuteTime": {
     "end_time": "2020-05-15T14:49:18.190745Z",
     "start_time": "2020-05-15T14:49:04.811114Z"
    }
   },
   "outputs": [],
   "source": [
    "cross_df = pd.read_pickle(r'../data/cross_data.pkl')\n",
    "targets_df = pd.read_pickle(r'../data/target.pkl')\n",
    "\n",
    "x_train_static = pd.read_pickle(r'../data/train_static.pkl')\n",
    "x_val_static = pd.read_pickle(r'../data/val_static.pkl')\n",
    "x_test_static = pd.read_pickle(r'../data/test_static.pkl')"
   ]
  },
  {
   "cell_type": "code",
   "execution_count": 4,
   "metadata": {
    "ExecuteTime": {
     "end_time": "2020-05-15T14:49:18.262936Z",
     "start_time": "2020-05-15T14:49:18.246895Z"
    }
   },
   "outputs": [
    {
     "name": "stdout",
     "output_type": "stream",
     "text": [
      "(45980, 4)\n"
     ]
    },
    {
     "data": {
      "text/html": [
       "<div>\n",
       "<style scoped>\n",
       "    .dataframe tbody tr th:only-of-type {\n",
       "        vertical-align: middle;\n",
       "    }\n",
       "\n",
       "    .dataframe tbody tr th {\n",
       "        vertical-align: top;\n",
       "    }\n",
       "\n",
       "    .dataframe thead th {\n",
       "        text-align: right;\n",
       "    }\n",
       "</style>\n",
       "<table border=\"1\" class=\"dataframe\">\n",
       "  <thead>\n",
       "    <tr style=\"text-align: right;\">\n",
       "      <th></th>\n",
       "      <th>pat_id</th>\n",
       "      <th>journey</th>\n",
       "      <th>event_day</th>\n",
       "      <th>marked_journey</th>\n",
       "    </tr>\n",
       "  </thead>\n",
       "  <tbody>\n",
       "    <tr>\n",
       "      <th>0</th>\n",
       "      <td>2</td>\n",
       "      <td>[NEO*IV*Gentamicin, Syringe (Neonatal) *D5W*, ...</td>\n",
       "      <td>[1, 2, 3, 4, 5, 6, 7, 8]</td>\n",
       "      <td>[NEO*IV*Gentamicin, Syringe (Neonatal) *D5W*, ...</td>\n",
       "    </tr>\n",
       "    <tr>\n",
       "      <th>1</th>\n",
       "      <td>3</td>\n",
       "      <td>[966.0, 3893.0, 9672.0, 8964.0, 9962.0, 9604.0...</td>\n",
       "      <td>[1, 2, 3, 4, 5, 6, 7, 8, 9, 10, 11, 12, 13, 14...</td>\n",
       "      <td>[966.0, 3893.0, 9672.0, 8964.0, 9962.0, 9604.0...</td>\n",
       "    </tr>\n",
       "    <tr>\n",
       "      <th>2</th>\n",
       "      <td>4</td>\n",
       "      <td>[D5W, Vancomycin HCl, Potassium Chloride, Insu...</td>\n",
       "      <td>[1, 2, 3, 4, 5, 6, 7, 8, 9, 10, 11, 12, 13, 14...</td>\n",
       "      <td>[D5W, Vancomycin HCl, Potassium Chloride, Insu...</td>\n",
       "    </tr>\n",
       "    <tr>\n",
       "      <th>3</th>\n",
       "      <td>5</td>\n",
       "      <td>[9955.0, V290, V053, V3000]</td>\n",
       "      <td>[1, 2, 3, 4]</td>\n",
       "      <td>[9955.0, V290, V053, V3000]</td>\n",
       "    </tr>\n",
       "    <tr>\n",
       "      <th>4</th>\n",
       "      <td>6</td>\n",
       "      <td>[Tacrolimus, Tacrolimus, Valganciclovir HCl, W...</td>\n",
       "      <td>[1, 2, 3, 4, 5, 6, 7, 8, 9, 10, 11, 12, 13, 14...</td>\n",
       "      <td>[Tacrolimus, Tacrolimus, Valganciclovir HCl, W...</td>\n",
       "    </tr>\n",
       "  </tbody>\n",
       "</table>\n",
       "</div>"
      ],
      "text/plain": [
       "   pat_id                                            journey  \\\n",
       "0       2  [NEO*IV*Gentamicin, Syringe (Neonatal) *D5W*, ...   \n",
       "1       3  [966.0, 3893.0, 9672.0, 8964.0, 9962.0, 9604.0...   \n",
       "2       4  [D5W, Vancomycin HCl, Potassium Chloride, Insu...   \n",
       "3       5                        [9955.0, V290, V053, V3000]   \n",
       "4       6  [Tacrolimus, Tacrolimus, Valganciclovir HCl, W...   \n",
       "\n",
       "                                           event_day  \\\n",
       "0                           [1, 2, 3, 4, 5, 6, 7, 8]   \n",
       "1  [1, 2, 3, 4, 5, 6, 7, 8, 9, 10, 11, 12, 13, 14...   \n",
       "2  [1, 2, 3, 4, 5, 6, 7, 8, 9, 10, 11, 12, 13, 14...   \n",
       "3                                       [1, 2, 3, 4]   \n",
       "4  [1, 2, 3, 4, 5, 6, 7, 8, 9, 10, 11, 12, 13, 14...   \n",
       "\n",
       "                                      marked_journey  \n",
       "0  [NEO*IV*Gentamicin, Syringe (Neonatal) *D5W*, ...  \n",
       "1  [966.0, 3893.0, 9672.0, 8964.0, 9962.0, 9604.0...  \n",
       "2  [D5W, Vancomycin HCl, Potassium Chloride, Insu...  \n",
       "3                        [9955.0, V290, V053, V3000]  \n",
       "4  [Tacrolimus, Tacrolimus, Valganciclovir HCl, W...  "
      ]
     },
     "execution_count": 4,
     "metadata": {},
     "output_type": "execute_result"
    }
   ],
   "source": [
    "print(cross_df.shape)\n",
    "cross_df.head()"
   ]
  },
  {
   "cell_type": "code",
   "execution_count": 6,
   "metadata": {
    "ExecuteTime": {
     "end_time": "2020-05-15T14:49:18.717236Z",
     "start_time": "2020-05-15T14:49:18.712725Z"
    }
   },
   "outputs": [
    {
     "data": {
      "text/plain": [
       "3.357981731187473"
      ]
     },
     "execution_count": 6,
     "metadata": {},
     "output_type": "execute_result"
    }
   ],
   "source": [
    "# CLass imbalance\n",
    "targets_df.switch_flag.sum()*100/len(targets_df)"
   ]
  },
  {
   "cell_type": "code",
   "execution_count": 29,
   "metadata": {
    "ExecuteTime": {
     "end_time": "2020-05-15T14:49:24.077122Z",
     "start_time": "2020-05-15T14:49:24.043033Z"
    }
   },
   "outputs": [],
   "source": [
    "X1, X_test, y1, y_test = train_test_split(cross_df, targets_df, test_size=0.20, random_state=42)\n",
    "X_train, X_val, y_train, y_val = train_test_split(X1, y1, test_size=0.15, random_state=42)"
   ]
  },
  {
   "cell_type": "markdown",
   "metadata": {},
   "source": [
    "# Best Results"
   ]
  },
  {
   "cell_type": "code",
   "execution_count": 27,
   "metadata": {},
   "outputs": [],
   "source": [
    "# best parameters without and with static features\n",
    "w2v_dim_static = 32\n",
    "jlen_static = 85\n",
    "window_size_static = 5\n",
    "\n",
    "w2v_dim = 128\n",
    "jlen = 120\n",
    "window_size = 6"
   ]
  },
  {
   "cell_type": "markdown",
   "metadata": {},
   "source": [
    "## Without static "
   ]
  },
  {
   "cell_type": "code",
   "execution_count": 28,
   "metadata": {},
   "outputs": [],
   "source": [
    "loaded_word2vec = Word2Vec.load(f'../saved_models/word2vec_{w2v_dim}.model')"
   ]
  },
  {
   "cell_type": "code",
   "execution_count": 33,
   "metadata": {
    "ExecuteTime": {
     "end_time": "2020-05-15T14:49:33.387906Z",
     "start_time": "2020-05-15T14:49:26.712521Z"
    }
   },
   "outputs": [
    {
     "name": "stdout",
     "output_type": "stream",
     "text": [
      "(31266, 128, 120, 1) (5518, 128, 120, 1) (9196, 128, 120, 1)\n"
     ]
    }
   ],
   "source": [
    "x_train_tensor, y_train_tensor = pai.get_all_tensors_deepr(X_train,'journey',\n",
    "                                                                 y_train,'switch_flag',loaded_word2vec,jlen)\n",
    "x_val_tensor, y_val_tensor = pai.get_all_tensors_deepr(X_val,'journey',\n",
    "                                                             y_val,'switch_flag',loaded_word2vec,jlen)\n",
    "x_test_tensor, y_test_tensor = pai.get_all_tensors_deepr(X_test,'journey',\n",
    "                                                               y_test,'switch_flag',loaded_word2vec,jlen)\n",
    "\n",
    "print(x_train_tensor.shape, x_val_tensor.shape, x_test_tensor.shape)"
   ]
  },
  {
   "cell_type": "code",
   "execution_count": 34,
   "metadata": {
    "ExecuteTime": {
     "end_time": "2020-05-15T14:49:36.604733Z",
     "start_time": "2020-05-15T14:49:35.324847Z"
    }
   },
   "outputs": [
    {
     "data": {
      "text/plain": [
       "<tensorflow.python.training.tracking.util.CheckpointLoadStatus at 0x209fbdcea88>"
      ]
     },
     "execution_count": 34,
     "metadata": {},
     "output_type": "execute_result"
    }
   ],
   "source": [
    "model = pai.build_model_deepr(input_shape=(w2v_dim,jlen,1), kernel_size=(w2v_dim,window_size), show_summary=False)\n",
    "model.load_weights(f'../saved_models/deepr_tuning/deepr_w2v{w2v_dim}_jlen{jlen}_win{window_size}')"
   ]
  },
  {
   "cell_type": "code",
   "execution_count": 35,
   "metadata": {
    "ExecuteTime": {
     "end_time": "2020-05-15T14:59:54.406606Z",
     "start_time": "2020-05-15T14:59:50.215788Z"
    }
   },
   "outputs": [
    {
     "name": "stdout",
     "output_type": "stream",
     "text": [
      "31266/31266 [==============================] - 7s 219us/sample - loss: 0.1271 - my_auc: 0.7852\n"
     ]
    }
   ],
   "source": [
    "trn_result = model.evaluate(x_train_tensor,y_train_tensor)"
   ]
  },
  {
   "cell_type": "code",
   "execution_count": 39,
   "metadata": {
    "ExecuteTime": {
     "end_time": "2020-05-15T15:16:07.979819Z",
     "start_time": "2020-05-15T15:16:06.379351Z"
    }
   },
   "outputs": [
    {
     "name": "stdout",
     "output_type": "stream",
     "text": [
      "5518/5518 [==============================] - 1s 175us/sample - loss: 0.1568 - my_auc: 0.6514\n"
     ]
    }
   ],
   "source": [
    "val_results = model.evaluate(x_val_tensor,y_val_tensor)"
   ]
  },
  {
   "cell_type": "code",
   "execution_count": 40,
   "metadata": {
    "ExecuteTime": {
     "end_time": "2020-05-15T15:46:47.422398Z",
     "start_time": "2020-05-15T15:46:42.840542Z"
    },
    "scrolled": true
   },
   "outputs": [
    {
     "name": "stdout",
     "output_type": "stream",
     "text": [
      "9196/9196 [==============================] - 2s 176us/sample - loss: 0.1457 - my_auc: 0.6769\n"
     ]
    }
   ],
   "source": [
    "test_results = model.evaluate(x_test_tensor,y_test_tensor)\n",
    "y_test_pred = model.predict(x_test_tensor)"
   ]
  },
  {
   "cell_type": "code",
   "execution_count": 41,
   "metadata": {
    "ExecuteTime": {
     "end_time": "2020-05-15T15:47:42.766610Z",
     "start_time": "2020-05-15T15:47:42.602503Z"
    }
   },
   "outputs": [
    {
     "data": {
      "image/png": "[encoded data removed]",
      "text/plain": [
       "<Figure size 720x504 with 1 Axes>"
      ]
     },
     "metadata": {
      "needs_background": "light"
     },
     "output_type": "display_data"
    }
   ],
   "source": [
    "plot_roc_curve(y_test_tensor, y_test_pred, test_results[1], 'ROC curve: Test Data, Deepr')"
   ]
  },
  {
   "cell_type": "markdown",
   "metadata": {},
   "source": [
    "# Static Features"
   ]
  },
  {
   "cell_type": "code",
   "execution_count": 42,
   "metadata": {},
   "outputs": [],
   "source": [
    "loaded_word2vec = Word2Vec.load(f'../saved_models/word2vec_{w2v_dim_static}.model')"
   ]
  },
  {
   "cell_type": "code",
   "execution_count": 43,
   "metadata": {
    "ExecuteTime": {
     "end_time": "2020-05-15T14:49:33.387906Z",
     "start_time": "2020-05-15T14:49:26.712521Z"
    }
   },
   "outputs": [
    {
     "name": "stdout",
     "output_type": "stream",
     "text": [
      "(31266, 32, 85, 1) (5518, 32, 85, 1) (9196, 32, 85, 1)\n"
     ]
    }
   ],
   "source": [
    "x_train_tensor, y_train_tensor = pai.get_all_tensors_deepr(X_train,'journey',\n",
    "                                                                 y_train,'switch_flag',loaded_word2vec,jlen_static)\n",
    "x_val_tensor, y_val_tensor = pai.get_all_tensors_deepr(X_val,'journey',\n",
    "                                                             y_val,'switch_flag',loaded_word2vec,jlen_static)\n",
    "x_test_tensor, y_test_tensor = pai.get_all_tensors_deepr(X_test,'journey',\n",
    "                                                               y_test,'switch_flag',loaded_word2vec,jlen_static)\n",
    "\n",
    "print(x_train_tensor.shape, x_val_tensor.shape, x_test_tensor.shape)"
   ]
  },
  {
   "cell_type": "code",
   "execution_count": 44,
   "metadata": {
    "ExecuteTime": {
     "end_time": "2020-05-15T14:49:36.604733Z",
     "start_time": "2020-05-15T14:49:35.324847Z"
    }
   },
   "outputs": [
    {
     "data": {
      "text/plain": [
       "<tensorflow.python.training.tracking.util.CheckpointLoadStatus at 0x209a665e548>"
      ]
     },
     "execution_count": 44,
     "metadata": {},
     "output_type": "execute_result"
    }
   ],
   "source": [
    "model = pai.build_model_deepr(input_shape=(w2v_dim_static,jlen_static,1), kernel_size=(w2v_dim_static,window_size_static), n_static=182, show_summary=False)\n",
    "model.load_weights(f'../saved_models/deepr_tuning/static_deepr_w2v{w2v_dim_static}_jlen{jlen_static}_win{window_size_static}')"
   ]
  },
  {
   "cell_type": "code",
   "execution_count": 46,
   "metadata": {
    "ExecuteTime": {
     "end_time": "2020-05-15T14:59:54.406606Z",
     "start_time": "2020-05-15T14:59:50.215788Z"
    }
   },
   "outputs": [
    {
     "name": "stdout",
     "output_type": "stream",
     "text": [
      "31266/31266 [==============================] - 5s 150us/sample - loss: 0.0892 - my_auc: 0.9297\n"
     ]
    }
   ],
   "source": [
    "trn_result = model.evaluate([x_train_tensor,x_train_static],y_train_tensor)"
   ]
  },
  {
   "cell_type": "code",
   "execution_count": 47,
   "metadata": {
    "ExecuteTime": {
     "end_time": "2020-05-15T15:16:07.979819Z",
     "start_time": "2020-05-15T15:16:06.379351Z"
    }
   },
   "outputs": [
    {
     "name": "stdout",
     "output_type": "stream",
     "text": [
      "5518/5518 [==============================] - 1s 126us/sample - loss: 0.1593 - my_auc: 0.7230\n"
     ]
    }
   ],
   "source": [
    "val_results = model.evaluate([x_val_tensor, x_val_static],y_val_tensor)"
   ]
  },
  {
   "cell_type": "code",
   "execution_count": 50,
   "metadata": {
    "ExecuteTime": {
     "end_time": "2020-05-15T15:46:47.422398Z",
     "start_time": "2020-05-15T15:46:42.840542Z"
    },
    "scrolled": true
   },
   "outputs": [
    {
     "name": "stdout",
     "output_type": "stream",
     "text": [
      "9196/9196 [==============================] - 1s 147us/sample - loss: 0.1461 - my_auc: 0.7405\n"
     ]
    }
   ],
   "source": [
    "test_results = model.evaluate([x_test_tensor,x_test_static],y_test_tensor)\n",
    "y_test_pred = model.predict([x_test_tensor,x_test_static])"
   ]
  },
  {
   "cell_type": "code",
   "execution_count": 53,
   "metadata": {
    "ExecuteTime": {
     "end_time": "2020-05-15T15:32:38.291269Z",
     "start_time": "2020-05-15T15:32:38.132772Z"
    }
   },
   "outputs": [
    {
     "data": {
      "image/png": "[encoded data removed]",
      "text/plain": [
       "<Figure size 720x504 with 1 Axes>"
      ]
     },
     "metadata": {
      "needs_background": "light"
     },
     "output_type": "display_data"
    }
   ],
   "source": [
    "plot_roc_curve(y_test_tensor, y_test_pred, test_results[1], 'ROC curve: Test Data, Deepr with Static Features')"
   ]
  },
  {
   "cell_type": "code",
   "execution_count": null,
   "metadata": {},
   "outputs": [],
   "source": []
  }
 ],
 "metadata": {
  "kernelspec": {
   "display_name": "SPN",
   "language": "python",
   "name": "project_spn"
  },
  "language_info": {
   "codemirror_mode": {
    "name": "ipython",
    "version": 3
   },
   "file_extension": ".py",
   "mimetype": "text/x-python",
   "name": "python",
   "nbconvert_exporter": "python",
   "pygments_lexer": "ipython3",
   "version": "3.8.6"
  },
  "toc": {
   "base_numbering": 1,
   "nav_menu": {},
   "number_sections": true,
   "sideBar": true,
   "skip_h1_title": false,
   "title_cell": "Table of Contents",
   "title_sidebar": "Contents",
   "toc_cell": false,
   "toc_position": {},
   "toc_section_display": true,
   "toc_window_display": false
  },
  "varInspector": {
   "cols": {
    "lenName": 16,
    "lenType": 16,
    "lenVar": 40
   },
   "kernels_config": {
    "python": {
     "delete_cmd_postfix": "",
     "delete_cmd_prefix": "del ",
     "library": "var_list.py",
     "varRefreshCmd": "print(var_dic_list())"
    },
    "r": {
     "delete_cmd_postfix": ") ",
     "delete_cmd_prefix": "rm(",
     "library": "var_list.r",
     "varRefreshCmd": "cat(var_dic_list()) "
    }
   },
   "types_to_exclude": [
    "module",
    "function",
    "builtin_function_or_method",
    "instance",
    "_Feature"
   ],
   "window_display": false
  }
 },
 "nbformat": 4,
 "nbformat_minor": 4
}
